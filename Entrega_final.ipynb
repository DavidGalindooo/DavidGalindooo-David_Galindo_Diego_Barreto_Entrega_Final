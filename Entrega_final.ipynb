{
  "nbformat": 4,
  "nbformat_minor": 0,
  "metadata": {
    "colab": {
      "name": "DAVID.ipynb",
      "provenance": [],
      "collapsed_sections": []
    },
    "kernelspec": {
      "name": "python3",
      "display_name": "Python 3"
    },
    "language_info": {
      "name": "python"
    }
  },
  "cells": [
    {
      "cell_type": "code",
      "source": [
        "!pip install Dash\n",
        "\n",
        "import plotly.express as px\n",
        "import pandas as pd\n",
        "import plotly.graph_objects as go\n",
        "import dash\n",
        "import dash_core_components as dcc\n",
        "import dash_html_components as html\n",
        "from dash import Dash\n"
      ],
      "metadata": {
        "colab": {
          "base_uri": "https://localhost:8080/"
        },
        "id": "iXghZ0uamGO8",
        "outputId": "5ce9cda1-6090-4a7c-bd77-c31160d84854"
      },
      "execution_count": 1,
      "outputs": [
        {
          "output_type": "stream",
          "name": "stdout",
          "text": [
            "Looking in indexes: https://pypi.org/simple, https://us-python.pkg.dev/colab-wheels/public/simple/\n",
            "Collecting Dash\n",
            "  Downloading dash-2.4.1-py3-none-any.whl (9.8 MB)\n",
            "\u001b[K     |████████████████████████████████| 9.8 MB 15.6 MB/s \n",
            "\u001b[?25hCollecting dash-html-components==2.0.0\n",
            "  Downloading dash_html_components-2.0.0-py3-none-any.whl (4.1 kB)\n",
            "Collecting dash-core-components==2.0.0\n",
            "  Downloading dash_core_components-2.0.0-py3-none-any.whl (3.8 kB)\n",
            "Requirement already satisfied: Flask>=1.0.4 in /usr/local/lib/python3.7/dist-packages (from Dash) (1.1.4)\n",
            "Requirement already satisfied: plotly>=5.0.0 in /usr/local/lib/python3.7/dist-packages (from Dash) (5.5.0)\n",
            "Collecting dash-table==5.0.0\n",
            "  Downloading dash_table-5.0.0-py3-none-any.whl (3.9 kB)\n",
            "Collecting flask-compress\n",
            "  Downloading Flask_Compress-1.12-py3-none-any.whl (7.9 kB)\n",
            "Requirement already satisfied: itsdangerous<2.0,>=0.24 in /usr/local/lib/python3.7/dist-packages (from Flask>=1.0.4->Dash) (1.1.0)\n",
            "Requirement already satisfied: Werkzeug<2.0,>=0.15 in /usr/local/lib/python3.7/dist-packages (from Flask>=1.0.4->Dash) (1.0.1)\n",
            "Requirement already satisfied: Jinja2<3.0,>=2.10.1 in /usr/local/lib/python3.7/dist-packages (from Flask>=1.0.4->Dash) (2.11.3)\n",
            "Requirement already satisfied: click<8.0,>=5.1 in /usr/local/lib/python3.7/dist-packages (from Flask>=1.0.4->Dash) (7.1.2)\n",
            "Requirement already satisfied: MarkupSafe>=0.23 in /usr/local/lib/python3.7/dist-packages (from Jinja2<3.0,>=2.10.1->Flask>=1.0.4->Dash) (2.0.1)\n",
            "Requirement already satisfied: tenacity>=6.2.0 in /usr/local/lib/python3.7/dist-packages (from plotly>=5.0.0->Dash) (8.0.1)\n",
            "Requirement already satisfied: six in /usr/local/lib/python3.7/dist-packages (from plotly>=5.0.0->Dash) (1.15.0)\n",
            "Collecting brotli\n",
            "  Downloading Brotli-1.0.9-cp37-cp37m-manylinux1_x86_64.whl (357 kB)\n",
            "\u001b[K     |████████████████████████████████| 357 kB 44.0 MB/s \n",
            "\u001b[?25hInstalling collected packages: brotli, flask-compress, dash-table, dash-html-components, dash-core-components, Dash\n",
            "Successfully installed Dash-2.4.1 brotli-1.0.9 dash-core-components-2.0.0 dash-html-components-2.0.0 dash-table-5.0.0 flask-compress-1.12\n"
          ]
        },
        {
          "output_type": "stream",
          "name": "stderr",
          "text": [
            "/usr/local/lib/python3.7/dist-packages/ipykernel_launcher.py:7: UserWarning: \n",
            "The dash_core_components package is deprecated. Please replace\n",
            "`import dash_core_components as dcc` with `from dash import dcc`\n",
            "  import sys\n",
            "/usr/local/lib/python3.7/dist-packages/ipykernel_launcher.py:8: UserWarning: \n",
            "The dash_html_components package is deprecated. Please replace\n",
            "`import dash_html_components as html` with `from dash import html`\n",
            "  \n"
          ]
        }
      ]
    },
    {
      "cell_type": "code",
      "source": [
        "app = dash.Dash(__name__)"
      ],
      "metadata": {
        "id": "tj95TNB-6C3D"
      },
      "execution_count": 2,
      "outputs": []
    },
    {
      "cell_type": "code",
      "source": [
        "from google.colab import drive\n",
        "drive.mount('/content/drive')"
      ],
      "metadata": {
        "colab": {
          "base_uri": "https://localhost:8080/"
        },
        "id": "e46JDt-N5yRN",
        "outputId": "d6d52e3e-1cde-4d6c-89c2-d31d24f7b982"
      },
      "execution_count": 5,
      "outputs": [
        {
          "output_type": "stream",
          "name": "stdout",
          "text": [
            "Mounted at /content/drive\n"
          ]
        }
      ]
    },
    {
      "cell_type": "code",
      "execution_count": 6,
      "metadata": {
        "id": "Fxtb3E-le5Pc"
      },
      "outputs": [],
      "source": [
        "DATA = pd.read_excel('/content/drive/MyDrive/ACCIDENTALIDAD_BARRANQUILLA.xlsx')"
      ]
    },
    {
      "cell_type": "code",
      "source": [
        "DATA.head()"
      ],
      "metadata": {
        "colab": {
          "base_uri": "https://localhost:8080/",
          "height": 270
        },
        "id": "J1zOdKlNnavC",
        "outputId": "0d85e487-5426-4e09-822c-10e23ffb373c"
      },
      "execution_count": 7,
      "outputs": [
        {
          "output_type": "execute_result",
          "data": {
            "text/plain": [
              "   AÑO_ACCIDENTE MES_ACCIDENTE CONDICION_VICTIMA GRAVEDAD_ACCIDENTE  \\\n",
              "0          2.018         Marzo          Pasajero             herido   \n",
              "1          2.018         Junio          Pasajero             herido   \n",
              "2          2.018         Marzo       Acompañante             herido   \n",
              "3          2.018         Abril       Acompañante             herido   \n",
              "4          2.018          Mayo       Acompañante             herido   \n",
              "\n",
              "  CLASE_ACCIDENTE SERVICIO_VEHICULO_VICTIMA CLASE_VEHICULO_VICTIMA  \\\n",
              "0          Choque                   PUBLICO                 BUSETA   \n",
              "1          Choque                   PUBLICO              AUTOMOVIL   \n",
              "2          Choque                PARTICULAR            MOTOCICLETA   \n",
              "3          Choque                PARTICULAR              AUTOMOVIL   \n",
              "4          Choque                PARTICULAR            MOTOCICLETA   \n",
              "\n",
              "  SEXO_VICTIMA  EDAD_VICTIMA  CANTIDAD_VICTIMAS  MES  \n",
              "0            M           1.0                1.0  3.0  \n",
              "1            F           1.0                1.0  6.0  \n",
              "2            M          10.0                1.0  3.0  \n",
              "3            M          10.0                1.0  4.0  \n",
              "4            M          10.0                1.0  5.0  "
            ],
            "text/html": [
              "\n",
              "  <div id=\"df-801cd2fd-833b-439c-8fea-636247cf16d6\">\n",
              "    <div class=\"colab-df-container\">\n",
              "      <div>\n",
              "<style scoped>\n",
              "    .dataframe tbody tr th:only-of-type {\n",
              "        vertical-align: middle;\n",
              "    }\n",
              "\n",
              "    .dataframe tbody tr th {\n",
              "        vertical-align: top;\n",
              "    }\n",
              "\n",
              "    .dataframe thead th {\n",
              "        text-align: right;\n",
              "    }\n",
              "</style>\n",
              "<table border=\"1\" class=\"dataframe\">\n",
              "  <thead>\n",
              "    <tr style=\"text-align: right;\">\n",
              "      <th></th>\n",
              "      <th>AÑO_ACCIDENTE</th>\n",
              "      <th>MES_ACCIDENTE</th>\n",
              "      <th>CONDICION_VICTIMA</th>\n",
              "      <th>GRAVEDAD_ACCIDENTE</th>\n",
              "      <th>CLASE_ACCIDENTE</th>\n",
              "      <th>SERVICIO_VEHICULO_VICTIMA</th>\n",
              "      <th>CLASE_VEHICULO_VICTIMA</th>\n",
              "      <th>SEXO_VICTIMA</th>\n",
              "      <th>EDAD_VICTIMA</th>\n",
              "      <th>CANTIDAD_VICTIMAS</th>\n",
              "      <th>MES</th>\n",
              "    </tr>\n",
              "  </thead>\n",
              "  <tbody>\n",
              "    <tr>\n",
              "      <th>0</th>\n",
              "      <td>2.018</td>\n",
              "      <td>Marzo</td>\n",
              "      <td>Pasajero</td>\n",
              "      <td>herido</td>\n",
              "      <td>Choque</td>\n",
              "      <td>PUBLICO</td>\n",
              "      <td>BUSETA</td>\n",
              "      <td>M</td>\n",
              "      <td>1.0</td>\n",
              "      <td>1.0</td>\n",
              "      <td>3.0</td>\n",
              "    </tr>\n",
              "    <tr>\n",
              "      <th>1</th>\n",
              "      <td>2.018</td>\n",
              "      <td>Junio</td>\n",
              "      <td>Pasajero</td>\n",
              "      <td>herido</td>\n",
              "      <td>Choque</td>\n",
              "      <td>PUBLICO</td>\n",
              "      <td>AUTOMOVIL</td>\n",
              "      <td>F</td>\n",
              "      <td>1.0</td>\n",
              "      <td>1.0</td>\n",
              "      <td>6.0</td>\n",
              "    </tr>\n",
              "    <tr>\n",
              "      <th>2</th>\n",
              "      <td>2.018</td>\n",
              "      <td>Marzo</td>\n",
              "      <td>Acompañante</td>\n",
              "      <td>herido</td>\n",
              "      <td>Choque</td>\n",
              "      <td>PARTICULAR</td>\n",
              "      <td>MOTOCICLETA</td>\n",
              "      <td>M</td>\n",
              "      <td>10.0</td>\n",
              "      <td>1.0</td>\n",
              "      <td>3.0</td>\n",
              "    </tr>\n",
              "    <tr>\n",
              "      <th>3</th>\n",
              "      <td>2.018</td>\n",
              "      <td>Abril</td>\n",
              "      <td>Acompañante</td>\n",
              "      <td>herido</td>\n",
              "      <td>Choque</td>\n",
              "      <td>PARTICULAR</td>\n",
              "      <td>AUTOMOVIL</td>\n",
              "      <td>M</td>\n",
              "      <td>10.0</td>\n",
              "      <td>1.0</td>\n",
              "      <td>4.0</td>\n",
              "    </tr>\n",
              "    <tr>\n",
              "      <th>4</th>\n",
              "      <td>2.018</td>\n",
              "      <td>Mayo</td>\n",
              "      <td>Acompañante</td>\n",
              "      <td>herido</td>\n",
              "      <td>Choque</td>\n",
              "      <td>PARTICULAR</td>\n",
              "      <td>MOTOCICLETA</td>\n",
              "      <td>M</td>\n",
              "      <td>10.0</td>\n",
              "      <td>1.0</td>\n",
              "      <td>5.0</td>\n",
              "    </tr>\n",
              "  </tbody>\n",
              "</table>\n",
              "</div>\n",
              "      <button class=\"colab-df-convert\" onclick=\"convertToInteractive('df-801cd2fd-833b-439c-8fea-636247cf16d6')\"\n",
              "              title=\"Convert this dataframe to an interactive table.\"\n",
              "              style=\"display:none;\">\n",
              "        \n",
              "  <svg xmlns=\"http://www.w3.org/2000/svg\" height=\"24px\"viewBox=\"0 0 24 24\"\n",
              "       width=\"24px\">\n",
              "    <path d=\"M0 0h24v24H0V0z\" fill=\"none\"/>\n",
              "    <path d=\"M18.56 5.44l.94 2.06.94-2.06 2.06-.94-2.06-.94-.94-2.06-.94 2.06-2.06.94zm-11 1L8.5 8.5l.94-2.06 2.06-.94-2.06-.94L8.5 2.5l-.94 2.06-2.06.94zm10 10l.94 2.06.94-2.06 2.06-.94-2.06-.94-.94-2.06-.94 2.06-2.06.94z\"/><path d=\"M17.41 7.96l-1.37-1.37c-.4-.4-.92-.59-1.43-.59-.52 0-1.04.2-1.43.59L10.3 9.45l-7.72 7.72c-.78.78-.78 2.05 0 2.83L4 21.41c.39.39.9.59 1.41.59.51 0 1.02-.2 1.41-.59l7.78-7.78 2.81-2.81c.8-.78.8-2.07 0-2.86zM5.41 20L4 18.59l7.72-7.72 1.47 1.35L5.41 20z\"/>\n",
              "  </svg>\n",
              "      </button>\n",
              "      \n",
              "  <style>\n",
              "    .colab-df-container {\n",
              "      display:flex;\n",
              "      flex-wrap:wrap;\n",
              "      gap: 12px;\n",
              "    }\n",
              "\n",
              "    .colab-df-convert {\n",
              "      background-color: #E8F0FE;\n",
              "      border: none;\n",
              "      border-radius: 50%;\n",
              "      cursor: pointer;\n",
              "      display: none;\n",
              "      fill: #1967D2;\n",
              "      height: 32px;\n",
              "      padding: 0 0 0 0;\n",
              "      width: 32px;\n",
              "    }\n",
              "\n",
              "    .colab-df-convert:hover {\n",
              "      background-color: #E2EBFA;\n",
              "      box-shadow: 0px 1px 2px rgba(60, 64, 67, 0.3), 0px 1px 3px 1px rgba(60, 64, 67, 0.15);\n",
              "      fill: #174EA6;\n",
              "    }\n",
              "\n",
              "    [theme=dark] .colab-df-convert {\n",
              "      background-color: #3B4455;\n",
              "      fill: #D2E3FC;\n",
              "    }\n",
              "\n",
              "    [theme=dark] .colab-df-convert:hover {\n",
              "      background-color: #434B5C;\n",
              "      box-shadow: 0px 1px 3px 1px rgba(0, 0, 0, 0.15);\n",
              "      filter: drop-shadow(0px 1px 2px rgba(0, 0, 0, 0.3));\n",
              "      fill: #FFFFFF;\n",
              "    }\n",
              "  </style>\n",
              "\n",
              "      <script>\n",
              "        const buttonEl =\n",
              "          document.querySelector('#df-801cd2fd-833b-439c-8fea-636247cf16d6 button.colab-df-convert');\n",
              "        buttonEl.style.display =\n",
              "          google.colab.kernel.accessAllowed ? 'block' : 'none';\n",
              "\n",
              "        async function convertToInteractive(key) {\n",
              "          const element = document.querySelector('#df-801cd2fd-833b-439c-8fea-636247cf16d6');\n",
              "          const dataTable =\n",
              "            await google.colab.kernel.invokeFunction('convertToInteractive',\n",
              "                                                     [key], {});\n",
              "          if (!dataTable) return;\n",
              "\n",
              "          const docLinkHtml = 'Like what you see? Visit the ' +\n",
              "            '<a target=\"_blank\" href=https://colab.research.google.com/notebooks/data_table.ipynb>data table notebook</a>'\n",
              "            + ' to learn more about interactive tables.';\n",
              "          element.innerHTML = '';\n",
              "          dataTable['output_type'] = 'display_data';\n",
              "          await google.colab.output.renderOutput(dataTable, element);\n",
              "          const docLink = document.createElement('div');\n",
              "          docLink.innerHTML = docLinkHtml;\n",
              "          element.appendChild(docLink);\n",
              "        }\n",
              "      </script>\n",
              "    </div>\n",
              "  </div>\n",
              "  "
            ]
          },
          "metadata": {},
          "execution_count": 7
        }
      ]
    },
    {
      "cell_type": "code",
      "source": [
        "available_CLASE_VEHICULO_ACCIDENTE = DATA['CLASE_VEHICULO_VICTIMA'].unique()\n",
        "available_SEXO_VICTIMA = DATA[\"SEXO_VICTIMA\"].unique()"
      ],
      "metadata": {
        "id": "fjhthbSKo5I-"
      },
      "execution_count": 8,
      "outputs": []
    },
    {
      "cell_type": "code",
      "source": [
        "tab = DATA['CLASE_VEHICULO_VICTIMA'].value_counts().rename_axis('label').reset_index(name='counts')\n",
        "tab"
      ],
      "metadata": {
        "colab": {
          "base_uri": "https://localhost:8080/",
          "height": 582
        },
        "id": "L0lPJZjCsNrX",
        "outputId": "7921e23a-ea8b-4d26-98fe-89d0956ac068"
      },
      "execution_count": 9,
      "outputs": [
        {
          "output_type": "execute_result",
          "data": {
            "text/plain": [
              "                  label  counts\n",
              "0           MOTOCICLETA    2051\n",
              "1             AUTOMOVIL     735\n",
              "2                   BUS     232\n",
              "3             CAMIONETA     129\n",
              "4                BUSETA      96\n",
              "5             BICICLETA      87\n",
              "6                 OTROS      74\n",
              "7              MICROBUS      60\n",
              "8                CAMION      28\n",
              "9               CAMPERO      20\n",
              "10        TRACTO/CAMION      10\n",
              "11             VOLQUETA       5\n",
              "12      TRACCION ANIMAL       4\n",
              "13            MOTOCARRO       3\n",
              "14  MAQUINARIA AGRICOLA       2\n",
              "15           CICLO TAXI       2\n",
              "16             REMOLQUE       1"
            ],
            "text/html": [
              "\n",
              "  <div id=\"df-f3804c3d-7993-4df0-9411-d01ce6701d25\">\n",
              "    <div class=\"colab-df-container\">\n",
              "      <div>\n",
              "<style scoped>\n",
              "    .dataframe tbody tr th:only-of-type {\n",
              "        vertical-align: middle;\n",
              "    }\n",
              "\n",
              "    .dataframe tbody tr th {\n",
              "        vertical-align: top;\n",
              "    }\n",
              "\n",
              "    .dataframe thead th {\n",
              "        text-align: right;\n",
              "    }\n",
              "</style>\n",
              "<table border=\"1\" class=\"dataframe\">\n",
              "  <thead>\n",
              "    <tr style=\"text-align: right;\">\n",
              "      <th></th>\n",
              "      <th>label</th>\n",
              "      <th>counts</th>\n",
              "    </tr>\n",
              "  </thead>\n",
              "  <tbody>\n",
              "    <tr>\n",
              "      <th>0</th>\n",
              "      <td>MOTOCICLETA</td>\n",
              "      <td>2051</td>\n",
              "    </tr>\n",
              "    <tr>\n",
              "      <th>1</th>\n",
              "      <td>AUTOMOVIL</td>\n",
              "      <td>735</td>\n",
              "    </tr>\n",
              "    <tr>\n",
              "      <th>2</th>\n",
              "      <td>BUS</td>\n",
              "      <td>232</td>\n",
              "    </tr>\n",
              "    <tr>\n",
              "      <th>3</th>\n",
              "      <td>CAMIONETA</td>\n",
              "      <td>129</td>\n",
              "    </tr>\n",
              "    <tr>\n",
              "      <th>4</th>\n",
              "      <td>BUSETA</td>\n",
              "      <td>96</td>\n",
              "    </tr>\n",
              "    <tr>\n",
              "      <th>5</th>\n",
              "      <td>BICICLETA</td>\n",
              "      <td>87</td>\n",
              "    </tr>\n",
              "    <tr>\n",
              "      <th>6</th>\n",
              "      <td>OTROS</td>\n",
              "      <td>74</td>\n",
              "    </tr>\n",
              "    <tr>\n",
              "      <th>7</th>\n",
              "      <td>MICROBUS</td>\n",
              "      <td>60</td>\n",
              "    </tr>\n",
              "    <tr>\n",
              "      <th>8</th>\n",
              "      <td>CAMION</td>\n",
              "      <td>28</td>\n",
              "    </tr>\n",
              "    <tr>\n",
              "      <th>9</th>\n",
              "      <td>CAMPERO</td>\n",
              "      <td>20</td>\n",
              "    </tr>\n",
              "    <tr>\n",
              "      <th>10</th>\n",
              "      <td>TRACTO/CAMION</td>\n",
              "      <td>10</td>\n",
              "    </tr>\n",
              "    <tr>\n",
              "      <th>11</th>\n",
              "      <td>VOLQUETA</td>\n",
              "      <td>5</td>\n",
              "    </tr>\n",
              "    <tr>\n",
              "      <th>12</th>\n",
              "      <td>TRACCION ANIMAL</td>\n",
              "      <td>4</td>\n",
              "    </tr>\n",
              "    <tr>\n",
              "      <th>13</th>\n",
              "      <td>MOTOCARRO</td>\n",
              "      <td>3</td>\n",
              "    </tr>\n",
              "    <tr>\n",
              "      <th>14</th>\n",
              "      <td>MAQUINARIA AGRICOLA</td>\n",
              "      <td>2</td>\n",
              "    </tr>\n",
              "    <tr>\n",
              "      <th>15</th>\n",
              "      <td>CICLO TAXI</td>\n",
              "      <td>2</td>\n",
              "    </tr>\n",
              "    <tr>\n",
              "      <th>16</th>\n",
              "      <td>REMOLQUE</td>\n",
              "      <td>1</td>\n",
              "    </tr>\n",
              "  </tbody>\n",
              "</table>\n",
              "</div>\n",
              "      <button class=\"colab-df-convert\" onclick=\"convertToInteractive('df-f3804c3d-7993-4df0-9411-d01ce6701d25')\"\n",
              "              title=\"Convert this dataframe to an interactive table.\"\n",
              "              style=\"display:none;\">\n",
              "        \n",
              "  <svg xmlns=\"http://www.w3.org/2000/svg\" height=\"24px\"viewBox=\"0 0 24 24\"\n",
              "       width=\"24px\">\n",
              "    <path d=\"M0 0h24v24H0V0z\" fill=\"none\"/>\n",
              "    <path d=\"M18.56 5.44l.94 2.06.94-2.06 2.06-.94-2.06-.94-.94-2.06-.94 2.06-2.06.94zm-11 1L8.5 8.5l.94-2.06 2.06-.94-2.06-.94L8.5 2.5l-.94 2.06-2.06.94zm10 10l.94 2.06.94-2.06 2.06-.94-2.06-.94-.94-2.06-.94 2.06-2.06.94z\"/><path d=\"M17.41 7.96l-1.37-1.37c-.4-.4-.92-.59-1.43-.59-.52 0-1.04.2-1.43.59L10.3 9.45l-7.72 7.72c-.78.78-.78 2.05 0 2.83L4 21.41c.39.39.9.59 1.41.59.51 0 1.02-.2 1.41-.59l7.78-7.78 2.81-2.81c.8-.78.8-2.07 0-2.86zM5.41 20L4 18.59l7.72-7.72 1.47 1.35L5.41 20z\"/>\n",
              "  </svg>\n",
              "      </button>\n",
              "      \n",
              "  <style>\n",
              "    .colab-df-container {\n",
              "      display:flex;\n",
              "      flex-wrap:wrap;\n",
              "      gap: 12px;\n",
              "    }\n",
              "\n",
              "    .colab-df-convert {\n",
              "      background-color: #E8F0FE;\n",
              "      border: none;\n",
              "      border-radius: 50%;\n",
              "      cursor: pointer;\n",
              "      display: none;\n",
              "      fill: #1967D2;\n",
              "      height: 32px;\n",
              "      padding: 0 0 0 0;\n",
              "      width: 32px;\n",
              "    }\n",
              "\n",
              "    .colab-df-convert:hover {\n",
              "      background-color: #E2EBFA;\n",
              "      box-shadow: 0px 1px 2px rgba(60, 64, 67, 0.3), 0px 1px 3px 1px rgba(60, 64, 67, 0.15);\n",
              "      fill: #174EA6;\n",
              "    }\n",
              "\n",
              "    [theme=dark] .colab-df-convert {\n",
              "      background-color: #3B4455;\n",
              "      fill: #D2E3FC;\n",
              "    }\n",
              "\n",
              "    [theme=dark] .colab-df-convert:hover {\n",
              "      background-color: #434B5C;\n",
              "      box-shadow: 0px 1px 3px 1px rgba(0, 0, 0, 0.15);\n",
              "      filter: drop-shadow(0px 1px 2px rgba(0, 0, 0, 0.3));\n",
              "      fill: #FFFFFF;\n",
              "    }\n",
              "  </style>\n",
              "\n",
              "      <script>\n",
              "        const buttonEl =\n",
              "          document.querySelector('#df-f3804c3d-7993-4df0-9411-d01ce6701d25 button.colab-df-convert');\n",
              "        buttonEl.style.display =\n",
              "          google.colab.kernel.accessAllowed ? 'block' : 'none';\n",
              "\n",
              "        async function convertToInteractive(key) {\n",
              "          const element = document.querySelector('#df-f3804c3d-7993-4df0-9411-d01ce6701d25');\n",
              "          const dataTable =\n",
              "            await google.colab.kernel.invokeFunction('convertToInteractive',\n",
              "                                                     [key], {});\n",
              "          if (!dataTable) return;\n",
              "\n",
              "          const docLinkHtml = 'Like what you see? Visit the ' +\n",
              "            '<a target=\"_blank\" href=https://colab.research.google.com/notebooks/data_table.ipynb>data table notebook</a>'\n",
              "            + ' to learn more about interactive tables.';\n",
              "          element.innerHTML = '';\n",
              "          dataTable['output_type'] = 'display_data';\n",
              "          await google.colab.output.renderOutput(dataTable, element);\n",
              "          const docLink = document.createElement('div');\n",
              "          docLink.innerHTML = docLinkHtml;\n",
              "          element.appendChild(docLink);\n",
              "        }\n",
              "      </script>\n",
              "    </div>\n",
              "  </div>\n",
              "  "
            ]
          },
          "metadata": {},
          "execution_count": 9
        }
      ]
    },
    {
      "cell_type": "code",
      "source": [
        "fig2 = go.Figure(data=[go.Pie(labels=tab['label'], values=tab['counts'], hole=.3)])\n",
        "fig2"
      ],
      "metadata": {
        "colab": {
          "base_uri": "https://localhost:8080/",
          "height": 542
        },
        "id": "txbtzU8DsaW_",
        "outputId": "16240822-7227-4263-cc29-789beac4f83d"
      },
      "execution_count": 10,
      "outputs": [
        {
          "output_type": "display_data",
          "data": {
            "text/html": [
              "<html>\n",
              "<head><meta charset=\"utf-8\" /></head>\n",
              "<body>\n",
              "    <div>            <script src=\"https://cdnjs.cloudflare.com/ajax/libs/mathjax/2.7.5/MathJax.js?config=TeX-AMS-MML_SVG\"></script><script type=\"text/javascript\">if (window.MathJax) {MathJax.Hub.Config({SVG: {font: \"STIX-Web\"}});}</script>                <script type=\"text/javascript\">window.PlotlyConfig = {MathJaxConfig: 'local'};</script>\n",
              "        <script src=\"https://cdn.plot.ly/plotly-2.8.3.min.js\"></script>                <div id=\"7d186e78-66c4-4388-9277-86c3c071cc7a\" class=\"plotly-graph-div\" style=\"height:525px; width:100%;\"></div>            <script type=\"text/javascript\">                                    window.PLOTLYENV=window.PLOTLYENV || {};                                    if (document.getElementById(\"7d186e78-66c4-4388-9277-86c3c071cc7a\")) {                    Plotly.newPlot(                        \"7d186e78-66c4-4388-9277-86c3c071cc7a\",                        [{\"hole\":0.3,\"labels\":[\"MOTOCICLETA\",\"AUTOMOVIL\",\"BUS\",\"CAMIONETA\",\"BUSETA\",\"BICICLETA\",\"OTROS\",\"MICROBUS\",\"CAMION\",\"CAMPERO\",\"TRACTO/CAMION\",\"VOLQUETA\",\"TRACCION ANIMAL\",\"MOTOCARRO\",\"MAQUINARIA AGRICOLA\",\"CICLO TAXI\",\"REMOLQUE\"],\"values\":[2051,735,232,129,96,87,74,60,28,20,10,5,4,3,2,2,1],\"type\":\"pie\"}],                        {\"template\":{\"data\":{\"bar\":[{\"error_x\":{\"color\":\"#2a3f5f\"},\"error_y\":{\"color\":\"#2a3f5f\"},\"marker\":{\"line\":{\"color\":\"#E5ECF6\",\"width\":0.5},\"pattern\":{\"fillmode\":\"overlay\",\"size\":10,\"solidity\":0.2}},\"type\":\"bar\"}],\"barpolar\":[{\"marker\":{\"line\":{\"color\":\"#E5ECF6\",\"width\":0.5},\"pattern\":{\"fillmode\":\"overlay\",\"size\":10,\"solidity\":0.2}},\"type\":\"barpolar\"}],\"carpet\":[{\"aaxis\":{\"endlinecolor\":\"#2a3f5f\",\"gridcolor\":\"white\",\"linecolor\":\"white\",\"minorgridcolor\":\"white\",\"startlinecolor\":\"#2a3f5f\"},\"baxis\":{\"endlinecolor\":\"#2a3f5f\",\"gridcolor\":\"white\",\"linecolor\":\"white\",\"minorgridcolor\":\"white\",\"startlinecolor\":\"#2a3f5f\"},\"type\":\"carpet\"}],\"choropleth\":[{\"colorbar\":{\"outlinewidth\":0,\"ticks\":\"\"},\"type\":\"choropleth\"}],\"contour\":[{\"colorbar\":{\"outlinewidth\":0,\"ticks\":\"\"},\"colorscale\":[[0.0,\"#0d0887\"],[0.1111111111111111,\"#46039f\"],[0.2222222222222222,\"#7201a8\"],[0.3333333333333333,\"#9c179e\"],[0.4444444444444444,\"#bd3786\"],[0.5555555555555556,\"#d8576b\"],[0.6666666666666666,\"#ed7953\"],[0.7777777777777778,\"#fb9f3a\"],[0.8888888888888888,\"#fdca26\"],[1.0,\"#f0f921\"]],\"type\":\"contour\"}],\"contourcarpet\":[{\"colorbar\":{\"outlinewidth\":0,\"ticks\":\"\"},\"type\":\"contourcarpet\"}],\"heatmap\":[{\"colorbar\":{\"outlinewidth\":0,\"ticks\":\"\"},\"colorscale\":[[0.0,\"#0d0887\"],[0.1111111111111111,\"#46039f\"],[0.2222222222222222,\"#7201a8\"],[0.3333333333333333,\"#9c179e\"],[0.4444444444444444,\"#bd3786\"],[0.5555555555555556,\"#d8576b\"],[0.6666666666666666,\"#ed7953\"],[0.7777777777777778,\"#fb9f3a\"],[0.8888888888888888,\"#fdca26\"],[1.0,\"#f0f921\"]],\"type\":\"heatmap\"}],\"heatmapgl\":[{\"colorbar\":{\"outlinewidth\":0,\"ticks\":\"\"},\"colorscale\":[[0.0,\"#0d0887\"],[0.1111111111111111,\"#46039f\"],[0.2222222222222222,\"#7201a8\"],[0.3333333333333333,\"#9c179e\"],[0.4444444444444444,\"#bd3786\"],[0.5555555555555556,\"#d8576b\"],[0.6666666666666666,\"#ed7953\"],[0.7777777777777778,\"#fb9f3a\"],[0.8888888888888888,\"#fdca26\"],[1.0,\"#f0f921\"]],\"type\":\"heatmapgl\"}],\"histogram\":[{\"marker\":{\"pattern\":{\"fillmode\":\"overlay\",\"size\":10,\"solidity\":0.2}},\"type\":\"histogram\"}],\"histogram2d\":[{\"colorbar\":{\"outlinewidth\":0,\"ticks\":\"\"},\"colorscale\":[[0.0,\"#0d0887\"],[0.1111111111111111,\"#46039f\"],[0.2222222222222222,\"#7201a8\"],[0.3333333333333333,\"#9c179e\"],[0.4444444444444444,\"#bd3786\"],[0.5555555555555556,\"#d8576b\"],[0.6666666666666666,\"#ed7953\"],[0.7777777777777778,\"#fb9f3a\"],[0.8888888888888888,\"#fdca26\"],[1.0,\"#f0f921\"]],\"type\":\"histogram2d\"}],\"histogram2dcontour\":[{\"colorbar\":{\"outlinewidth\":0,\"ticks\":\"\"},\"colorscale\":[[0.0,\"#0d0887\"],[0.1111111111111111,\"#46039f\"],[0.2222222222222222,\"#7201a8\"],[0.3333333333333333,\"#9c179e\"],[0.4444444444444444,\"#bd3786\"],[0.5555555555555556,\"#d8576b\"],[0.6666666666666666,\"#ed7953\"],[0.7777777777777778,\"#fb9f3a\"],[0.8888888888888888,\"#fdca26\"],[1.0,\"#f0f921\"]],\"type\":\"histogram2dcontour\"}],\"mesh3d\":[{\"colorbar\":{\"outlinewidth\":0,\"ticks\":\"\"},\"type\":\"mesh3d\"}],\"parcoords\":[{\"line\":{\"colorbar\":{\"outlinewidth\":0,\"ticks\":\"\"}},\"type\":\"parcoords\"}],\"pie\":[{\"automargin\":true,\"type\":\"pie\"}],\"scatter\":[{\"marker\":{\"colorbar\":{\"outlinewidth\":0,\"ticks\":\"\"}},\"type\":\"scatter\"}],\"scatter3d\":[{\"line\":{\"colorbar\":{\"outlinewidth\":0,\"ticks\":\"\"}},\"marker\":{\"colorbar\":{\"outlinewidth\":0,\"ticks\":\"\"}},\"type\":\"scatter3d\"}],\"scattercarpet\":[{\"marker\":{\"colorbar\":{\"outlinewidth\":0,\"ticks\":\"\"}},\"type\":\"scattercarpet\"}],\"scattergeo\":[{\"marker\":{\"colorbar\":{\"outlinewidth\":0,\"ticks\":\"\"}},\"type\":\"scattergeo\"}],\"scattergl\":[{\"marker\":{\"colorbar\":{\"outlinewidth\":0,\"ticks\":\"\"}},\"type\":\"scattergl\"}],\"scattermapbox\":[{\"marker\":{\"colorbar\":{\"outlinewidth\":0,\"ticks\":\"\"}},\"type\":\"scattermapbox\"}],\"scatterpolar\":[{\"marker\":{\"colorbar\":{\"outlinewidth\":0,\"ticks\":\"\"}},\"type\":\"scatterpolar\"}],\"scatterpolargl\":[{\"marker\":{\"colorbar\":{\"outlinewidth\":0,\"ticks\":\"\"}},\"type\":\"scatterpolargl\"}],\"scatterternary\":[{\"marker\":{\"colorbar\":{\"outlinewidth\":0,\"ticks\":\"\"}},\"type\":\"scatterternary\"}],\"surface\":[{\"colorbar\":{\"outlinewidth\":0,\"ticks\":\"\"},\"colorscale\":[[0.0,\"#0d0887\"],[0.1111111111111111,\"#46039f\"],[0.2222222222222222,\"#7201a8\"],[0.3333333333333333,\"#9c179e\"],[0.4444444444444444,\"#bd3786\"],[0.5555555555555556,\"#d8576b\"],[0.6666666666666666,\"#ed7953\"],[0.7777777777777778,\"#fb9f3a\"],[0.8888888888888888,\"#fdca26\"],[1.0,\"#f0f921\"]],\"type\":\"surface\"}],\"table\":[{\"cells\":{\"fill\":{\"color\":\"#EBF0F8\"},\"line\":{\"color\":\"white\"}},\"header\":{\"fill\":{\"color\":\"#C8D4E3\"},\"line\":{\"color\":\"white\"}},\"type\":\"table\"}]},\"layout\":{\"annotationdefaults\":{\"arrowcolor\":\"#2a3f5f\",\"arrowhead\":0,\"arrowwidth\":1},\"autotypenumbers\":\"strict\",\"coloraxis\":{\"colorbar\":{\"outlinewidth\":0,\"ticks\":\"\"}},\"colorscale\":{\"diverging\":[[0,\"#8e0152\"],[0.1,\"#c51b7d\"],[0.2,\"#de77ae\"],[0.3,\"#f1b6da\"],[0.4,\"#fde0ef\"],[0.5,\"#f7f7f7\"],[0.6,\"#e6f5d0\"],[0.7,\"#b8e186\"],[0.8,\"#7fbc41\"],[0.9,\"#4d9221\"],[1,\"#276419\"]],\"sequential\":[[0.0,\"#0d0887\"],[0.1111111111111111,\"#46039f\"],[0.2222222222222222,\"#7201a8\"],[0.3333333333333333,\"#9c179e\"],[0.4444444444444444,\"#bd3786\"],[0.5555555555555556,\"#d8576b\"],[0.6666666666666666,\"#ed7953\"],[0.7777777777777778,\"#fb9f3a\"],[0.8888888888888888,\"#fdca26\"],[1.0,\"#f0f921\"]],\"sequentialminus\":[[0.0,\"#0d0887\"],[0.1111111111111111,\"#46039f\"],[0.2222222222222222,\"#7201a8\"],[0.3333333333333333,\"#9c179e\"],[0.4444444444444444,\"#bd3786\"],[0.5555555555555556,\"#d8576b\"],[0.6666666666666666,\"#ed7953\"],[0.7777777777777778,\"#fb9f3a\"],[0.8888888888888888,\"#fdca26\"],[1.0,\"#f0f921\"]]},\"colorway\":[\"#636efa\",\"#EF553B\",\"#00cc96\",\"#ab63fa\",\"#FFA15A\",\"#19d3f3\",\"#FF6692\",\"#B6E880\",\"#FF97FF\",\"#FECB52\"],\"font\":{\"color\":\"#2a3f5f\"},\"geo\":{\"bgcolor\":\"white\",\"lakecolor\":\"white\",\"landcolor\":\"#E5ECF6\",\"showlakes\":true,\"showland\":true,\"subunitcolor\":\"white\"},\"hoverlabel\":{\"align\":\"left\"},\"hovermode\":\"closest\",\"mapbox\":{\"style\":\"light\"},\"paper_bgcolor\":\"white\",\"plot_bgcolor\":\"#E5ECF6\",\"polar\":{\"angularaxis\":{\"gridcolor\":\"white\",\"linecolor\":\"white\",\"ticks\":\"\"},\"bgcolor\":\"#E5ECF6\",\"radialaxis\":{\"gridcolor\":\"white\",\"linecolor\":\"white\",\"ticks\":\"\"}},\"scene\":{\"xaxis\":{\"backgroundcolor\":\"#E5ECF6\",\"gridcolor\":\"white\",\"gridwidth\":2,\"linecolor\":\"white\",\"showbackground\":true,\"ticks\":\"\",\"zerolinecolor\":\"white\"},\"yaxis\":{\"backgroundcolor\":\"#E5ECF6\",\"gridcolor\":\"white\",\"gridwidth\":2,\"linecolor\":\"white\",\"showbackground\":true,\"ticks\":\"\",\"zerolinecolor\":\"white\"},\"zaxis\":{\"backgroundcolor\":\"#E5ECF6\",\"gridcolor\":\"white\",\"gridwidth\":2,\"linecolor\":\"white\",\"showbackground\":true,\"ticks\":\"\",\"zerolinecolor\":\"white\"}},\"shapedefaults\":{\"line\":{\"color\":\"#2a3f5f\"}},\"ternary\":{\"aaxis\":{\"gridcolor\":\"white\",\"linecolor\":\"white\",\"ticks\":\"\"},\"baxis\":{\"gridcolor\":\"white\",\"linecolor\":\"white\",\"ticks\":\"\"},\"bgcolor\":\"#E5ECF6\",\"caxis\":{\"gridcolor\":\"white\",\"linecolor\":\"white\",\"ticks\":\"\"}},\"title\":{\"x\":0.05},\"xaxis\":{\"automargin\":true,\"gridcolor\":\"white\",\"linecolor\":\"white\",\"ticks\":\"\",\"title\":{\"standoff\":15},\"zerolinecolor\":\"white\",\"zerolinewidth\":2},\"yaxis\":{\"automargin\":true,\"gridcolor\":\"white\",\"linecolor\":\"white\",\"ticks\":\"\",\"title\":{\"standoff\":15},\"zerolinecolor\":\"white\",\"zerolinewidth\":2}}}},                        {\"responsive\": true}                    ).then(function(){\n",
              "                            \n",
              "var gd = document.getElementById('7d186e78-66c4-4388-9277-86c3c071cc7a');\n",
              "var x = new MutationObserver(function (mutations, observer) {{\n",
              "        var display = window.getComputedStyle(gd).display;\n",
              "        if (!display || display === 'none') {{\n",
              "            console.log([gd, 'removed!']);\n",
              "            Plotly.purge(gd);\n",
              "            observer.disconnect();\n",
              "        }}\n",
              "}});\n",
              "\n",
              "// Listen for the removal of the full notebook cells\n",
              "var notebookContainer = gd.closest('#notebook-container');\n",
              "if (notebookContainer) {{\n",
              "    x.observe(notebookContainer, {childList: true});\n",
              "}}\n",
              "\n",
              "// Listen for the clearing of the current output cell\n",
              "var outputEl = gd.closest('.output');\n",
              "if (outputEl) {{\n",
              "    x.observe(outputEl, {childList: true});\n",
              "}}\n",
              "\n",
              "                        })                };                            </script>        </div>\n",
              "</body>\n",
              "</html>"
            ]
          },
          "metadata": {}
        }
      ]
    },
    {
      "cell_type": "code",
      "source": [
        "g1 = px.density_heatmap(DATA, x=\"SEXO_VICTIMA\", y=\"CLASE_VEHICULO_VICTIMA\")\n",
        "g1"
      ],
      "metadata": {
        "colab": {
          "base_uri": "https://localhost:8080/",
          "height": 542
        },
        "id": "JD9oq4LstV5N",
        "outputId": "d3ce3a5e-8460-450c-8040-2ba73cc2bc80"
      },
      "execution_count": 11,
      "outputs": [
        {
          "output_type": "display_data",
          "data": {
            "text/html": [
              "<html>\n",
              "<head><meta charset=\"utf-8\" /></head>\n",
              "<body>\n",
              "    <div>            <script src=\"https://cdnjs.cloudflare.com/ajax/libs/mathjax/2.7.5/MathJax.js?config=TeX-AMS-MML_SVG\"></script><script type=\"text/javascript\">if (window.MathJax) {MathJax.Hub.Config({SVG: {font: \"STIX-Web\"}});}</script>                <script type=\"text/javascript\">window.PlotlyConfig = {MathJaxConfig: 'local'};</script>\n",
              "        <script src=\"https://cdn.plot.ly/plotly-2.8.3.min.js\"></script>                <div id=\"d148ea44-9780-49e2-bcac-bbd2aa21863d\" class=\"plotly-graph-div\" style=\"height:525px; width:100%;\"></div>            <script type=\"text/javascript\">                                    window.PLOTLYENV=window.PLOTLYENV || {};                                    if (document.getElementById(\"d148ea44-9780-49e2-bcac-bbd2aa21863d\")) {                    Plotly.newPlot(                        \"d148ea44-9780-49e2-bcac-bbd2aa21863d\",                        [{\"coloraxis\":\"coloraxis\",\"hovertemplate\":\"SEXO_VICTIMA=%{x}<br>CLASE_VEHICULO_VICTIMA=%{y}<br>count=%{z}<extra></extra>\",\"name\":\"\",\"x\":[\"M\",\"F\",\"M\",\"M\",\"M\",\"M\",\"M\",\"M\",\"M\",\"M\",\"M\",\"M\",\"M\",\"M\",\"F\",\"M\",\"M\",\"M\",\"F\",\"M\",\"M\",\"F\",\"M\",\"M\",\"F\",\"M\",\"M\",\"F\",\"F\",\"M\",\"M\",\"M\",\"M\",\"M\",\"M\",\"M\",\"M\",\"M\",\"M\",\"M\",\"M\",\"M\",\"F\",\"M\",\"F\",\"M\",\"M\",\"F\",\"M\",\"F\",\"M\",\"M\",\"M\",\"F\",\"M\",\"M\",\"M\",\"M\",\"M\",\"M\",\"M\",\"M\",\"M\",\"F\",\"M\",\"M\",\"F\",\"M\",\"M\",\"F\",\"F\",\"M\",\"M\",\"M\",\"M\",\"M\",\"M\",\"F\",\"F\",\"M\",\"M\",\"M\",\"M\",\"F\",\"F\",\"M\",\"F\",\"M\",\"M\",\"M\",\"M\",\"M\",\"M\",\"M\",\"F\",\"M\",\"F\",\"M\",\"F\",\"F\",\"M\",\"F\",\"M\",\"M\",\"M\",\"F\",\"M\",\"F\",\"F\",\"M\",\"M\",\"F\",\"F\",\"F\",\"F\",\"M\",\"M\",\"M\",\"F\",\"F\",\"F\",\"F\",\"M\",\"M\",\"M\",\"M\",\"M\",\"M\",\"M\",\"M\",\"M\",\"M\",\"M\",\"F\",\"M\",\"M\",\"M\",\"F\",\"F\",\"F\",\"F\",\"M\",\"M\",\"M\",\"M\",\"M\",\"M\",\"M\",\"M\",\"F\",\"M\",\"M\",\"M\",\"F\",\"M\",\"M\",\"M\",\"M\",\"M\",\"M\",\"M\",\"F\",\"M\",\"M\",\"M\",\"M\",\"M\",\"M\",\"M\",\"M\",\"M\",\"M\",\"F\",\"M\",\"M\",\"F\",\"M\",\"M\",\"F\",\"M\",\"M\",\"F\",\"M\",\"M\",\"F\",\"M\",\"M\",\"M\",\"M\",\"F\",\"M\",\"M\",\"F\",\"M\",\"M\",\"M\",\"M\",\"M\",\"F\",\"M\",\"M\",\"M\",\"M\",\"M\",\"M\",\"M\",\"M\",\"F\",\"M\",\"F\",\"M\",\"M\",\"M\",\"F\",\"M\",\"F\",\"M\",\"F\",\"M\",\"M\",\"M\",\"M\",\"M\",\"M\",\"M\",\"M\",\"F\",\"M\",\"M\",\"M\",\"M\",\"M\",\"M\",\"M\",\"M\",\"M\",\"M\",\"M\",\"M\",\"M\",\"M\",\"M\",\"F\",\"M\",\"M\",\"M\",\"M\",\"M\",\"M\",\"M\",\"M\",\"M\",\"M\",\"M\",\"M\",\"M\",\"M\",\"F\",\"M\",\"M\",\"M\",\"F\",\"M\",\"M\",\"M\",\"M\",\"M\",\"M\",\"M\",\"M\",\"M\",\"M\",\"M\",\"F\",\"M\",\"M\",\"F\",\"M\",\"M\",\"M\",\"M\",\"M\",\"M\",\"M\",\"M\",\"M\",\"M\",\"M\",\"M\",\"M\",\"M\",\"M\",\"M\",\"M\",\"M\",\"M\",\"M\",\"M\",\"M\",\"M\",\"M\",\"M\",\"M\",\"M\",\"M\",\"M\",\"M\",\"M\",\"M\",\"M\",\"M\",\"F\",\"M\",\"M\",\"F\",\"M\",\"M\",\"M\",\"M\",\"F\",\"M\",\"M\",\"M\",\"M\",\"M\",\"M\",\"F\",\"M\",\"F\",\"M\",\"F\",\"M\",\"M\",\"M\",\"M\",\"F\",\"M\",\"M\",\"M\",\"F\",\"M\",\"M\",\"M\",\"M\",\"F\",\"M\",\"M\",\"M\",\"F\",\"M\",\"M\",\"M\",\"F\",\"M\",\"M\",\"M\",\"M\",\"M\",\"M\",\"M\",\"M\",\"M\",\"M\",\"M\",\"F\",\"M\",\"F\",\"F\",\"M\",\"M\",\"M\",\"M\",\"M\",\"M\",\"M\",\"M\",\"M\",\"M\",\"M\",\"M\",\"M\",\"M\",\"M\",\"M\",\"M\",\"M\",\"M\",\"M\",\"M\",\"F\",\"M\",\"M\",\"M\",\"M\",\"M\",\"M\",\"M\",\"M\",\"M\",\"M\",\"M\",\"F\",\"M\",\"M\",\"M\",\"M\",\"M\",\"M\",\"M\",\"M\",\"M\",\"M\",\"M\",\"M\",\"M\",\"M\",\"F\",\"M\",\"M\",\"M\",\"F\",\"M\",\"M\",\"M\",\"M\",\"M\",\"M\",\"M\",\"M\",\"M\",\"M\",\"F\",\"M\",\"M\",\"M\",\"M\",\"M\",\"M\",\"M\",\"F\",\"M\",\"M\",\"M\",\"M\",\"M\",\"M\",\"M\",\"M\",\"F\",\"M\",\"M\",\"M\",\"M\",\"M\",\"M\",\"M\",\"M\",\"M\",\"M\",\"M\",\"M\",\"M\",\"M\",\"M\",\"M\",\"M\",\"M\",\"F\",\"M\",\"M\",\"M\",\"M\",\"M\",\"M\",\"M\",\"M\",\"M\",\"M\",\"F\",\"M\",\"F\",\"M\",\"M\",\"M\",\"M\",\"M\",\"M\",\"F\",\"M\",\"M\",\"M\",\"M\",\"F\",\"M\",\"M\",\"M\",\"M\",\"M\",\"M\",\"M\",\"M\",\"M\",\"M\",\"M\",\"M\",\"F\",\"M\",\"M\",\"M\",\"M\",\"M\",\"M\",\"F\",\"M\",\"F\",\"F\",\"F\",\"M\",\"M\",\"F\",\"M\",\"M\",\"M\",\"F\",\"M\",\"F\",\"M\",\"M\",\"F\",\"M\",\"M\",\"M\",\"F\",\"M\",\"M\",\"M\",\"M\",\"M\",\"M\",\"M\",\"M\",\"F\",\"M\",\"M\",\"M\",\"M\",\"M\",\"M\",\"M\",\"M\",\"F\",\"M\",\"M\",\"M\",\"M\",\"F\",\"M\",\"M\",\"M\",\"M\",\"M\",\"M\",\"M\",\"M\",\"M\",\"M\",\"M\",\"M\",\"F\",\"M\",\"M\",\"M\",\"M\",\"M\",\"M\",\"F\",\"M\",\"M\",\"M\",\"M\",\"M\",\"M\",\"M\",\"M\",\"M\",\"F\",\"M\",\"M\",\"M\",\"F\",\"F\",\"M\",\"M\",\"F\",\"M\",\"F\",\"M\",\"F\",\"F\",\"F\",\"M\",\"M\",\"M\",\"M\",\"M\",\"M\",\"M\",\"F\",\"F\",\"M\",\"M\",\"M\",\"M\",\"M\",\"M\",\"F\",\"F\",\"F\",\"M\",\"M\",\"F\",\"M\",\"F\",\"M\",\"F\",\"M\",\"F\",\"M\",\"M\",\"M\",\"M\",\"M\",\"F\",\"M\",\"M\",\"M\",\"M\",\"M\",\"M\",\"F\",\"M\",\"F\",\"F\",\"F\",\"F\",\"F\",\"M\",\"F\",\"F\",\"M\",\"M\",\"M\",\"M\",\"M\",\"F\",\"F\",\"M\",\"F\",\"M\",\"M\",\"M\",\"M\",\"M\",\"M\",\"M\",\"M\",\"M\",\"F\",\"M\",\"F\",\"M\",\"M\",\"M\",\"M\",\"M\",\"M\",\"F\",\"M\",\"M\",\"M\",\"M\",\"M\",\"F\",\"M\",\"M\",\"F\",\"M\",\"M\",\"M\",\"M\",\"M\",\"M\",\"M\",\"M\",\"F\",\"M\",\"M\",\"M\",\"F\",\"M\",\"M\",\"M\",\"F\",\"M\",\"M\",\"M\",\"M\",\"M\",\"M\",\"M\",\"M\",\"M\",\"F\",\"M\",\"M\",\"M\",\"M\",\"F\",\"M\",\"M\",\"F\",\"M\",\"M\",\"M\",\"M\",\"F\",\"M\",\"F\",\"F\",\"M\",\"F\",\"M\",\"M\",\"F\",\"F\",\"M\",\"F\",\"M\",\"M\",\"M\",\"M\",\"M\",\"M\",\"M\",\"F\",\"M\",\"M\",\"F\",\"M\",\"M\",\"M\",\"M\",\"M\",\"M\",\"M\",\"F\",\"M\",\"F\",\"M\",\"M\",\"M\",\"M\",\"M\",\"M\",\"M\",\"M\",\"M\",\"M\",\"M\",\"M\",\"M\",\"M\",\"M\",\"M\",\"F\",\"M\",\"M\",\"M\",\"F\",\"F\",\"M\",\"F\",\"M\",\"M\",\"M\",\"M\",\"M\",\"M\",\"M\",\"M\",\"M\",\"M\",\"M\",\"F\",\"M\",\"M\",\"M\",\"M\",\"M\",\"M\",\"F\",\"M\",\"M\",\"M\",\"M\",\"M\",\"M\",\"M\",\"M\",\"M\",\"M\",\"F\",\"F\",\"M\",\"M\",\"M\",\"M\",\"M\",\"M\",\"M\",\"M\",\"M\",\"M\",\"F\",\"M\",\"M\",\"M\",\"M\",\"M\",\"M\",\"M\",\"M\",\"M\",\"M\",\"M\",\"M\",\"M\",\"M\",\"F\",\"F\",\"M\",\"M\",\"M\",\"M\",\"M\",\"M\",\"M\",\"M\",\"M\",\"M\",\"M\",\"F\",\"F\",\"F\",\"M\",\"M\",\"M\",\"F\",\"M\",\"M\",\"M\",\"M\",\"M\",\"M\",\"M\",\"M\",\"M\",\"M\",\"M\",\"M\",\"M\",\"M\",\"M\",\"M\",\"F\",\"M\",\"F\",\"F\",\"M\",\"M\",\"M\",\"F\",\"M\",\"F\",\"F\",\"M\",\"M\",\"M\",\"M\",\"M\",\"M\",\"M\",\"M\",\"M\",\"M\",\"M\",\"M\",\"F\",\"M\",\"M\",\"M\",\"M\",\"F\",\"M\",\"M\",\"M\",\"M\",\"M\",\"M\",\"F\",\"M\",\"F\",\"F\",\"M\",\"M\",\"M\",\"M\",\"M\",\"M\",\"M\",\"M\",\"M\",\"M\",\"M\",\"M\",\"M\",\"F\",\"M\",\"M\",\"F\",\"M\",\"F\",\"M\",\"F\",\"M\",\"M\",\"M\",\"M\",\"F\",\"M\",\"M\",\"M\",\"M\",\"M\",\"F\",\"M\",\"M\",\"F\",\"M\",\"M\",\"M\",\"F\",\"M\",\"M\",\"M\",\"F\",\"F\",\"M\",\"M\",\"M\",\"M\",\"M\",\"M\",\"M\",\"M\",\"M\",\"M\",\"M\",\"F\",\"M\",\"M\",\"F\",\"M\",\"M\",\"F\",\"M\",\"F\",\"M\",\"M\",\"F\",\"F\",\"M\",\"M\",\"M\",\"M\",\"F\",\"M\",\"M\",\"M\",\"M\",\"M\",\"M\",\"F\",\"F\",\"M\",\"M\",\"M\",\"M\",\"M\",\"M\",\"M\",\"M\",\"M\",\"M\",\"F\",\"F\",\"M\",\"M\",\"M\",\"F\",\"M\",\"M\",\"F\",\"M\",\"M\",\"M\",\"M\",\"M\",\"M\",\"M\",\"M\",\"M\",\"M\",\"F\",\"M\",\"M\",\"M\",\"F\",\"M\",\"F\",\"M\",\"M\",\"M\",\"M\",\"M\",\"F\",\"F\",\"M\",\"F\",\"M\",\"M\",\"M\",\"M\",\"F\",\"M\",\"M\",\"M\",\"M\",\"M\",\"M\",\"M\",\"M\",\"M\",\"M\",\"M\",\"M\",\"M\",\"M\",\"M\",\"M\",\"F\",\"M\",\"F\",\"M\",\"M\",\"M\",\"M\",\"M\",\"M\",\"M\",\"M\",\"M\",\"F\",\"M\",\"F\",\"M\",\"M\",\"F\",\"M\",\"F\",\"M\",\"F\",\"M\",\"M\",\"F\",\"F\",\"F\",\"M\",\"M\",\"F\",\"M\",\"F\",\"F\",\"M\",\"F\",\"F\",\"M\",\"F\",\"M\",\"M\",\"M\",\"M\",\"F\",\"M\",\"M\",\"M\",\"M\",\"M\",\"M\",\"M\",\"F\",\"M\",\"M\",\"M\",\"M\",\"M\",\"F\",\"M\",\"F\",\"M\",\"M\",\"M\",\"M\",\"M\",\"F\",\"M\",\"F\",\"M\",\"M\",\"M\",\"M\",\"F\",\"M\",\"M\",\"M\",\"F\",\"F\",\"F\",\"M\",\"M\",\"M\",\"M\",\"M\",\"F\",\"M\",\"M\",\"M\",\"F\",\"F\",\"M\",\"M\",\"M\",\"M\",\"M\",\"M\",\"M\",\"M\",\"M\",\"M\",\"M\",\"M\",\"M\",\"F\",\"M\",\"F\",\"M\",\"F\",\"M\",\"M\",\"F\",\"M\",\"M\",\"M\",\"F\",\"M\",\"M\",\"M\",\"M\",\"M\",\"F\",\"M\",\"M\",\"M\",\"M\",\"M\",\"M\",\"M\",\"M\",\"M\",\"M\",\"F\",\"M\",\"M\",\"M\",\"M\",\"F\",\"M\",\"F\",\"F\",\"M\",\"M\",\"F\",\"M\",\"M\",\"M\",\"F\",\"M\",\"M\",\"F\",\"M\",\"M\",\"M\",\"M\",\"M\",\"M\",\"F\",\"M\",\"M\",\"M\",\"F\",\"M\",\"M\",\"M\",\"F\",\"M\",\"M\",\"M\",\"M\",\"M\",\"M\",\"M\",\"M\",\"F\",\"M\",\"M\",\"M\",\"M\",\"F\",\"F\",\"M\",\"M\",\"F\",\"M\",\"F\",\"F\",\"M\",\"F\",\"M\",\"F\",\"M\",\"M\",\"M\",\"F\",\"M\",\"M\",\"F\",\"M\",\"F\",\"M\",\"M\",\"M\",\"M\",\"M\",\"M\",\"M\",\"M\",\"M\",\"M\",\"M\",\"M\",\"M\",\"M\",\"M\",\"M\",\"M\",\"M\",\"M\",\"M\",\"F\",\"M\",\"F\",\"M\",\"M\",\"F\",\"F\",\"F\",\"M\",\"M\",\"M\",\"M\",\"M\",\"M\",\"F\",\"M\",\"M\",\"M\",\"M\",\"M\",\"F\",\"F\",\"M\",\"M\",\"F\",\"F\",\"M\",\"F\",\"M\",\"M\",\"F\",\"M\",\"M\",\"M\",\"F\",\"M\",\"M\",\"M\",\"M\",\"M\",\"M\",\"M\",\"M\",\"M\",\"M\",\"F\",\"M\",\"M\",\"M\",\"M\",\"M\",\"M\",\"F\",\"M\",\"M\",\"F\",\"M\",\"M\",\"F\",\"M\",\"M\",\"M\",\"F\",\"M\",\"M\",\"M\",\"F\",\"M\",\"M\",\"M\",\"M\",\"F\",\"M\",\"M\",\"M\",\"F\",\"M\",\"F\",\"F\",\"F\",\"M\",\"M\",\"M\",\"M\",\"M\",\"F\",\"M\",\"M\",\"F\",\"M\",\"M\",\"M\",\"F\",\"M\",\"F\",\"M\",\"M\",\"M\",\"F\",\"M\",\"F\",\"M\",\"F\",\"M\",\"M\",\"F\",\"M\",\"M\",\"M\",\"F\",\"M\",\"F\",\"F\",\"M\",\"F\",\"M\",\"F\",\"M\",\"M\",\"F\",\"F\",\"M\",\"M\",\"M\",\"M\",\"F\",\"M\",\"M\",\"M\",\"M\",\"M\",\"M\",\"M\",\"M\",\"M\",\"F\",\"M\",\"M\",\"M\",\"M\",\"M\",\"F\",\"M\",\"M\",\"M\",\"M\",\"M\",\"M\",\"F\",\"M\",\"F\",\"F\",\"M\",\"M\",\"F\",\"M\",\"M\",\"M\",\"M\",\"M\",\"M\",\"M\",\"M\",\"M\",\"M\",\"M\",\"F\",\"M\",\"M\",\"M\",\"M\",\"M\",\"F\",\"M\",\"M\",\"F\",\"M\",\"M\",\"M\",\"M\",\"M\",\"M\",\"F\",\"F\",\"F\",\"M\",\"M\",\"F\",\"M\",\"F\",\"F\",\"F\",\"M\",\"M\",\"M\",\"M\",\"F\",\"M\",\"M\",\"F\",\"M\",\"M\",\"F\",\"M\",\"M\",\"M\",\"M\",\"F\",\"F\",\"M\",\"F\",\"M\",\"F\",\"F\",\"F\",\"F\",\"M\",\"M\",\"M\",\"F\",\"M\",\"F\",\"M\",\"F\",\"M\",\"F\",\"M\",\"M\",\"M\",\"M\",\"M\",\"M\",\"M\",\"M\",\"M\",\"M\",\"F\",\"M\",\"F\",\"M\",\"M\",\"M\",\"M\",\"F\",\"M\",\"M\",\"M\",\"M\",\"M\",\"M\",\"M\",\"M\",\"M\",\"M\",\"M\",\"M\",\"F\",\"M\",\"M\",\"M\",\"M\",\"M\",\"M\",\"M\",\"F\",\"F\",\"M\",\"M\",\"M\",\"F\",\"F\",\"F\",\"M\",\"F\",\"M\",\"M\",\"M\",\"M\",\"M\",\"M\",\"M\",\"M\",\"M\",\"F\",\"M\",\"M\",\"M\",\"M\",\"M\",\"F\",\"F\",\"M\",\"F\",\"M\",\"M\",\"M\",\"F\",\"F\",\"M\",\"F\",\"M\",\"F\",\"M\",\"M\",\"M\",\"M\",\"F\",\"M\",\"F\",\"M\",\"M\",\"F\",\"M\",\"F\",\"M\",\"F\",\"M\",\"M\",\"M\",\"F\",\"F\",\"F\",\"F\",\"M\",\"M\",\"M\",\"M\",\"M\",\"M\",\"F\",\"M\",\"M\",\"M\",\"F\",\"M\",\"M\",\"M\",\"M\",\"M\",\"F\",\"M\",\"M\",\"M\",\"F\",\"M\",\"M\",\"F\",\"M\",\"M\",\"M\",\"M\",\"M\",\"F\",\"M\",\"M\",\"M\",\"M\",\"M\",\"M\",\"M\",\"M\",\"M\",\"M\",\"M\",\"F\",\"M\",\"F\",\"M\",\"F\",\"M\",\"M\",\"M\",\"M\",\"M\",\"M\",\"M\",\"M\",\"M\",\"F\",\"F\",\"M\",\"M\",\"M\",\"F\",\"F\",\"M\",\"F\",\"M\",\"F\",\"F\",\"M\",\"F\",\"M\",\"M\",\"F\",\"F\",\"M\",\"M\",\"F\",\"F\",\"M\",\"M\",\"F\",\"M\",\"M\",\"M\",\"M\",\"M\",\"M\",\"M\",\"M\",\"F\",\"F\",\"M\",\"F\",\"M\",\"F\",\"M\",\"F\",\"M\",\"M\",\"M\",\"M\",\"F\",\"M\",\"F\",\"M\",\"M\",\"M\",\"M\",\"M\",\"M\",\"M\",\"M\",\"M\",\"F\",\"M\",\"M\",\"F\",\"M\",\"M\",\"M\",\"F\",\"M\",\"M\",\"M\",\"M\",\"M\",\"M\",\"M\",\"M\",\"M\",\"M\",\"M\",\"M\",\"F\",\"M\",\"M\",\"M\",\"M\",\"F\",\"M\",\"M\",\"M\",\"M\",\"M\",\"M\",\"M\",\"M\",\"M\",\"M\",\"M\",\"M\",\"M\",\"F\",\"F\",\"M\",\"F\",\"F\",\"M\",\"M\",\"F\",\"M\",\"M\",\"F\",\"M\",\"M\",\"M\",\"M\",\"F\",\"F\",\"M\",\"F\",\"M\",\"M\",\"M\",\"M\",\"M\",\"M\",\"M\",\"F\",\"M\",\"M\",\"M\",\"M\",\"M\",\"M\",\"M\",\"M\",\"F\",\"M\",\"M\",\"M\",\"M\",\"M\",\"M\",\"M\",\"M\",\"M\",\"M\",\"M\",\"M\",\"M\",\"M\",\"M\",\"M\",\"M\",\"F\",\"M\",\"F\",\"M\",\"M\",\"M\",\"M\",\"M\",\"M\",\"M\",\"M\",\"M\",\"M\",\"M\",\"F\",\"M\",\"M\",\"M\",\"M\",\"M\",\"F\",\"M\",\"M\",\"M\",\"F\",\"M\",\"F\",\"F\",\"F\",\"F\",\"M\",\"M\",\"M\",\"F\",\"M\",\"F\",\"M\",\"M\",\"F\",\"M\",\"M\",\"M\",\"M\",\"M\",\"M\",\"M\",\"M\",\"M\",\"M\",\"M\",\"M\",\"M\",\"M\",\"M\",\"M\",\"M\",\"M\",\"M\",\"M\",\"M\",\"M\",\"M\",\"M\",\"M\",\"M\",\"M\",\"F\",\"M\",\"M\",\"M\",\"M\",\"M\",\"M\",\"M\",\"M\",\"M\",\"F\",\"M\",\"M\",\"M\",\"M\",\"M\",\"F\",\"M\",\"F\",\"M\",\"M\",\"M\",\"M\",\"M\",\"M\",\"M\",\"F\",\"M\",\"F\",\"F\",\"F\",\"M\",\"F\",\"F\",\"F\",\"M\",\"F\",\"F\",\"M\",\"F\",\"F\",\"F\",\"F\",\"M\",\"F\",\"M\",\"F\",\"F\",\"F\",\"M\",\"F\",\"F\",\"M\",\"M\",\"M\",\"M\",\"M\",\"M\",\"M\",\"M\",\"M\",\"M\",\"M\",\"M\",\"M\",\"F\",\"F\",\"M\",\"F\",\"F\",\"F\",\"M\",\"M\",\"M\",\"M\",\"M\",\"M\",\"M\",\"M\",\"M\",\"M\",\"F\",\"F\",\"F\",\"M\",\"M\",\"F\",\"M\",\"M\",\"M\",\"F\",\"M\",\"M\",\"M\",\"M\",\"F\",\"F\",\"M\",\"M\",\"M\",\"M\",\"F\",\"M\",\"M\",\"M\",\"M\",\"M\",\"M\",\"M\",\"M\",\"M\",\"M\",\"M\",\"M\",\"M\",\"M\",\"M\",\"M\",\"M\",\"M\",\"M\",\"M\",\"M\",\"M\",\"M\",\"M\",\"M\",\"M\",\"M\",\"M\",\"M\",\"M\",\"M\",\"M\",\"F\",\"M\",\"M\",\"M\",\"F\",\"F\",\"M\",\"F\",\"M\",\"M\",\"M\",\"M\",\"M\",\"M\",\"M\",\"M\",\"M\",\"F\",\"M\",\"F\",\"M\",\"M\",\"M\",\"F\",\"M\",\"M\",\"M\",\"M\",\"M\",\"M\",\"M\",\"M\",\"M\",\"M\",\"M\",\"M\",\"M\",\"M\",\"M\",\"M\",\"M\",\"M\",\"M\",\"M\",\"M\",\"M\",\"M\",\"M\",\"F\",\"M\",\"F\",\"M\",\"M\",\"M\",\"M\",\"M\",\"M\",\"M\",\"M\",\"F\",\"M\",\"F\",\"M\",\"M\",\"M\",\"M\",\"M\",\"M\",\"M\",\"F\",\"M\",\"M\",\"M\",\"M\",\"M\",\"M\",\"F\",\"M\",\"M\",\"M\",\"M\",\"M\",\"M\",\"M\",\"M\",\"M\",\"M\",\"M\",\"M\",\"M\",\"F\",\"F\",\"M\",\"M\",\"M\",\"M\",\"M\",\"M\",\"M\",\"F\",\"M\",\"M\",\"F\",\"M\",\"M\",\"M\",\"F\",\"M\",\"M\",\"M\",\"F\",\"M\",\"M\",\"M\",\"M\",\"M\",\"M\",\"M\",\"M\",\"F\",\"M\",\"M\",\"F\",\"M\",\"M\",\"M\",\"M\",\"F\",\"M\",\"M\",\"M\",\"M\",\"M\",\"F\",\"M\",\"M\",\"M\",\"M\",\"M\",\"M\",\"M\",\"M\",\"M\",\"M\",\"M\",\"M\",\"M\",\"M\",\"M\",\"M\",\"F\",\"M\",\"M\",\"M\",\"M\",\"M\",\"M\",\"M\",\"M\",\"M\",\"M\",\"M\",\"M\",\"M\",\"M\",\"M\",\"M\",\"M\",\"M\",\"M\",\"M\",\"M\",\"M\",\"M\",\"M\",\"M\",\"F\",\"M\",\"M\",\"F\",\"F\",\"M\",\"M\",\"M\",\"F\",\"M\",\"M\",\"M\",\"M\",\"F\",\"M\",\"M\",\"M\",\"M\",\"M\",\"M\",\"M\",\"M\",\"M\",\"M\",\"M\",\"M\",\"M\",\"M\",\"F\",\"M\",\"F\",\"M\",\"M\",\"M\",\"M\",\"M\",\"M\",\"M\",\"M\",\"M\",\"M\",\"M\",\"M\",\"M\",\"M\",\"F\",\"F\",\"M\",\"F\",\"M\",\"M\",\"F\",\"M\",\"M\",\"M\",\"F\",\"M\",\"M\",\"F\",\"M\",\"M\",\"M\",\"M\",\"F\",\"M\",\"F\",\"M\",\"F\",\"M\",\"M\",\"M\",\"M\",\"M\",\"M\",\"F\",\"M\",\"M\",\"M\",\"F\",\"M\",\"F\",\"M\",\"M\",\"M\",\"F\",\"F\",\"M\",\"M\",\"M\",\"M\",\"M\",\"M\",\"M\",\"M\",\"M\",\"M\",\"M\",\"F\",\"M\",\"M\",\"M\",\"M\",\"M\",\"M\",\"M\",\"M\",\"M\",\"F\",\"M\",\"M\",\"M\",\"M\",\"F\",\"M\",\"M\",\"M\",\"F\",\"M\",\"M\",\"M\",\"F\",\"F\",\"F\",\"M\",\"M\",\"M\",\"F\",\"F\",\"F\",\"M\",\"F\",\"M\",\"M\",\"M\",\"F\",\"M\",\"F\",\"M\",\"M\",\"M\",\"F\",\"M\",\"F\",\"M\",\"M\",\"M\",\"M\",\"M\",\"M\",\"M\",\"M\",\"M\",\"M\",\"F\",\"M\",\"M\",\"M\",\"F\",\"F\",\"M\",\"M\",\"M\",\"F\",\"F\",\"M\",\"M\",\"M\",\"M\",\"M\",\"M\",\"M\",\"M\",\"M\",\"M\",\"M\",\"M\",\"F\",\"M\",\"M\",\"M\",\"M\",\"M\",\"M\",\"M\",\"M\",\"M\",\"M\",\"M\",\"F\",\"M\",\"M\",\"M\",\"F\",\"M\",\"F\",\"M\",\"F\",\"M\",\"M\",\"M\",\"M\",\"F\",\"M\",\"F\",\"M\",\"M\",\"M\",\"M\",\"F\",\"M\",\"M\",\"M\",\"F\",\"M\",\"M\",\"M\",\"M\",\"F\",\"F\",\"M\",\"M\",\"M\",\"M\",\"M\",\"F\",\"M\",\"F\",\"M\",\"M\",\"M\",\"F\",\"M\",\"M\",\"M\",\"M\",\"M\",\"M\",\"M\",\"M\",\"M\",\"M\",\"M\",\"M\",\"M\",\"M\",\"F\",\"F\",\"M\",\"M\",\"M\",\"M\",\"F\",\"M\",\"M\",\"M\",\"F\",\"M\",\"M\",\"F\",\"M\",\"F\",\"M\",\"M\",\"M\",\"M\",\"M\",\"M\",\"F\",\"M\",\"M\",\"F\",\"M\",\"M\",\"F\",\"M\",\"M\",\"M\",\"F\",\"M\",\"M\",\"M\",\"M\",\"F\",\"M\",\"M\",\"F\",\"M\",\"F\",\"M\",\"M\",\"M\",\"M\",\"M\",\"M\",\"F\",\"F\",\"M\",\"M\",\"M\",\"M\",\"M\",\"M\",\"M\",\"M\",\"M\",\"F\",\"F\",\"M\",\"F\",\"M\",\"M\",\"M\",\"M\",\"M\",\"M\",\"M\",\"F\",\"M\",\"M\",\"M\",\"M\",\"M\",\"M\",\"M\",\"M\",\"M\",\"F\",\"M\",\"M\",\"M\",\"M\",\"M\",\"M\",\"F\",\"F\",\"M\",\"F\",\"F\",\"F\",\"M\",\"M\",\"M\",\"M\",\"M\",\"F\",\"M\",\"M\",\"M\",\"M\",\"M\",\"M\",\"F\",\"M\",\"M\",\"M\",\"M\",\"F\",\"M\",\"M\",\"M\",\"M\",\"M\",\"F\",\"M\",\"M\",\"M\",\"M\",\"F\",\"M\",\"M\",\"M\",\"F\",\"M\",\"F\",\"M\",\"M\",\"M\",\"M\",\"M\",\"M\",\"M\",\"M\",\"M\",\"M\",\"M\",\"M\",\"F\",\"F\",\"M\",\"M\",\"F\",\"M\",\"M\",\"M\",\"M\",\"M\",\"M\",\"F\",\"M\",\"M\",\"M\",\"M\",\"F\",\"M\",\"M\",\"M\",\"M\",\"M\",\"M\",\"M\",\"F\",\"M\",\"M\",\"F\",\"M\",\"M\",\"M\",\"M\",\"M\",\"F\",\"M\",\"M\",\"M\",\"M\",\"F\",\"M\",\"M\",\"M\",\"M\",\"F\",\"F\",\"M\",\"M\",\"F\",\"M\",\"M\",\"M\",\"M\",\"M\",\"M\",\"F\",\"F\",\"M\",\"M\",\"M\",\"M\",\"M\",\"M\",\"M\",\"M\",\"M\",\"F\",\"M\",\"M\",\"F\",\"M\",\"F\",\"F\",\"M\",\"M\",\"F\",\"M\",\"M\",\"F\",\"M\",\"M\",\"M\",\"M\",\"M\",\"F\",\"F\",\"M\",\"M\",\"M\",\"M\",\"M\",\"M\",\"M\",\"M\",\"M\",\"M\",\"M\",\"F\",\"F\",\"M\",\"M\",\"M\",\"M\",\"M\",\"M\",\"M\",\"M\",\"M\",\"M\",\"M\",\"M\",\"M\",\"F\",\"F\",\"M\",\"M\",\"M\",\"M\",\"M\",\"M\",\"F\",\"M\",\"M\",\"F\",\"M\",\"F\",\"M\",\"F\",\"F\",\"M\",\"F\",\"F\",\"M\",\"F\",\"F\",\"M\",\"M\",\"M\",\"M\",\"F\",\"M\",\"M\",\"M\",\"M\",\"F\",\"M\",\"M\",\"M\",\"M\",\"M\",\"M\",\"F\",\"M\",\"M\",\"M\",\"M\",\"M\",\"F\",\"M\",\"M\",\"M\",\"F\",\"F\",\"M\",\"M\",\"F\",\"M\",\"M\",\"M\",\"M\",\"M\",\"M\",\"M\",\"M\",\"F\",\"M\",\"M\",\"M\",\"M\",\"F\",\"M\",\"M\",\"M\",\"M\",\"F\",\"M\",\"M\",\"M\",\"M\",\"M\",\"M\",\"F\",\"F\",\"M\",\"M\",\"F\",\"M\",\"M\",\"M\",\"M\",\"M\",\"M\",\"M\",\"M\",\"M\",\"M\",\"M\",\"M\",\"M\",\"F\",\"F\",\"M\",\"F\",\"M\",\"M\",\"M\",\"M\",\"F\",\"F\",\"M\",\"F\",\"M\",\"M\",\"M\",\"M\",\"F\",\"M\",\"M\",\"F\",\"M\",\"M\",\"M\",\"M\",\"M\",\"F\",\"M\",\"M\",\"M\",\"M\",\"M\",\"M\",\"F\",\"M\",\"M\",\"M\",\"M\",\"M\",\"M\",\"M\",\"M\",\"M\",\"M\",\"M\",\"M\",\"F\",\"M\",\"F\",\"F\",\"M\",\"F\",\"M\",\"F\",\"M\",\"F\",\"F\",\"F\",\"F\",\"M\",\"M\",\"M\",\"M\",\"F\",\"M\",\"F\",\"M\",\"M\",\"F\",\"M\",\"M\",\"M\",\"M\",\"M\",\"M\",\"F\",\"F\",\"M\",\"M\",\"M\",\"M\",\"M\",\"F\",\"M\",\"M\",\"M\",\"M\",\"F\",\"F\",\"F\",\"M\",\"M\",\"M\",\"M\",\"M\",\"M\",\"M\",\"F\",\"M\",\"M\",\"M\",\"M\",\"M\",\"M\",\"M\",\"F\",\"F\",\"F\",\"M\",\"M\",\"M\",\"M\",\"M\",\"F\",\"M\",\"M\",\"M\",\"M\",\"F\",\"M\",\"M\",\"M\",\"F\",\"M\",\"F\",\"M\",\"M\",\"M\",\"F\",\"M\",\"M\",\"M\",\"M\",\"F\",\"M\",\"M\",\"M\",\"M\",\"F\",\"M\",\"M\",\"M\",\"F\",\"M\",\"M\",\"M\",\"M\",\"M\",\"M\",\"M\",\"F\",\"M\",\"M\",\"M\",\"M\",\"M\",\"F\",\"M\",\"F\",\"M\",\"M\",\"M\",\"M\",\"F\",\"F\",\"M\",\"M\",\"M\",\"F\",\"M\",\"M\",\"F\",\"M\",\"F\",\"M\",\"M\",\"M\",\"M\",\"M\",\"M\",\"M\",\"M\",\"M\",\"M\",\"M\",\"M\",\"M\",\"M\",\"M\",\"M\",\"M\",\"M\",\"F\",\"M\",\"M\",\"F\",\"M\",\"F\",\"M\",\"M\",\"M\",\"M\",\"M\",\"M\",\"M\",\"M\",\"M\",\"M\",\"M\",\"M\",\"M\",\"M\",\"M\",\"M\",\"M\",\"F\",\"M\",\"M\",\"M\",\"M\",\"M\",\"M\",\"M\",\"F\",\"M\",\"M\",\"M\",\"M\",\"M\",\"M\",\"M\",\"M\",\"M\",\"M\",\"F\",\"M\",\"M\",\"F\",\"M\",\"M\",\"M\",\"M\",\"M\",\"M\",\"M\",\"M\",\"M\",\"M\",\"M\",\"M\",\"M\",\"M\",\"M\",\"F\",\"M\",\"F\",\"M\",\"M\",\"M\",\"F\",\"M\",\"M\",\"M\",\"M\",\"M\",\"M\",\"M\",\"M\",\"F\",\"M\",\"M\",\"M\",\"M\",\"M\",\"M\",\"M\",\"M\",\"F\",\"F\",\"M\",\"M\",\"M\",\"F\",\"M\",\"M\",\"M\",\"M\",\"M\",\"M\",\"M\",\"M\",\"M\",\"M\",\"M\",\"M\",\"F\",\"M\",\"F\",\"M\",\"M\",\"F\",\"M\",\"M\",\"M\",\"M\",\"M\",\"M\",\"F\",\"M\",\"M\",\"M\",\"F\",\"M\",\"F\",\"M\",\"M\",\"M\",\"M\",\"M\",\"M\",\"M\",\"M\",\"F\",\"M\",\"F\",\"F\",\"M\",\"M\",\"M\",\"M\",\"M\",\"M\",\"M\",\"F\",\"F\",\"M\",\"F\",\"M\",\"M\",\"M\",\"M\",\"M\",\"M\",\"M\",\"M\",\"F\",\"F\",\"F\",\"M\",\"F\",\"F\",\"M\",\"M\",\"F\",\"M\",\"F\",\"M\",\"M\",\"M\",\"M\",\"M\",\"M\",\"M\",\"M\",\"M\",\"F\",\"M\",\"M\",\"M\",\"M\",\"F\",\"M\",\"M\",\"M\",\"F\",\"M\",\"M\",\"M\",\"M\",\"M\",\"M\",\"F\",\"M\",\"F\",\"M\",\"M\",\"M\",\"M\",\"M\",\"M\",\"M\",\"M\",\"M\",\"M\",\"M\",\"F\",\"F\",\"M\",\"M\",\"M\",\"M\",\"M\",\"M\",\"M\",\"F\",\"M\",\"M\",\"M\",\"M\",\"F\",\"M\",\"M\",\"F\",\"M\",\"M\",\"F\",\"M\",\"M\",\"M\",\"M\",\"F\",\"M\",\"M\",\"M\",\"M\",\"M\",\"M\",\"M\",\"M\",\"M\",\"F\",\"M\",\"M\",\"M\",\"M\",\"M\",\"M\",\"M\",\"M\",\"F\",\"M\",\"F\",\"M\",\"M\",\"M\",\"F\",\"M\",\"M\",\"F\",\"F\",\"M\",\"F\",\"M\",\"F\",\"F\",\"M\",\"M\",\"F\",\"M\",\"M\",\"M\",\"M\",\"M\",\"M\",\"F\",\"M\",\"M\",\"M\",\"F\",\"M\",\"F\",\"M\",\"M\",\"M\",\"F\",\"F\",\"M\",\"M\",\"F\",\"F\",\"M\",\"M\",\"M\",\"M\",\"F\",\"M\",\"F\",\"M\",\"M\",\"M\",\"M\",\"M\",\"M\",\"F\",\"M\",\"F\",\"M\",\"M\",\"M\",\"M\",\"M\",\"F\",\"M\",\"M\",\"F\",\"M\",\"M\",\"M\",\"F\",\"M\",\"M\",\"M\",\"F\",\"M\",\"M\",\"M\",\"M\",\"F\",\"F\",\"M\",\"M\",\"F\",\"F\",\"M\",\"M\",\"F\",\"F\",\"F\",\"M\",\"M\",\"M\",\"M\",\"M\",\"M\",\"M\",\"M\",\"M\",\"M\",\"M\",\"F\",\"M\",\"M\",\"M\",\"M\",\"F\",\"M\",\"M\",\"F\",\"M\",\"M\",\"M\",\"M\",\"M\",\"M\",\"M\",\"M\",\"M\",\"F\",\"M\",\"M\",\"M\",\"F\",\"M\",\"M\",\"M\",\"M\",\"M\",\"M\",\"M\",\"M\",\"M\",\"M\",\"M\",\"M\",\"M\",\"M\",\"M\",\"M\",\"M\",\"M\",\"M\",\"M\",\"M\",\"M\",\"M\",\"M\",\"M\",\"M\",\"M\",\"M\",\"M\",\"M\",\"F\",\"F\",\"M\",\"M\",\"M\",\"M\",\"F\",\"F\",\"M\",\"M\",\"M\",\"F\",\"M\",\"M\",\"M\",\"M\",\"M\",\"M\",\"M\",\"M\",\"M\",\"M\",\"F\",\"F\",\"F\",\"F\",\"F\",\"F\",\"F\",\"M\",\"M\",\"M\",\"M\",\"F\",\"M\",\"M\",\"M\",\"F\",\"F\",\"M\",\"F\",\"M\",\"M\",\"M\",\"M\",\"M\",\"M\",\"M\",\"M\",\"M\",\"M\",\"M\",\"M\",\"M\",\"M\",\"M\",\"F\",\"M\",\"M\",\"M\",\"M\",\"M\",\"F\",\"M\",\"M\",\"M\",\"M\",\"F\",\"M\",\"M\",\"M\",\"F\",\"M\",\"M\",\"M\",\"F\",\"M\",\"M\",\"F\",\"M\",\"M\",\"M\",\"M\",\"F\",\"F\",\"F\",\"M\",\"M\",\"M\",\"F\",\"M\",\"M\",\"M\",\"M\",\"M\",\"M\",\"F\",\"M\",\"M\",\"M\",\"M\",\"F\",\"M\",\"F\",\"M\",\"M\",\"M\",\"M\",\"M\",\"F\",\"M\",\"F\",\"F\",\"F\",\"F\",\"M\",\"F\",\"F\",\"M\",\"M\",\"M\",\"M\",\"M\",\"F\",\"M\",\"M\",\"F\",\"M\",\"F\",\"M\",\"M\",\"F\",\"F\",\"M\",\"F\",\"M\",\"M\",\"M\",\"M\",\"M\",\"M\",\"M\",\"F\",\"M\",\"M\",\"F\",\"F\",\"M\",\"M\",\"M\",\"M\",\"M\",\"M\",\"M\",\"M\",\"M\",\"M\",\"M\",\"M\",\"M\",\"M\",\"M\",\"M\",\"F\",\"M\",\"M\",\"M\",\"M\",\"M\",\"M\",\"F\",\"M\",\"M\"],\"xaxis\":\"x\",\"xbingroup\":\"x\",\"y\":[\"BUSETA\",\"AUTOMOVIL\",\"MOTOCICLETA\",\"AUTOMOVIL\",\"MOTOCICLETA\",\"BUSETA\",\"MOTOCICLETA\",\"BICICLETA\",\"MOTOCICLETA\",\"MOTOCICLETA\",\"MOTOCICLETA\",\"BUSETA\",\"AUTOMOVIL\",\"MOTOCICLETA\",\"CAMIONETA\",\"MOTOCICLETA\",\"MOTOCICLETA\",\"BICICLETA\",\"MOTOCICLETA\",\"BUSETA\",\"BUSETA\",\"AUTOMOVIL\",\"AUTOMOVIL\",\"MOTOCICLETA\",\"MOTOCICLETA\",\"MOTOCICLETA\",\"AUTOMOVIL\",\"MOTOCICLETA\",\"AUTOMOVIL\",\"AUTOMOVIL\",\"AUTOMOVIL\",\"AUTOMOVIL\",\"MOTOCICLETA\",\"AUTOMOVIL\",\"MOTOCICLETA\",\"MOTOCICLETA\",\"CAMIONETA\",\"AUTOMOVIL\",\"BICICLETA\",\"MOTOCICLETA\",\"MOTOCICLETA\",\"MOTOCICLETA\",\"MOTOCICLETA\",\"MOTOCICLETA\",\"AUTOMOVIL\",\"AUTOMOVIL\",\"MOTOCICLETA\",\"BUSETA\",\"BICICLETA\",\"AUTOMOVIL\",\"MOTOCICLETA\",\"MOTOCICLETA\",\"MOTOCICLETA\",\"AUTOMOVIL\",\"MOTOCICLETA\",\"MOTOCICLETA\",\"CAMIONETA\",\"BICICLETA\",\"BUS\",\"MOTOCICLETA\",\"CAMPERO\",\"MOTOCICLETA\",\"MOTOCICLETA\",\"MOTOCICLETA\",\"MOTOCICLETA\",\"MOTOCICLETA\",\"AUTOMOVIL\",\"MOTOCICLETA\",\"AUTOMOVIL\",\"AUTOMOVIL\",\"AUTOMOVIL\",\"MOTOCICLETA\",\"AUTOMOVIL\",\"AUTOMOVIL\",\"CAMIONETA\",\"BUSETA\",\"MOTOCICLETA\",\"AUTOMOVIL\",\"AUTOMOVIL\",\"AUTOMOVIL\",\"CAMIONETA\",\"MOTOCICLETA\",\"AUTOMOVIL\",\"AUTOMOVIL\",\"MOTOCICLETA\",\"MOTOCICLETA\",\"AUTOMOVIL\",\"MOTOCICLETA\",\"AUTOMOVIL\",\"BICICLETA\",\"MOTOCICLETA\",\"AUTOMOVIL\",\"AUTOMOVIL\",\"MOTOCICLETA\",\"AUTOMOVIL\",\"MOTOCICLETA\",\"AUTOMOVIL\",\"MOTOCICLETA\",\"MOTOCICLETA\",\"AUTOMOVIL\",\"MOTOCICLETA\",\"MOTOCICLETA\",\"CAMIONETA\",\"AUTOMOVIL\",\"VOLQUETA\",\"AUTOMOVIL\",\"MOTOCICLETA\",\"AUTOMOVIL\",\"AUTOMOVIL\",\"MOTOCICLETA\",\"MOTOCICLETA\",\"AUTOMOVIL\",\"MOTOCICLETA\",\"AUTOMOVIL\",\"AUTOMOVIL\",\"MOTOCICLETA\",\"MOTOCICLETA\",\"MOTOCICLETA\",\"CAMIONETA\",\"CAMIONETA\",\"CAMIONETA\",\"AUTOMOVIL\",\"MOTOCICLETA\",\"MOTOCICLETA\",\"MOTOCICLETA\",\"MOTOCICLETA\",\"MOTOCICLETA\",\"BUS\",\"BUS\",\"MOTOCICLETA\",\"AUTOMOVIL\",\"AUTOMOVIL\",\"MOTOCICLETA\",\"AUTOMOVIL\",\"AUTOMOVIL\",\"MOTOCICLETA\",\"AUTOMOVIL\",\"MOTOCICLETA\",\"MOTOCICLETA\",\"AUTOMOVIL\",\"AUTOMOVIL\",\"MOTOCICLETA\",\"MOTOCICLETA\",\"MOTOCICLETA\",\"BICICLETA\",\"MOTOCICLETA\",\"BICICLETA\",\"MOTOCICLETA\",\"AUTOMOVIL\",\"MOTOCICLETA\",\"MOTOCICLETA\",\"MOTOCICLETA\",\"AUTOMOVIL\",\"MOTOCICLETA\",\"MOTOCICLETA\",\"AUTOMOVIL\",\"AUTOMOVIL\",\"MOTOCICLETA\",\"AUTOMOVIL\",\"MOTOCICLETA\",\"BUS\",\"BUS\",\"BUS\",\"MOTOCICLETA\",\"BUSETA\",\"MOTOCICLETA\",\"MOTOCICLETA\",\"MOTOCICLETA\",\"MOTOCICLETA\",\"MOTOCICLETA\",\"MOTOCICLETA\",\"AUTOMOVIL\",\"BUS\",\"MOTOCICLETA\",\"MOTOCICLETA\",\"MOTOCICLETA\",\"MOTOCICLETA\",\"MOTOCICLETA\",\"MOTOCICLETA\",\"MOTOCICLETA\",\"MOTOCICLETA\",\"MOTOCICLETA\",\"AUTOMOVIL\",\"BICICLETA\",\"BUS\",\"MOTOCICLETA\",\"AUTOMOVIL\",\"MOTOCICLETA\",\"MOTOCICLETA\",\"MOTOCICLETA\",\"MOTOCICLETA\",\"AUTOMOVIL\",\"MOTOCICLETA\",\"MOTOCICLETA\",\"MOTOCICLETA\",\"AUTOMOVIL\",\"MOTOCICLETA\",\"AUTOMOVIL\",\"MOTOCICLETA\",\"MOTOCICLETA\",\"MOTOCICLETA\",\"MOTOCICLETA\",\"MOTOCICLETA\",\"AUTOMOVIL\",\"MOTOCICLETA\",\"CAMIONETA\",\"MOTOCICLETA\",\"MOTOCICLETA\",\"MOTOCICLETA\",\"MOTOCICLETA\",\"MOTOCICLETA\",\"MOTOCICLETA\",\"AUTOMOVIL\",\"BUS\",\"BUS\",\"AUTOMOVIL\",\"AUTOMOVIL\",\"AUTOMOVIL\",\"AUTOMOVIL\",\"MOTOCICLETA\",\"MOTOCICLETA\",\"MOTOCICLETA\",\"MOTOCICLETA\",\"MOTOCICLETA\",\"MOTOCICLETA\",\"MOTOCICLETA\",\"MOTOCICLETA\",\"MOTOCICLETA\",\"MOTOCICLETA\",\"MOTOCICLETA\",\"MICROBUS\",\"MOTOCICLETA\",\"MOTOCICLETA\",\"MOTOCICLETA\",\"MOTOCICLETA\",\"MOTOCICLETA\",\"MOTOCICLETA\",\"MOTOCICLETA\",\"MOTOCICLETA\",\"MOTOCICLETA\",\"MOTOCICLETA\",\"BICICLETA\",\"AUTOMOVIL\",\"MOTOCICLETA\",\"MOTOCICLETA\",\"MOTOCICLETA\",\"BUS\",\"MOTOCICLETA\",\"MOTOCICLETA\",\"MOTOCICLETA\",\"MOTOCICLETA\",\"MOTOCICLETA\",\"MOTOCICLETA\",\"MOTOCICLETA\",\"AUTOMOVIL\",\"CAMION\",\"MOTOCICLETA\",\"MOTOCICLETA\",\"MOTOCICLETA\",\"AUTOMOVIL\",\"BICICLETA\",\"MOTOCICLETA\",\"MOTOCICLETA\",\"AUTOMOVIL\",\"MOTOCICLETA\",\"MOTOCICLETA\",\"AUTOMOVIL\",\"AUTOMOVIL\",\"MOTOCICLETA\",\"MOTOCICLETA\",\"CAMIONETA\",\"MOTOCICLETA\",\"MOTOCICLETA\",\"MOTOCICLETA\",\"BUS\",\"MOTOCICLETA\",\"MOTOCICLETA\",\"AUTOMOVIL\",\"MOTOCICLETA\",\"MOTOCICLETA\",\"MOTOCICLETA\",\"MOTOCICLETA\",\"MOTOCICLETA\",\"MOTOCICLETA\",\"MOTOCARRO\",\"MOTOCICLETA\",\"MOTOCICLETA\",\"MOTOCICLETA\",\"MOTOCICLETA\",\"MOTOCICLETA\",\"MOTOCICLETA\",\"BUS\",\"MOTOCICLETA\",\"AUTOMOVIL\",\"BICICLETA\",\"CAMIONETA\",\"MOTOCICLETA\",\"AUTOMOVIL\",\"AUTOMOVIL\",\"AUTOMOVIL\",\"AUTOMOVIL\",\"MOTOCICLETA\",\"BUS\",\"MOTOCICLETA\",\"AUTOMOVIL\",\"MOTOCICLETA\",\"MOTOCICLETA\",\"MOTOCICLETA\",\"MOTOCICLETA\",\"MOTOCICLETA\",\"MOTOCICLETA\",\"MOTOCICLETA\",\"CAMION\",\"AUTOMOVIL\",\"MOTOCICLETA\",\"MOTOCICLETA\",\"MOTOCICLETA\",\"AUTOMOVIL\",\"MOTOCICLETA\",\"BUSETA\",\"MOTOCICLETA\",\"MOTOCICLETA\",\"MOTOCARRO\",\"MOTOCICLETA\",\"MOTOCICLETA\",\"MOTOCICLETA\",\"MOTOCICLETA\",\"MOTOCICLETA\",\"BUSETA\",\"CAMIONETA\",\"MOTOCICLETA\",\"MOTOCICLETA\",\"MOTOCICLETA\",\"AUTOMOVIL\",\"MOTOCICLETA\",\"MOTOCICLETA\",\"AUTOMOVIL\",\"MOTOCICLETA\",\"MOTOCICLETA\",\"MOTOCICLETA\",\"MOTOCICLETA\",\"MOTOCICLETA\",\"MOTOCICLETA\",\"MOTOCICLETA\",\"AUTOMOVIL\",\"AUTOMOVIL\",\"MOTOCICLETA\",\"AUTOMOVIL\",\"MOTOCICLETA\",\"MOTOCICLETA\",\"AUTOMOVIL\",\"AUTOMOVIL\",\"MOTOCICLETA\",\"MOTOCICLETA\",\"MOTOCICLETA\",\"AUTOMOVIL\",\"AUTOMOVIL\",\"MOTOCICLETA\",\"AUTOMOVIL\",\"MOTOCICLETA\",\"AUTOMOVIL\",\"MOTOCICLETA\",\"MOTOCICLETA\",\"MOTOCICLETA\",\"MOTOCICLETA\",\"BUS\",\"AUTOMOVIL\",\"MOTOCICLETA\",\"MOTOCICLETA\",\"BICICLETA\",\"MOTOCICLETA\",\"MOTOCICLETA\",\"MOTOCICLETA\",\"MOTOCICLETA\",\"MOTOCICLETA\",\"MOTOCICLETA\",\"MOTOCICLETA\",\"MOTOCICLETA\",\"MOTOCICLETA\",\"MOTOCICLETA\",\"MOTOCICLETA\",\"MOTOCICLETA\",\"MOTOCICLETA\",\"MOTOCICLETA\",\"MOTOCICLETA\",\"AUTOMOVIL\",\"MOTOCICLETA\",\"MOTOCICLETA\",\"MOTOCICLETA\",\"MOTOCICLETA\",\"AUTOMOVIL\",\"MOTOCICLETA\",\"AUTOMOVIL\",\"BUS\",\"MOTOCICLETA\",\"MOTOCICLETA\",\"MOTOCICLETA\",\"MOTOCICLETA\",\"MOTOCICLETA\",\"MOTOCICLETA\",\"AUTOMOVIL\",\"BUS\",\"MOTOCICLETA\",\"BUSETA\",\"MOTOCICLETA\",\"MOTOCICLETA\",\"MOTOCICLETA\",\"AUTOMOVIL\",\"MOTOCICLETA\",\"MOTOCICLETA\",\"BICICLETA\",\"MOTOCICLETA\",\"MOTOCICLETA\",\"MOTOCICLETA\",\"MOTOCICLETA\",\"MOTOCICLETA\",\"MOTOCICLETA\",\"MOTOCICLETA\",\"AUTOMOVIL\",\"MOTOCICLETA\",\"AUTOMOVIL\",\"MOTOCICLETA\",\"MOTOCICLETA\",\"MOTOCICLETA\",\"MOTOCICLETA\",\"MOTOCICLETA\",\"MOTOCICLETA\",\"MOTOCICLETA\",\"MOTOCICLETA\",\"MOTOCICLETA\",\"CAMIONETA\",\"BUS\",\"AUTOMOVIL\",\"AUTOMOVIL\",\"AUTOMOVIL\",\"MOTOCICLETA\",\"MOTOCICLETA\",\"MOTOCICLETA\",\"MOTOCICLETA\",\"MOTOCICLETA\",\"AUTOMOVIL\",\"MOTOCICLETA\",\"BUS\",\"MOTOCICLETA\",\"BUS\",\"MOTOCICLETA\",\"BUS\",\"MOTOCICLETA\",\"MOTOCICLETA\",\"MOTOCICLETA\",\"MOTOCICLETA\",\"MOTOCICLETA\",\"MOTOCICLETA\",\"MOTOCICLETA\",\"CAMION\",\"AUTOMOVIL\",\"MOTOCICLETA\",\"MOTOCICLETA\",\"MOTOCICLETA\",\"BUSETA\",\"MOTOCICLETA\",\"MOTOCICLETA\",\"MOTOCICLETA\",\"MOTOCICLETA\",\"MOTOCICLETA\",\"BICICLETA\",\"MOTOCICLETA\",\"BUS\",\"AUTOMOVIL\",\"MOTOCICLETA\",\"MOTOCICLETA\",\"CAMIONETA\",\"CAMIONETA\",\"MOTOCICLETA\",\"AUTOMOVIL\",\"AUTOMOVIL\",\"AUTOMOVIL\",\"AUTOMOVIL\",\"MOTOCICLETA\",\"MOTOCICLETA\",\"MOTOCICLETA\",\"MOTOCICLETA\",\"MOTOCICLETA\",\"MOTOCICLETA\",\"BUS\",\"AUTOMOVIL\",\"MOTOCICLETA\",\"MOTOCICLETA\",\"MOTOCICLETA\",\"REMOLQUE\",\"MOTOCICLETA\",\"MOTOCICLETA\",\"BUS\",\"MOTOCICLETA\",\"MOTOCICLETA\",\"MOTOCICLETA\",\"MOTOCICLETA\",\"MOTOCICLETA\",\"CAMIONETA\",\"AUTOMOVIL\",\"MOTOCICLETA\",\"MOTOCICLETA\",\"MOTOCICLETA\",\"MOTOCICLETA\",\"MOTOCICLETA\",\"AUTOMOVIL\",\"MOTOCICLETA\",\"MOTOCICLETA\",\"BUS\",\"MOTOCICLETA\",\"AUTOMOVIL\",\"MOTOCICLETA\",\"MOTOCICLETA\",\"MOTOCICLETA\",\"MOTOCICLETA\",\"MOTOCICLETA\",\"MICROBUS\",\"MOTOCICLETA\",\"MOTOCICLETA\",\"MOTOCICLETA\",\"MOTOCICLETA\",\"AUTOMOVIL\",\"MOTOCICLETA\",\"MOTOCICLETA\",\"MOTOCICLETA\",\"CAMIONETA\",\"MOTOCICLETA\",\"MOTOCICLETA\",\"MOTOCICLETA\",\"MOTOCICLETA\",\"MOTOCICLETA\",\"MOTOCICLETA\",\"MOTOCICLETA\",\"BICICLETA\",\"BUS\",\"MOTOCICLETA\",\"MOTOCICLETA\",\"MOTOCICLETA\",\"MICROBUS\",\"MOTOCICLETA\",\"AUTOMOVIL\",\"AUTOMOVIL\",\"MOTOCICLETA\",\"MOTOCICLETA\",\"MOTOCICLETA\",\"MOTOCICLETA\",\"MOTOCICLETA\",\"AUTOMOVIL\",\"MOTOCICLETA\",\"AUTOMOVIL\",\"MOTOCICLETA\",\"MOTOCICLETA\",\"MOTOCICLETA\",\"BUS\",\"MOTOCICLETA\",\"MOTOCICLETA\",\"AUTOMOVIL\",\"MOTOCICLETA\",\"AUTOMOVIL\",\"MOTOCICLETA\",\"MOTOCICLETA\",\"MOTOCICLETA\",\"AUTOMOVIL\",\"BUS\",\"MOTOCICLETA\",\"MOTOCICLETA\",\"MOTOCICLETA\",\"MOTOCICLETA\",\"MOTOCICLETA\",\"MOTOCICLETA\",\"MOTOCICLETA\",\"MOTOCICLETA\",\"MOTOCICLETA\",\"BUS\",\"MOTOCICLETA\",\"CAMPERO\",\"AUTOMOVIL\",\"AUTOMOVIL\",\"MOTOCICLETA\",\"CAMIONETA\",\"MOTOCICLETA\",\"MOTOCICLETA\",\"MOTOCICLETA\",\"MOTOCICLETA\",\"BICICLETA\",\"MOTOCICLETA\",\"MOTOCICLETA\",\"AUTOMOVIL\",\"MOTOCICLETA\",\"AUTOMOVIL\",\"MOTOCICLETA\",\"BUS\",\"MOTOCICLETA\",\"MOTOCICLETA\",\"MOTOCICLETA\",\"MOTOCICLETA\",\"AUTOMOVIL\",\"MOTOCICLETA\",\"CAMIONETA\",\"AUTOMOVIL\",\"MOTOCICLETA\",\"AUTOMOVIL\",\"MOTOCICLETA\",\"MOTOCICLETA\",\"MOTOCICLETA\",\"MOTOCICLETA\",\"MOTOCICLETA\",\"AUTOMOVIL\",\"AUTOMOVIL\",\"MOTOCICLETA\",\"MOTOCICLETA\",\"MOTOCICLETA\",\"MOTOCICLETA\",\"MOTOCICLETA\",\"AUTOMOVIL\",\"MOTOCICLETA\",\"AUTOMOVIL\",\"BUS\",\"MOTOCICLETA\",\"MOTOCICLETA\",\"AUTOMOVIL\",\"MOTOCICLETA\",\"MOTOCICLETA\",\"MOTOCICLETA\",\"MOTOCICLETA\",\"AUTOMOVIL\",\"MOTOCICLETA\",\"MOTOCICLETA\",\"AUTOMOVIL\",\"CAMIONETA\",\"CAMIONETA\",\"MOTOCICLETA\",\"AUTOMOVIL\",\"MOTOCICLETA\",\"AUTOMOVIL\",\"MOTOCICLETA\",\"MOTOCICLETA\",\"MOTOCICLETA\",\"MOTOCICLETA\",\"AUTOMOVIL\",\"MOTOCICLETA\",\"AUTOMOVIL\",\"AUTOMOVIL\",\"MOTOCICLETA\",\"MOTOCICLETA\",\"MOTOCICLETA\",\"MICROBUS\",\"MOTOCICLETA\",\"MOTOCICLETA\",\"MOTOCICLETA\",\"MOTOCICLETA\",\"MOTOCICLETA\",\"MOTOCICLETA\",\"MOTOCICLETA\",\"MOTOCICLETA\",\"AUTOMOVIL\",\"MOTOCICLETA\",\"MOTOCICLETA\",\"CAMIONETA\",\"MOTOCICLETA\",\"MOTOCICLETA\",\"MOTOCICLETA\",\"MOTOCICLETA\",\"AUTOMOVIL\",\"MOTOCICLETA\",\"MOTOCICLETA\",\"MOTOCICLETA\",\"MOTOCICLETA\",\"MOTOCICLETA\",\"AUTOMOVIL\",\"MOTOCICLETA\",\"AUTOMOVIL\",\"CAMIONETA\",\"MOTOCICLETA\",\"MOTOCICLETA\",\"AUTOMOVIL\",\"MOTOCICLETA\",\"MOTOCICLETA\",\"MOTOCICLETA\",\"MOTOCICLETA\",\"MOTOCICLETA\",\"MOTOCICLETA\",\"MOTOCICLETA\",\"MOTOCICLETA\",\"MOTOCICLETA\",\"MOTOCICLETA\",\"MOTOCICLETA\",\"MOTOCICLETA\",\"CAMIONETA\",\"CAMIONETA\",\"MOTOCICLETA\",\"MOTOCICLETA\",\"AUTOMOVIL\",\"MOTOCICLETA\",\"MOTOCICLETA\",\"MOTOCICLETA\",\"MOTOCICLETA\",\"MOTOCICLETA\",\"AUTOMOVIL\",\"MOTOCICLETA\",\"MOTOCICLETA\",\"MOTOCICLETA\",\"MOTOCICLETA\",\"AUTOMOVIL\",\"BUS\",\"AUTOMOVIL\",\"MOTOCICLETA\",\"CAMIONETA\",\"AUTOMOVIL\",\"AUTOMOVIL\",\"AUTOMOVIL\",\"AUTOMOVIL\",\"MOTOCICLETA\",\"MOTOCICLETA\",\"AUTOMOVIL\",\"MOTOCICLETA\",\"MOTOCICLETA\",\"MOTOCICLETA\",\"AUTOMOVIL\",\"MOTOCICLETA\",\"MOTOCICLETA\",\"BUS\",\"OTROS\",\"MOTOCICLETA\",\"MOTOCICLETA\",\"MOTOCICLETA\",\"AUTOMOVIL\",\"CAMIONETA\",\"MOTOCICLETA\",\"AUTOMOVIL\",\"MOTOCICLETA\",\"MOTOCICLETA\",\"MOTOCICLETA\",\"BUS\",\"MOTOCICLETA\",\"CAMIONETA\",\"MOTOCICLETA\",\"CAMIONETA\",\"MOTOCICLETA\",\"MOTOCICLETA\",\"MOTOCICLETA\",\"AUTOMOVIL\",\"MOTOCICLETA\",\"MOTOCICLETA\",\"MOTOCICLETA\",\"MOTOCICLETA\",\"AUTOMOVIL\",\"AUTOMOVIL\",\"MOTOCICLETA\",\"MOTOCICLETA\",\"MOTOCICLETA\",\"MOTOCICLETA\",\"MOTOCICLETA\",\"MOTOCICLETA\",\"MOTOCICLETA\",\"MOTOCICLETA\",\"AUTOMOVIL\",\"MOTOCICLETA\",\"MOTOCICLETA\",\"BICICLETA\",\"AUTOMOVIL\",\"AUTOMOVIL\",\"AUTOMOVIL\",\"MOTOCICLETA\",\"MOTOCICLETA\",\"MOTOCICLETA\",\"MOTOCICLETA\",\"MOTOCICLETA\",\"MOTOCICLETA\",\"MOTOCICLETA\",\"MOTOCICLETA\",\"MOTOCICLETA\",\"MOTOCICLETA\",\"MOTOCICLETA\",\"MOTOCICLETA\",\"MOTOCICLETA\",\"MOTOCICLETA\",\"AUTOMOVIL\",\"AUTOMOVIL\",\"MOTOCICLETA\",\"CAMIONETA\",\"MOTOCICLETA\",\"AUTOMOVIL\",\"MOTOCICLETA\",\"AUTOMOVIL\",\"MOTOCICLETA\",\"BUS\",\"AUTOMOVIL\",\"MOTOCICLETA\",\"MOTOCICLETA\",\"AUTOMOVIL\",\"BICICLETA\",\"MOTOCICLETA\",\"CAMIONETA\",\"MOTOCICLETA\",\"MOTOCICLETA\",\"MOTOCICLETA\",\"AUTOMOVIL\",\"CAMIONETA\",\"MOTOCICLETA\",\"AUTOMOVIL\",\"AUTOMOVIL\",\"MOTOCICLETA\",\"MOTOCICLETA\",\"AUTOMOVIL\",\"MOTOCICLETA\",\"MOTOCICLETA\",\"AUTOMOVIL\",\"BUS\",\"BUS\",\"MOTOCICLETA\",\"MICROBUS\",\"AUTOMOVIL\",\"MOTOCICLETA\",\"MOTOCICLETA\",\"MOTOCICLETA\",\"MOTOCICLETA\",\"MOTOCICLETA\",\"MOTOCICLETA\",\"MOTOCICLETA\",\"MOTOCICLETA\",\"MOTOCICLETA\",\"MOTOCICLETA\",\"AUTOMOVIL\",\"AUTOMOVIL\",\"AUTOMOVIL\",\"AUTOMOVIL\",\"CAMIONETA\",\"MOTOCICLETA\",\"MOTOCICLETA\",\"AUTOMOVIL\",\"MOTOCICLETA\",\"CAMION\",\"MOTOCICLETA\",\"AUTOMOVIL\",\"MOTOCICLETA\",\"MOTOCICLETA\",\"CAMPERO\",\"MOTOCICLETA\",\"MOTOCICLETA\",\"CAMION\",\"MOTOCICLETA\",\"MOTOCICLETA\",\"MOTOCICLETA\",\"VOLQUETA\",\"AUTOMOVIL\",\"TRACCION ANIMAL\",\"MOTOCICLETA\",\"MOTOCICLETA\",\"AUTOMOVIL\",\"MOTOCICLETA\",\"MOTOCICLETA\",\"MICROBUS\",\"BUS\",\"BICICLETA\",\"BUS\",\"MOTOCICLETA\",\"AUTOMOVIL\",\"CAMIONETA\",\"MICROBUS\",\"CAMIONETA\",\"MOTOCICLETA\",\"MICROBUS\",\"MOTOCICLETA\",\"MOTOCICLETA\",\"MOTOCICLETA\",\"AUTOMOVIL\",\"BUS\",\"AUTOMOVIL\",\"MOTOCICLETA\",\"AUTOMOVIL\",\"AUTOMOVIL\",\"MOTOCICLETA\",\"AUTOMOVIL\",\"AUTOMOVIL\",\"MOTOCICLETA\",\"AUTOMOVIL\",\"AUTOMOVIL\",\"MOTOCICLETA\",\"AUTOMOVIL\",\"AUTOMOVIL\",\"MOTOCICLETA\",\"MOTOCICLETA\",\"AUTOMOVIL\",\"CAMIONETA\",\"MOTOCICLETA\",\"MOTOCICLETA\",\"MOTOCICLETA\",\"AUTOMOVIL\",\"AUTOMOVIL\",\"MOTOCICLETA\",\"MOTOCICLETA\",\"MOTOCICLETA\",\"AUTOMOVIL\",\"MOTOCICLETA\",\"MOTOCICLETA\",\"AUTOMOVIL\",\"AUTOMOVIL\",\"MOTOCICLETA\",\"AUTOMOVIL\",\"MOTOCICLETA\",\"AUTOMOVIL\",\"BUSETA\",\"MOTOCICLETA\",\"MOTOCICLETA\",\"MOTOCICLETA\",\"MOTOCICLETA\",\"MOTOCICLETA\",\"MOTOCICLETA\",\"CAMIONETA\",\"MOTOCICLETA\",\"MOTOCICLETA\",\"AUTOMOVIL\",\"AUTOMOVIL\",\"MOTOCICLETA\",\"MOTOCICLETA\",\"MOTOCICLETA\",\"MOTOCICLETA\",\"MOTOCICLETA\",\"MOTOCICLETA\",\"CAMPERO\",\"CAMION\",\"AUTOMOVIL\",\"CAMION\",\"MOTOCICLETA\",\"MOTOCICLETA\",\"CAMIONETA\",\"MOTOCICLETA\",\"OTROS\",\"MOTOCICLETA\",\"MOTOCICLETA\",\"CAMIONETA\",\"MOTOCICLETA\",\"MOTOCICLETA\",\"AUTOMOVIL\",\"MOTOCICLETA\",\"MOTOCICLETA\",\"BICICLETA\",\"MOTOCICLETA\",\"MOTOCICLETA\",\"CAMIONETA\",\"MOTOCICLETA\",\"BUS\",\"AUTOMOVIL\",\"BICICLETA\",\"AUTOMOVIL\",\"MOTOCICLETA\",\"AUTOMOVIL\",\"BUSETA\",\"AUTOMOVIL\",\"AUTOMOVIL\",\"BUS\",\"MOTOCICLETA\",\"MOTOCICLETA\",\"AUTOMOVIL\",\"MOTOCICLETA\",\"MOTOCICLETA\",\"CAMIONETA\",\"MOTOCICLETA\",\"MOTOCICLETA\",\"MOTOCICLETA\",\"MOTOCICLETA\",\"MOTOCICLETA\",\"AUTOMOVIL\",\"MICROBUS\",\"MOTOCICLETA\",\"MOTOCICLETA\",\"MOTOCICLETA\",\"BUS\",\"AUTOMOVIL\",\"MOTOCICLETA\",\"AUTOMOVIL\",\"AUTOMOVIL\",\"MOTOCICLETA\",\"AUTOMOVIL\",\"CAMIONETA\",\"BUS\",\"MOTOCICLETA\",\"BUSETA\",\"AUTOMOVIL\",\"BUS\",\"CAMIONETA\",\"MOTOCICLETA\",\"MOTOCICLETA\",\"MOTOCICLETA\",\"MOTOCICLETA\",\"BICICLETA\",\"AUTOMOVIL\",\"MOTOCICLETA\",\"MOTOCICLETA\",\"CAMION\",\"BUS\",\"AUTOMOVIL\",\"MOTOCICLETA\",\"AUTOMOVIL\",\"MOTOCICLETA\",\"MOTOCICLETA\",\"AUTOMOVIL\",\"MOTOCICLETA\",\"AUTOMOVIL\",\"AUTOMOVIL\",\"AUTOMOVIL\",\"MOTOCICLETA\",\"MOTOCICLETA\",\"BUSETA\",\"MOTOCICLETA\",\"BUSETA\",\"MOTOCICLETA\",\"AUTOMOVIL\",\"MOTOCICLETA\",\"MOTOCICLETA\",\"MOTOCICLETA\",\"AUTOMOVIL\",\"MOTOCICLETA\",\"BICICLETA\",\"MOTOCICLETA\",\"AUTOMOVIL\",\"MOTOCICLETA\",\"MOTOCICLETA\",\"MOTOCICLETA\",\"AUTOMOVIL\",\"BICICLETA\",\"AUTOMOVIL\",\"AUTOMOVIL\",\"MOTOCICLETA\",\"AUTOMOVIL\",\"MOTOCICLETA\",\"BICICLETA\",\"AUTOMOVIL\",\"MOTOCICLETA\",\"MOTOCICLETA\",\"MOTOCICLETA\",\"TRACCION ANIMAL\",\"AUTOMOVIL\",\"AUTOMOVIL\",\"CAMIONETA\",\"AUTOMOVIL\",\"AUTOMOVIL\",\"AUTOMOVIL\",\"AUTOMOVIL\",\"MOTOCICLETA\",\"MOTOCICLETA\",\"BICICLETA\",\"MOTOCICLETA\",\"BUSETA\",\"MOTOCICLETA\",\"BUS\",\"MOTOCICLETA\",\"AUTOMOVIL\",\"MOTOCICLETA\",\"AUTOMOVIL\",\"MOTOCICLETA\",\"AUTOMOVIL\",\"MOTOCICLETA\",\"BUSETA\",\"MOTOCICLETA\",\"MOTOCICLETA\",\"AUTOMOVIL\",\"MOTOCICLETA\",\"AUTOMOVIL\",\"BUSETA\",\"MOTOCICLETA\",\"AUTOMOVIL\",\"BUS\",\"MOTOCICLETA\",\"AUTOMOVIL\",\"CAMPERO\",\"AUTOMOVIL\",\"CAMPERO\",\"MOTOCICLETA\",\"BUS\",\"MOTOCICLETA\",\"AUTOMOVIL\",\"AUTOMOVIL\",\"MOTOCICLETA\",\"MOTOCICLETA\",\"BUS\",\"BUS\",\"AUTOMOVIL\",\"AUTOMOVIL\",\"CAMIONETA\",\"BUS\",\"AUTOMOVIL\",\"MOTOCICLETA\",\"AUTOMOVIL\",\"MOTOCICLETA\",\"CAMIONETA\",\"MOTOCICLETA\",\"AUTOMOVIL\",\"BUS\",\"CAMIONETA\",\"MOTOCICLETA\",\"AUTOMOVIL\",\"BICICLETA\",\"MOTOCICLETA\",\"MOTOCICLETA\",\"AUTOMOVIL\",\"MOTOCICLETA\",\"MOTOCICLETA\",\"AUTOMOVIL\",\"AUTOMOVIL\",\"BICICLETA\",\"MOTOCICLETA\",\"MOTOCICLETA\",\"BICICLETA\",\"AUTOMOVIL\",\"MOTOCICLETA\",\"MOTOCICLETA\",\"MOTOCICLETA\",\"MOTOCICLETA\",\"MOTOCICLETA\",\"AUTOMOVIL\",\"MOTOCICLETA\",\"AUTOMOVIL\",\"AUTOMOVIL\",\"MOTOCICLETA\",\"MOTOCICLETA\",\"MOTOCICLETA\",\"MICROBUS\",\"AUTOMOVIL\",\"BICICLETA\",\"CAMION\",\"BICICLETA\",\"MOTOCICLETA\",\"MICROBUS\",\"MOTOCICLETA\",\"BUS\",\"MOTOCICLETA\",\"MOTOCICLETA\",\"CAMION\",\"AUTOMOVIL\",\"BICICLETA\",\"BICICLETA\",\"AUTOMOVIL\",\"AUTOMOVIL\",\"AUTOMOVIL\",\"AUTOMOVIL\",\"MOTOCICLETA\",\"AUTOMOVIL\",\"AUTOMOVIL\",\"BUS\",\"CAMIONETA\",\"AUTOMOVIL\",\"MOTOCICLETA\",\"AUTOMOVIL\",\"MOTOCICLETA\",\"BUS\",\"AUTOMOVIL\",\"MOTOCICLETA\",\"CAMION\",\"AUTOMOVIL\",\"MOTOCICLETA\",\"BUS\",\"MOTOCICLETA\",\"BUS\",\"CAMPERO\",\"AUTOMOVIL\",\"BICICLETA\",\"MOTOCICLETA\",\"MICROBUS\",\"AUTOMOVIL\",\"BUS\",\"AUTOMOVIL\",\"AUTOMOVIL\",\"MOTOCICLETA\",\"BUS\",\"BUSETA\",\"OTROS\",\"AUTOMOVIL\",\"AUTOMOVIL\",\"AUTOMOVIL\",\"BUS\",\"CAMIONETA\",\"BUS\",\"AUTOMOVIL\",\"AUTOMOVIL\",\"CAMIONETA\",\"MOTOCICLETA\",\"AUTOMOVIL\",\"AUTOMOVIL\",\"MOTOCICLETA\",\"AUTOMOVIL\",\"CAMIONETA\",\"MOTOCICLETA\",\"AUTOMOVIL\",\"BUS\",\"MOTOCICLETA\",\"AUTOMOVIL\",\"MOTOCICLETA\",\"BUS\",\"AUTOMOVIL\",\"MOTOCICLETA\",\"BUS\",\"MOTOCICLETA\",\"CAMIONETA\",\"BUS\",\"AUTOMOVIL\",\"BUS\",\"BUS\",\"AUTOMOVIL\",\"AUTOMOVIL\",\"AUTOMOVIL\",\"BUSETA\",\"AUTOMOVIL\",\"CAMION\",\"AUTOMOVIL\",\"BUS\",\"AUTOMOVIL\",\"MAQUINARIA AGRICOLA\",\"AUTOMOVIL\",\"MOTOCICLETA\",\"AUTOMOVIL\",\"AUTOMOVIL\",\"MOTOCICLETA\",\"MOTOCICLETA\",\"AUTOMOVIL\",\"MOTOCICLETA\",\"MOTOCICLETA\",\"MOTOCICLETA\",\"AUTOMOVIL\",\"AUTOMOVIL\",\"MOTOCICLETA\",\"MOTOCICLETA\",\"MOTOCICLETA\",\"CAMIONETA\",\"MOTOCICLETA\",\"AUTOMOVIL\",\"OTROS\",\"MOTOCICLETA\",\"MOTOCICLETA\",\"MOTOCICLETA\",\"MOTOCICLETA\",\"MOTOCICLETA\",\"MOTOCICLETA\",\"OTROS\",\"MOTOCICLETA\",\"BUSETA\",\"BUSETA\",\"BUSETA\",\"BUSETA\",\"BUSETA\",\"BUSETA\",\"BUSETA\",\"BUSETA\",\"BUSETA\",\"BUSETA\",\"OTROS\",\"BICICLETA\",\"OTROS\",\"MOTOCICLETA\",\"MOTOCICLETA\",\"MOTOCICLETA\",\"AUTOMOVIL\",\"AUTOMOVIL\",\"AUTOMOVIL\",\"MOTOCICLETA\",\"MOTOCICLETA\",\"MOTOCICLETA\",\"MOTOCICLETA\",\"MOTOCICLETA\",\"MOTOCICLETA\",\"BUS\",\"CAMIONETA\",\"CAMIONETA\",\"CAMIONETA\",\"MOTOCICLETA\",\"AUTOMOVIL\",\"AUTOMOVIL\",\"MOTOCICLETA\",\"MOTOCICLETA\",\"AUTOMOVIL\",\"TRACTO/CAMION\",\"MOTOCICLETA\",\"MOTOCICLETA\",\"MOTOCICLETA\",\"MOTOCICLETA\",\"MOTOCICLETA\",\"BUS\",\"BUS\",\"BUS\",\"BUS\",\"MOTOCICLETA\",\"MOTOCICLETA\",\"MOTOCICLETA\",\"MOTOCICLETA\",\"MOTOCICLETA\",\"MOTOCICLETA\",\"OTROS\",\"AUTOMOVIL\",\"AUTOMOVIL\",\"MOTOCICLETA\",\"MOTOCICLETA\",\"MOTOCICLETA\",\"MOTOCICLETA\",\"OTROS\",\"CAMIONETA\",\"AUTOMOVIL\",\"MOTOCICLETA\",\"AUTOMOVIL\",\"OTROS\",\"MOTOCICLETA\",\"MOTOCICLETA\",\"AUTOMOVIL\",\"MOTOCICLETA\",\"OTROS\",\"MOTOCICLETA\",\"MOTOCICLETA\",\"MOTOCICLETA\",\"BUS\",\"MOTOCICLETA\",\"AUTOMOVIL\",\"BUS\",\"BUS\",\"BUS\",\"BUS\",\"BUS\",\"BUS\",\"BUS\",\"BUS\",\"BUS\",\"BUS\",\"BUS\",\"BUS\",\"BUS\",\"BUS\",\"BUS\",\"MOTOCICLETA\",\"MOTOCICLETA\",\"BICICLETA\",\"AUTOMOVIL\",\"AUTOMOVIL\",\"MICROBUS\",\"MOTOCICLETA\",\"MOTOCICLETA\",\"MOTOCICLETA\",\"CAMION\",\"MOTOCICLETA\",\"MOTOCICLETA\",\"MOTOCICLETA\",\"MOTOCICLETA\",\"MOTOCICLETA\",\"MOTOCICLETA\",\"BUS\",\"BUS\",\"MOTOCICLETA\",\"BUS\",\"BUS\",\"MOTOCICLETA\",\"BUS\",\"OTROS\",\"MOTOCICLETA\",\"MOTOCICLETA\",\"MOTOCICLETA\",\"BUS\",\"MOTOCICLETA\",\"AUTOMOVIL\",\"AUTOMOVIL\",\"AUTOMOVIL\",\"AUTOMOVIL\",\"MOTOCICLETA\",\"MOTOCICLETA\",\"MOTOCICLETA\",\"CAMIONETA\",\"CAMIONETA\",\"CAMIONETA\",\"CAMIONETA\",\"MICROBUS\",\"MOTOCICLETA\",\"MICROBUS\",\"MICROBUS\",\"MICROBUS\",\"MICROBUS\",\"MICROBUS\",\"MOTOCICLETA\",\"MOTOCICLETA\",\"MOTOCICLETA\",\"MOTOCICLETA\",\"AUTOMOVIL\",\"MOTOCICLETA\",\"MOTOCICLETA\",\"AUTOMOVIL\",\"OTROS\",\"MOTOCICLETA\",\"MOTOCICLETA\",\"MOTOCICLETA\",\"AUTOMOVIL\",\"MOTOCICLETA\",\"AUTOMOVIL\",\"MOTOCICLETA\",\"MOTOCICLETA\",\"OTROS\",\"OTROS\",\"MOTOCICLETA\",\"CAMIONETA\",\"MOTOCICLETA\",\"MOTOCICLETA\",\"MOTOCICLETA\",\"AUTOMOVIL\",\"OTROS\",\"MOTOCICLETA\",\"BICICLETA\",\"MOTOCICLETA\",\"OTROS\",\"MOTOCICLETA\",\"CAMIONETA\",\"MOTOCICLETA\",\"MOTOCICLETA\",\"MOTOCICLETA\",\"BUS\",\"MOTOCICLETA\",\"MOTOCICLETA\",\"AUTOMOVIL\",\"MOTOCICLETA\",\"MOTOCICLETA\",\"MOTOCICLETA\",\"MOTOCICLETA\",\"MOTOCICLETA\",\"MOTOCICLETA\",\"BUS\",\"BUS\",\"BUS\",\"BUS\",\"BUS\",\"BUS\",\"BUS\",\"BUS\",\"BUS\",\"BUS\",\"BUS\",\"MOTOCICLETA\",\"MOTOCICLETA\",\"BUS\",\"AUTOMOVIL\",\"AUTOMOVIL\",\"AUTOMOVIL\",\"MOTOCICLETA\",\"AUTOMOVIL\",\"AUTOMOVIL\",\"AUTOMOVIL\",\"AUTOMOVIL\",\"MOTOCICLETA\",\"MICROBUS\",\"AUTOMOVIL\",\"AUTOMOVIL\",\"MOTOCICLETA\",\"BICICLETA\",\"MOTOCICLETA\",\"MOTOCICLETA\",\"BICICLETA\",\"MOTOCICLETA\",\"MOTOCICLETA\",\"MOTOCICLETA\",\"MOTOCICLETA\",\"MOTOCICLETA\",\"MOTOCICLETA\",\"MOTOCICLETA\",\"CAMION\",\"MOTOCICLETA\",\"MOTOCICLETA\",\"MOTOCICLETA\",\"MOTOCICLETA\",\"MOTOCICLETA\",\"CAMIONETA\",\"MOTOCICLETA\",\"MOTOCICLETA\",\"AUTOMOVIL\",\"MOTOCICLETA\",\"AUTOMOVIL\",\"MOTOCICLETA\",\"AUTOMOVIL\",\"OTROS\",\"MOTOCICLETA\",\"OTROS\",\"MOTOCICLETA\",\"OTROS\",\"AUTOMOVIL\",\"OTROS\",\"AUTOMOVIL\",\"AUTOMOVIL\",\"CAMIONETA\",\"BUSETA\",\"BUSETA\",\"BUSETA\",\"BUSETA\",\"BUSETA\",\"BUSETA\",\"BUSETA\",\"BUSETA\",\"AUTOMOVIL\",\"MOTOCICLETA\",\"MOTOCICLETA\",\"CAMIONETA\",\"BUS\",\"OTROS\",\"BUS\",\"CAMION\",\"MOTOCICLETA\",\"MOTOCICLETA\",\"MOTOCICLETA\",\"OTROS\",\"OTROS\",\"MOTOCICLETA\",\"MOTOCICLETA\",\"CAMIONETA\",\"AUTOMOVIL\",\"AUTOMOVIL\",\"AUTOMOVIL\",\"AUTOMOVIL\",\"MOTOCICLETA\",\"MOTOCICLETA\",\"MOTOCICLETA\",\"MOTOCICLETA\",\"MOTOCICLETA\",\"MOTOCICLETA\",\"MOTOCICLETA\",\"CAMIONETA\",\"MOTOCICLETA\",\"MOTOCICLETA\",\"MOTOCICLETA\",\"MOTOCICLETA\",\"AUTOMOVIL\",\"MOTOCICLETA\",\"MOTOCICLETA\",\"AUTOMOVIL\",\"BICICLETA\",\"OTROS\",\"MOTOCICLETA\",\"MOTOCICLETA\",\"MOTOCICLETA\",\"AUTOMOVIL\",\"AUTOMOVIL\",\"MOTOCICLETA\",\"BICICLETA\",\"AUTOMOVIL\",\"MOTOCICLETA\",\"MOTOCICLETA\",\"MOTOCICLETA\",\"BUS\",\"AUTOMOVIL\",\"AUTOMOVIL\",\"AUTOMOVIL\",\"MOTOCICLETA\",\"MOTOCICLETA\",\"CAMION\",\"MOTOCICLETA\",\"MOTOCICLETA\",\"MOTOCICLETA\",\"AUTOMOVIL\",\"AUTOMOVIL\",\"BUS\",\"AUTOMOVIL\",\"AUTOMOVIL\",\"MOTOCICLETA\",\"MOTOCICLETA\",\"AUTOMOVIL\",\"BUS\",\"AUTOMOVIL\",\"AUTOMOVIL\",\"MOTOCICLETA\",\"MOTOCICLETA\",\"AUTOMOVIL\",\"MOTOCICLETA\",\"AUTOMOVIL\",\"CAMPERO\",\"MOTOCARRO\",\"MOTOCICLETA\",\"MOTOCICLETA\",\"AUTOMOVIL\",\"AUTOMOVIL\",\"BUSETA\",\"BUS\",\"BICICLETA\",\"MOTOCICLETA\",\"MOTOCICLETA\",\"MOTOCICLETA\",\"OTROS\",\"MOTOCICLETA\",\"OTROS\",\"MOTOCICLETA\",\"MOTOCICLETA\",\"OTROS\",\"MOTOCICLETA\",\"MOTOCICLETA\",\"BUS\",\"MOTOCICLETA\",\"MOTOCICLETA\",\"MOTOCICLETA\",\"AUTOMOVIL\",\"MOTOCICLETA\",\"TRACTO/CAMION\",\"MOTOCICLETA\",\"OTROS\",\"OTROS\",\"OTROS\",\"MOTOCICLETA\",\"BUS\",\"CAMIONETA\",\"MOTOCICLETA\",\"AUTOMOVIL\",\"OTROS\",\"MOTOCICLETA\",\"MOTOCICLETA\",\"MOTOCICLETA\",\"MOTOCICLETA\",\"OTROS\",\"MOTOCICLETA\",\"MOTOCICLETA\",\"MOTOCICLETA\",\"MOTOCICLETA\",\"BUSETA\",\"AUTOMOVIL\",\"AUTOMOVIL\",\"MOTOCICLETA\",\"MOTOCICLETA\",\"MOTOCICLETA\",\"OTROS\",\"MOTOCICLETA\",\"MOTOCICLETA\",\"MOTOCICLETA\",\"MOTOCICLETA\",\"MOTOCICLETA\",\"MOTOCICLETA\",\"BUS\",\"MOTOCICLETA\",\"MOTOCICLETA\",\"MOTOCICLETA\",\"BICICLETA\",\"MOTOCICLETA\",\"OTROS\",\"MOTOCICLETA\",\"OTROS\",\"MOTOCICLETA\",\"AUTOMOVIL\",\"CAMIONETA\",\"MOTOCICLETA\",\"MOTOCICLETA\",\"OTROS\",\"OTROS\",\"OTROS\",\"OTROS\",\"AUTOMOVIL\",\"MOTOCICLETA\",\"OTROS\",\"MOTOCICLETA\",\"OTROS\",\"MOTOCICLETA\",\"AUTOMOVIL\",\"MOTOCICLETA\",\"BICICLETA\",\"MOTOCICLETA\",\"MOTOCICLETA\",\"MOTOCICLETA\",\"MOTOCICLETA\",\"MOTOCICLETA\",\"OTROS\",\"MOTOCICLETA\",\"AUTOMOVIL\",\"MOTOCICLETA\",\"OTROS\",\"MOTOCICLETA\",\"BUS\",\"BUS\",\"MOTOCICLETA\",\"AUTOMOVIL\",\"AUTOMOVIL\",\"AUTOMOVIL\",\"BUS\",\"AUTOMOVIL\",\"AUTOMOVIL\",\"AUTOMOVIL\",\"MOTOCICLETA\",\"MOTOCICLETA\",\"MOTOCICLETA\",\"AUTOMOVIL\",\"MOTOCICLETA\",\"MOTOCICLETA\",\"MOTOCICLETA\",\"MOTOCICLETA\",\"AUTOMOVIL\",\"MOTOCICLETA\",\"MOTOCICLETA\",\"MOTOCICLETA\",\"AUTOMOVIL\",\"AUTOMOVIL\",\"MOTOCICLETA\",\"MOTOCICLETA\",\"MOTOCICLETA\",\"MOTOCICLETA\",\"MOTOCICLETA\",\"AUTOMOVIL\",\"AUTOMOVIL\",\"MOTOCICLETA\",\"AUTOMOVIL\",\"MOTOCICLETA\",\"BUS\",\"MOTOCICLETA\",\"MOTOCICLETA\",\"MOTOCICLETA\",\"MOTOCICLETA\",\"CAMIONETA\",\"MOTOCICLETA\",\"MOTOCICLETA\",\"MOTOCICLETA\",\"MOTOCICLETA\",\"MOTOCICLETA\",\"MOTOCICLETA\",\"MOTOCICLETA\",\"MOTOCICLETA\",\"MOTOCICLETA\",\"MOTOCICLETA\",\"OTROS\",\"MOTOCICLETA\",\"MOTOCICLETA\",\"MOTOCICLETA\",\"MOTOCICLETA\",\"MOTOCICLETA\",\"MOTOCICLETA\",\"MOTOCICLETA\",\"AUTOMOVIL\",\"MOTOCICLETA\",\"MOTOCICLETA\",\"MOTOCICLETA\",\"MOTOCICLETA\",\"MOTOCICLETA\",\"MOTOCICLETA\",\"MOTOCICLETA\",\"MOTOCICLETA\",\"MOTOCICLETA\",\"MOTOCICLETA\",\"MOTOCICLETA\",\"MOTOCICLETA\",\"MOTOCICLETA\",\"BICICLETA\",\"BICICLETA\",\"MOTOCICLETA\",\"MOTOCICLETA\",\"MOTOCICLETA\",\"AUTOMOVIL\",\"AUTOMOVIL\",\"MOTOCICLETA\",\"MAQUINARIA AGRICOLA\",\"MOTOCICLETA\",\"MOTOCICLETA\",\"OTROS\",\"MOTOCICLETA\",\"MOTOCICLETA\",\"MOTOCICLETA\",\"MOTOCICLETA\",\"CAMIONETA\",\"MOTOCICLETA\",\"MOTOCICLETA\",\"MOTOCICLETA\",\"OTROS\",\"MOTOCICLETA\",\"MOTOCICLETA\",\"OTROS\",\"AUTOMOVIL\",\"BICICLETA\",\"AUTOMOVIL\",\"MOTOCICLETA\",\"BICICLETA\",\"MOTOCICLETA\",\"OTROS\",\"CAMION\",\"MOTOCICLETA\",\"AUTOMOVIL\",\"AUTOMOVIL\",\"AUTOMOVIL\",\"MOTOCICLETA\",\"MOTOCICLETA\",\"MOTOCICLETA\",\"MOTOCICLETA\",\"MOTOCICLETA\",\"MOTOCICLETA\",\"MOTOCICLETA\",\"MOTOCICLETA\",\"OTROS\",\"MOTOCICLETA\",\"MOTOCICLETA\",\"MOTOCICLETA\",\"BUS\",\"MOTOCICLETA\",\"MOTOCICLETA\",\"MOTOCICLETA\",\"MOTOCICLETA\",\"MOTOCICLETA\",\"MOTOCICLETA\",\"MOTOCICLETA\",\"AUTOMOVIL\",\"MOTOCICLETA\",\"MOTOCICLETA\",\"TRACTO/CAMION\",\"MOTOCICLETA\",\"MOTOCICLETA\",\"MOTOCICLETA\",\"MOTOCICLETA\",\"MOTOCICLETA\",\"MOTOCICLETA\",\"MOTOCICLETA\",\"MOTOCICLETA\",\"MOTOCICLETA\",\"BUS\",\"MOTOCICLETA\",\"MOTOCICLETA\",\"MOTOCICLETA\",\"AUTOMOVIL\",\"MOTOCICLETA\",\"MOTOCICLETA\",\"AUTOMOVIL\",\"MOTOCICLETA\",\"AUTOMOVIL\",\"AUTOMOVIL\",\"AUTOMOVIL\",\"AUTOMOVIL\",\"AUTOMOVIL\",\"MOTOCICLETA\",\"MOTOCICLETA\",\"MOTOCICLETA\",\"AUTOMOVIL\",\"AUTOMOVIL\",\"CAMIONETA\",\"MOTOCICLETA\",\"AUTOMOVIL\",\"MOTOCICLETA\",\"MOTOCICLETA\",\"MOTOCICLETA\",\"MOTOCICLETA\",\"MOTOCICLETA\",\"MOTOCICLETA\",\"MOTOCICLETA\",\"MOTOCICLETA\",\"AUTOMOVIL\",\"AUTOMOVIL\",\"AUTOMOVIL\",\"AUTOMOVIL\",\"AUTOMOVIL\",\"BUS\",\"BUS\",\"BUS\",\"MOTOCICLETA\",\"CAMIONETA\",\"BUS\",\"BUSETA\",\"BUS\",\"BUS\",\"BUSETA\",\"BUS\",\"BUS\",\"BUSETA\",\"BUSETA\",\"BUSETA\",\"BUSETA\",\"BUSETA\",\"TRACTO/CAMION\",\"CAMIONETA\",\"MOTOCICLETA\",\"MOTOCICLETA\",\"MOTOCICLETA\",\"MOTOCICLETA\",\"MOTOCICLETA\",\"MOTOCICLETA\",\"MOTOCICLETA\",\"MOTOCICLETA\",\"MOTOCICLETA\",\"MOTOCICLETA\",\"MICROBUS\",\"MICROBUS\",\"MICROBUS\",\"MICROBUS\",\"MICROBUS\",\"MOTOCICLETA\",\"AUTOMOVIL\",\"AUTOMOVIL\",\"BICICLETA\",\"BUSETA\",\"MOTOCICLETA\",\"MOTOCICLETA\",\"MOTOCICLETA\",\"AUTOMOVIL\",\"MOTOCICLETA\",\"AUTOMOVIL\",\"AUTOMOVIL\",\"MOTOCICLETA\",\"CAMIONETA\",\"MOTOCICLETA\",\"MOTOCICLETA\",\"MOTOCICLETA\",\"AUTOMOVIL\",\"AUTOMOVIL\",\"AUTOMOVIL\",\"CAMIONETA\",\"CAMIONETA\",\"AUTOMOVIL\",\"BUSETA\",\"MOTOCICLETA\",\"MOTOCICLETA\",\"MOTOCICLETA\",\"MOTOCICLETA\",\"MOTOCICLETA\",\"MOTOCICLETA\",\"BUS\",\"BUS\",\"BUS\",\"BUS\",\"BUS\",\"BUS\",\"BUS\",\"BUS\",\"BUS\",\"BUS\",\"BUS\",\"BUS\",\"BUS\",\"BUS\",\"BUS\",\"BUS\",\"BUS\",\"BUS\",\"BUS\",\"BUS\",\"BUS\",\"BUS\",\"MOTOCICLETA\",\"MOTOCICLETA\",\"MOTOCICLETA\",\"MOTOCICLETA\",\"MOTOCICLETA\",\"MOTOCICLETA\",\"MOTOCICLETA\",\"MOTOCICLETA\",\"MOTOCICLETA\",\"MOTOCICLETA\",\"MOTOCICLETA\",\"MOTOCICLETA\",\"MOTOCICLETA\",\"MOTOCICLETA\",\"MOTOCICLETA\",\"AUTOMOVIL\",\"MOTOCICLETA\",\"OTROS\",\"OTROS\",\"MOTOCICLETA\",\"VOLQUETA\",\"MOTOCICLETA\",\"OTROS\",\"MOTOCICLETA\",\"MOTOCICLETA\",\"MOTOCICLETA\",\"MOTOCICLETA\",\"MOTOCICLETA\",\"BUS\",\"AUTOMOVIL\",\"AUTOMOVIL\",\"AUTOMOVIL\",\"MOTOCICLETA\",\"MOTOCICLETA\",\"OTROS\",\"OTROS\",\"MOTOCICLETA\",\"AUTOMOVIL\",\"MOTOCICLETA\",\"MOTOCICLETA\",\"MOTOCICLETA\",\"MOTOCICLETA\",\"CAMIONETA\",\"BUSETA\",\"BUSETA\",\"BUSETA\",\"MOTOCICLETA\",\"MOTOCICLETA\",\"MOTOCICLETA\",\"TRACTO/CAMION\",\"MOTOCICLETA\",\"MOTOCICLETA\",\"BUS\",\"AUTOMOVIL\",\"AUTOMOVIL\",\"CAMIONETA\",\"MOTOCICLETA\",\"BUS\",\"BUS\",\"BUS\",\"BUS\",\"BUS\",\"MICROBUS\",\"MOTOCICLETA\",\"BUS\",\"MOTOCICLETA\",\"MOTOCICLETA\",\"MOTOCICLETA\",\"MOTOCICLETA\",\"MOTOCICLETA\",\"MOTOCICLETA\",\"MOTOCICLETA\",\"BUS\",\"AUTOMOVIL\",\"MOTOCICLETA\",\"BUS\",\"MOTOCICLETA\",\"AUTOMOVIL\",\"MOTOCICLETA\",\"MOTOCICLETA\",\"MOTOCICLETA\",\"MOTOCICLETA\",\"MOTOCICLETA\",\"MOTOCICLETA\",\"AUTOMOVIL\",\"AUTOMOVIL\",\"MOTOCICLETA\",\"AUTOMOVIL\",\"MOTOCICLETA\",\"MOTOCICLETA\",\"MOTOCICLETA\",\"MOTOCICLETA\",\"CAMIONETA\",\"MOTOCICLETA\",\"CAMIONETA\",\"BUS\",\"MOTOCICLETA\",\"AUTOMOVIL\",\"MOTOCICLETA\",\"MOTOCICLETA\",\"MOTOCICLETA\",\"MOTOCICLETA\",\"BUS\",\"MOTOCICLETA\",\"MOTOCICLETA\",\"MOTOCICLETA\",\"MOTOCICLETA\",\"MOTOCICLETA\",\"MOTOCICLETA\",\"MOTOCICLETA\",\"MOTOCICLETA\",\"MOTOCICLETA\",\"OTROS\",\"MOTOCICLETA\",\"MOTOCICLETA\",\"MOTOCICLETA\",\"MOTOCICLETA\",\"MOTOCICLETA\",\"MOTOCICLETA\",\"MOTOCICLETA\",\"MOTOCICLETA\",\"MOTOCICLETA\",\"MOTOCICLETA\",\"MOTOCICLETA\",\"MOTOCICLETA\",\"MOTOCICLETA\",\"MOTOCICLETA\",\"BUSETA\",\"MOTOCICLETA\",\"MOTOCICLETA\",\"BUSETA\",\"BUSETA\",\"BUSETA\",\"BUSETA\",\"MOTOCICLETA\",\"CAMIONETA\",\"MOTOCICLETA\",\"CAMIONETA\",\"MOTOCICLETA\",\"MOTOCICLETA\",\"MOTOCICLETA\",\"MOTOCICLETA\",\"MOTOCICLETA\",\"MOTOCICLETA\",\"AUTOMOVIL\",\"AUTOMOVIL\",\"CAMIONETA\",\"CAMIONETA\",\"CAMIONETA\",\"CAMIONETA\",\"CAMIONETA\",\"MOTOCICLETA\",\"MOTOCICLETA\",\"MOTOCICLETA\",\"MOTOCICLETA\",\"MOTOCICLETA\",\"MOTOCICLETA\",\"MOTOCICLETA\",\"MOTOCICLETA\",\"BICICLETA\",\"MOTOCICLETA\",\"MOTOCICLETA\",\"BICICLETA\",\"MOTOCICLETA\",\"MOTOCICLETA\",\"MOTOCICLETA\",\"MOTOCICLETA\",\"AUTOMOVIL\",\"MOTOCICLETA\",\"MOTOCICLETA\",\"AUTOMOVIL\",\"AUTOMOVIL\",\"MOTOCICLETA\",\"MOTOCICLETA\",\"MOTOCICLETA\",\"MOTOCICLETA\",\"MOTOCICLETA\",\"MOTOCICLETA\",\"MOTOCICLETA\",\"AUTOMOVIL\",\"MOTOCICLETA\",\"MOTOCICLETA\",\"MOTOCICLETA\",\"MOTOCICLETA\",\"MOTOCICLETA\",\"MOTOCICLETA\",\"MOTOCICLETA\",\"AUTOMOVIL\",\"MOTOCICLETA\",\"MOTOCICLETA\",\"MOTOCICLETA\",\"MOTOCICLETA\",\"MOTOCICLETA\",\"MOTOCICLETA\",\"MOTOCICLETA\",\"MOTOCICLETA\",\"BICICLETA\",\"MOTOCICLETA\",\"MOTOCICLETA\",\"BUSETA\",\"CAMPERO\",\"CAMPERO\",\"MOTOCICLETA\",\"MOTOCICLETA\",\"MICROBUS\",\"MICROBUS\",\"MICROBUS\",\"MICROBUS\",\"MICROBUS\",\"MICROBUS\",\"MICROBUS\",\"MICROBUS\",\"MICROBUS\",\"MICROBUS\",\"MICROBUS\",\"MICROBUS\",\"MICROBUS\",\"MOTOCICLETA\",\"MOTOCICLETA\",\"AUTOMOVIL\",\"BUSETA\",\"AUTOMOVIL\",\"TRACCION ANIMAL\",\"TRACCION ANIMAL\",\"MOTOCICLETA\",\"AUTOMOVIL\",\"AUTOMOVIL\",\"MOTOCICLETA\",\"MOTOCICLETA\",\"MOTOCICLETA\",\"MOTOCICLETA\",\"BICICLETA\",\"AUTOMOVIL\",\"MOTOCICLETA\",\"MOTOCICLETA\",\"MOTOCICLETA\",\"MOTOCICLETA\",\"MOTOCICLETA\",\"BUS\",\"AUTOMOVIL\",\"AUTOMOVIL\",\"MOTOCICLETA\",\"BUS\",\"AUTOMOVIL\",\"BUS\",\"BICICLETA\",\"AUTOMOVIL\",\"CAMION\",\"CAMION\",\"MOTOCICLETA\",\"MOTOCICLETA\",\"MOTOCICLETA\",\"BICICLETA\",\"MOTOCICLETA\",\"MOTOCICLETA\",\"AUTOMOVIL\",\"MOTOCICLETA\",\"MOTOCICLETA\",\"MOTOCICLETA\",\"AUTOMOVIL\",\"MOTOCICLETA\",\"MOTOCICLETA\",\"OTROS\",\"OTROS\",\"MOTOCICLETA\",\"AUTOMOVIL\",\"BICICLETA\",\"MICROBUS\",\"TRACTO/CAMION\",\"MOTOCICLETA\",\"AUTOMOVIL\",\"MOTOCICLETA\",\"MOTOCICLETA\",\"MOTOCICLETA\",\"MOTOCICLETA\",\"MOTOCICLETA\",\"MOTOCICLETA\",\"AUTOMOVIL\",\"MOTOCICLETA\",\"MOTOCICLETA\",\"MOTOCICLETA\",\"MOTOCICLETA\",\"MOTOCICLETA\",\"MOTOCICLETA\",\"MOTOCICLETA\",\"MOTOCICLETA\",\"MOTOCICLETA\",\"AUTOMOVIL\",\"AUTOMOVIL\",\"CAMIONETA\",\"MOTOCICLETA\",\"MOTOCICLETA\",\"MOTOCICLETA\",\"MOTOCICLETA\",\"MOTOCICLETA\",\"MOTOCICLETA\",\"MOTOCICLETA\",\"VOLQUETA\",\"MOTOCICLETA\",\"MOTOCICLETA\",\"MOTOCICLETA\",\"MOTOCICLETA\",\"MOTOCICLETA\",\"MOTOCICLETA\",\"AUTOMOVIL\",\"AUTOMOVIL\",\"CAMPERO\",\"MOTOCICLETA\",\"MOTOCICLETA\",\"MOTOCICLETA\",\"AUTOMOVIL\",\"OTROS\",\"MOTOCICLETA\",\"MOTOCICLETA\",\"AUTOMOVIL\",\"BICICLETA\",\"MOTOCICLETA\",\"MOTOCICLETA\",\"MOTOCICLETA\",\"MOTOCICLETA\",\"MOTOCICLETA\",\"MOTOCICLETA\",\"AUTOMOVIL\",\"AUTOMOVIL\",\"AUTOMOVIL\",\"MOTOCICLETA\",\"AUTOMOVIL\",\"MOTOCICLETA\",\"MOTOCICLETA\",\"MOTOCICLETA\",\"MOTOCICLETA\",\"OTROS\",\"MOTOCICLETA\",\"AUTOMOVIL\",\"OTROS\",\"MOTOCICLETA\",\"MOTOCICLETA\",\"OTROS\",\"MOTOCICLETA\",\"MOTOCICLETA\",\"MOTOCICLETA\",\"MOTOCICLETA\",\"BUS\",\"BUS\",\"BUS\",\"MOTOCICLETA\",\"MOTOCICLETA\",\"MOTOCICLETA\",\"MOTOCICLETA\",\"TRACTO/CAMION\",\"MOTOCICLETA\",\"AUTOMOVIL\",\"MOTOCICLETA\",\"MOTOCICLETA\",\"BICICLETA\",\"MOTOCICLETA\",\"MOTOCICLETA\",\"BICICLETA\",\"MOTOCICLETA\",\"OTROS\",\"MOTOCICLETA\",\"MOTOCICLETA\",\"MOTOCICLETA\",\"AUTOMOVIL\",\"AUTOMOVIL\",\"AUTOMOVIL\",\"AUTOMOVIL\",\"AUTOMOVIL\",\"AUTOMOVIL\",\"AUTOMOVIL\",\"AUTOMOVIL\",\"MOTOCICLETA\",\"MOTOCICLETA\",\"MOTOCICLETA\",\"MOTOCICLETA\",\"OTROS\",\"MOTOCICLETA\",\"MOTOCICLETA\",\"MOTOCICLETA\",\"MOTOCICLETA\",\"BUS\",\"MOTOCICLETA\",\"MOTOCICLETA\",\"AUTOMOVIL\",\"AUTOMOVIL\",\"MOTOCICLETA\",\"BUS\",\"AUTOMOVIL\",\"MOTOCICLETA\",\"AUTOMOVIL\",\"CAMION\",\"MOTOCICLETA\",\"BICICLETA\",\"AUTOMOVIL\",\"AUTOMOVIL\",\"AUTOMOVIL\",\"MOTOCICLETA\",\"OTROS\",\"MOTOCICLETA\",\"OTROS\",\"BUS\",\"MOTOCICLETA\",\"MOTOCICLETA\",\"MOTOCICLETA\",\"MOTOCICLETA\",\"MOTOCICLETA\",\"MOTOCICLETA\",\"MOTOCICLETA\",\"AUTOMOVIL\",\"BICICLETA\",\"MOTOCICLETA\",\"AUTOMOVIL\",\"AUTOMOVIL\",\"MOTOCICLETA\",\"MOTOCICLETA\",\"MOTOCICLETA\",\"MOTOCICLETA\",\"AUTOMOVIL\",\"AUTOMOVIL\",\"MOTOCICLETA\",\"MOTOCICLETA\",\"MOTOCICLETA\",\"MOTOCICLETA\",\"AUTOMOVIL\",\"AUTOMOVIL\",\"AUTOMOVIL\",\"MOTOCICLETA\",\"MOTOCICLETA\",\"MOTOCICLETA\",\"AUTOMOVIL\",\"MOTOCICLETA\",\"OTROS\",\"AUTOMOVIL\",\"AUTOMOVIL\",\"MOTOCICLETA\",\"MOTOCICLETA\",\"AUTOMOVIL\",\"AUTOMOVIL\",\"AUTOMOVIL\",\"BICICLETA\",\"MOTOCICLETA\",\"MOTOCICLETA\",\"MOTOCICLETA\",\"MOTOCICLETA\",\"MOTOCICLETA\",\"MOTOCICLETA\",\"MOTOCICLETA\",\"AUTOMOVIL\",\"MOTOCICLETA\",\"AUTOMOVIL\",\"AUTOMOVIL\",\"AUTOMOVIL\",\"AUTOMOVIL\",\"CAMIONETA\",\"BUS\",\"MOTOCICLETA\",\"AUTOMOVIL\",\"MOTOCICLETA\",\"BUS\",\"AUTOMOVIL\",\"AUTOMOVIL\",\"OTROS\",\"OTROS\",\"MOTOCICLETA\",\"AUTOMOVIL\",\"AUTOMOVIL\",\"MOTOCICLETA\",\"MOTOCICLETA\",\"MOTOCICLETA\",\"AUTOMOVIL\",\"MOTOCICLETA\",\"MOTOCICLETA\",\"MOTOCICLETA\",\"MOTOCICLETA\",\"MOTOCICLETA\",\"MOTOCICLETA\",\"AUTOMOVIL\",\"BUS\",\"CAMIONETA\",\"CAMIONETA\",\"BUS\",\"MOTOCICLETA\",\"MOTOCICLETA\",\"CAMIONETA\",\"MOTOCICLETA\",\"AUTOMOVIL\",\"MOTOCICLETA\",\"MOTOCICLETA\",\"AUTOMOVIL\",\"AUTOMOVIL\",\"BICICLETA\",\"MOTOCICLETA\",\"MOTOCICLETA\",\"MOTOCICLETA\",\"MOTOCICLETA\",\"MOTOCICLETA\",\"AUTOMOVIL\",\"MOTOCICLETA\",\"MOTOCICLETA\",\"CAMPERO\",\"MOTOCICLETA\",\"MOTOCICLETA\",\"AUTOMOVIL\",\"AUTOMOVIL\",\"AUTOMOVIL\",\"AUTOMOVIL\",\"AUTOMOVIL\",\"AUTOMOVIL\",\"AUTOMOVIL\",\"AUTOMOVIL\",\"MOTOCICLETA\",\"MOTOCICLETA\",\"BUSETA\",\"MOTOCICLETA\",\"MOTOCICLETA\",\"MOTOCICLETA\",\"MOTOCICLETA\",\"AUTOMOVIL\",\"BICICLETA\",\"MOTOCICLETA\",\"MOTOCICLETA\",\"MOTOCICLETA\",\"MOTOCICLETA\",\"MOTOCICLETA\",\"MOTOCICLETA\",\"MOTOCICLETA\",\"MICROBUS\",\"MICROBUS\",\"MICROBUS\",\"MICROBUS\",\"MICROBUS\",\"MICROBUS\",\"AUTOMOVIL\",\"MOTOCICLETA\",\"MOTOCICLETA\",\"BICICLETA\",\"AUTOMOVIL\",\"AUTOMOVIL\",\"AUTOMOVIL\",\"MOTOCICLETA\",\"MOTOCICLETA\",\"AUTOMOVIL\",\"MOTOCICLETA\",\"CAMIONETA\",\"CAMIONETA\",\"MOTOCICLETA\",\"MOTOCICLETA\",\"MOTOCICLETA\",\"BUS\",\"MOTOCICLETA\",\"AUTOMOVIL\",\"AUTOMOVIL\",\"AUTOMOVIL\",\"AUTOMOVIL\",\"AUTOMOVIL\",\"MOTOCICLETA\",\"BICICLETA\",\"MOTOCICLETA\",\"MOTOCICLETA\",\"BUS\",\"MOTOCICLETA\",\"MOTOCICLETA\",\"MOTOCICLETA\",\"MOTOCICLETA\",\"BUS\",\"MOTOCICLETA\",\"MOTOCICLETA\",\"MOTOCICLETA\",\"MOTOCICLETA\",\"MOTOCICLETA\",\"MOTOCICLETA\",\"AUTOMOVIL\",\"AUTOMOVIL\",\"MOTOCICLETA\",\"MOTOCICLETA\",\"MOTOCICLETA\",\"MOTOCICLETA\",\"MOTOCICLETA\",\"MOTOCICLETA\",\"MOTOCICLETA\",\"CAMIONETA\",\"MOTOCICLETA\",\"MOTOCICLETA\",\"MOTOCICLETA\",\"MOTOCICLETA\",\"BUSETA\",\"MOTOCICLETA\",\"BUS\",\"MOTOCICLETA\",\"AUTOMOVIL\",\"AUTOMOVIL\",\"MOTOCICLETA\",\"MOTOCICLETA\",\"AUTOMOVIL\",\"AUTOMOVIL\",\"AUTOMOVIL\",\"AUTOMOVIL\",\"AUTOMOVIL\",\"AUTOMOVIL\",\"MOTOCICLETA\",\"MOTOCICLETA\",\"AUTOMOVIL\",\"MOTOCICLETA\",\"AUTOMOVIL\",\"CAMIONETA\",\"AUTOMOVIL\",\"AUTOMOVIL\",\"MOTOCICLETA\",\"MOTOCICLETA\",\"MOTOCICLETA\",\"AUTOMOVIL\",\"AUTOMOVIL\",\"MOTOCICLETA\",\"MOTOCICLETA\",\"MOTOCICLETA\",\"MOTOCICLETA\",\"MOTOCICLETA\",\"MOTOCICLETA\",\"MOTOCICLETA\",\"MOTOCICLETA\",\"MOTOCICLETA\",\"CAMIONETA\",\"MOTOCICLETA\",\"MOTOCICLETA\",\"MOTOCICLETA\",\"MOTOCICLETA\",\"AUTOMOVIL\",\"AUTOMOVIL\",\"BUS\",\"MOTOCICLETA\",\"MOTOCICLETA\",\"MOTOCICLETA\",\"AUTOMOVIL\",\"MOTOCICLETA\",\"MOTOCICLETA\",\"MOTOCICLETA\",\"MOTOCICLETA\",\"MOTOCICLETA\",\"TRACTO/CAMION\",\"MOTOCICLETA\",\"MOTOCICLETA\",\"MOTOCICLETA\",\"MOTOCICLETA\",\"MOTOCICLETA\",\"BICICLETA\",\"BUSETA\",\"CAMIONETA\",\"AUTOMOVIL\",\"AUTOMOVIL\",\"MOTOCICLETA\",\"MOTOCICLETA\",\"MOTOCICLETA\",\"MOTOCICLETA\",\"BUS\",\"MOTOCICLETA\",\"MOTOCICLETA\",\"AUTOMOVIL\",\"BUSETA\",\"MOTOCICLETA\",\"MOTOCICLETA\",\"MOTOCICLETA\",\"MICROBUS\",\"AUTOMOVIL\",\"CAMIONETA\",\"MOTOCICLETA\",\"MOTOCICLETA\",\"MOTOCICLETA\",\"AUTOMOVIL\",\"MOTOCICLETA\",\"MOTOCICLETA\",\"MOTOCICLETA\",\"AUTOMOVIL\",\"AUTOMOVIL\",\"MOTOCICLETA\",\"MOTOCICLETA\",\"MOTOCICLETA\",\"MOTOCICLETA\",\"MOTOCICLETA\",\"BUS\",\"MOTOCICLETA\",\"CAMPERO\",\"MOTOCICLETA\",\"MOTOCICLETA\",\"MOTOCICLETA\",\"MOTOCICLETA\",\"MOTOCICLETA\",\"MOTOCICLETA\",\"MOTOCICLETA\",\"AUTOMOVIL\",\"MOTOCICLETA\",\"MOTOCICLETA\",\"MOTOCICLETA\",\"MOTOCICLETA\",\"MOTOCICLETA\",\"CAMIONETA\",\"MOTOCICLETA\",\"MOTOCICLETA\",\"MOTOCICLETA\",\"MOTOCICLETA\",\"MOTOCICLETA\",\"MOTOCICLETA\",\"MOTOCICLETA\",\"MOTOCICLETA\",\"MOTOCICLETA\",\"MOTOCICLETA\",\"MOTOCICLETA\",\"AUTOMOVIL\",\"MOTOCICLETA\",\"MOTOCICLETA\",\"MOTOCICLETA\",\"AUTOMOVIL\",\"AUTOMOVIL\",\"MOTOCICLETA\",\"MOTOCICLETA\",\"MOTOCICLETA\",\"MOTOCICLETA\",\"CAMIONETA\",\"AUTOMOVIL\",\"MOTOCICLETA\",\"BUSETA\",\"MOTOCICLETA\",\"MOTOCICLETA\",\"AUTOMOVIL\",\"AUTOMOVIL\",\"MOTOCICLETA\",\"AUTOMOVIL\",\"MOTOCICLETA\",\"AUTOMOVIL\",\"MOTOCICLETA\",\"MOTOCICLETA\",\"MOTOCICLETA\",\"MOTOCICLETA\",\"BICICLETA\",\"MOTOCICLETA\",\"MOTOCICLETA\",\"AUTOMOVIL\",\"AUTOMOVIL\",\"AUTOMOVIL\",\"AUTOMOVIL\",\"MOTOCICLETA\",\"MOTOCICLETA\",\"AUTOMOVIL\",\"MOTOCICLETA\",\"MOTOCICLETA\",\"MOTOCICLETA\",\"MOTOCICLETA\",\"MOTOCICLETA\",\"MOTOCICLETA\",\"MOTOCICLETA\",\"MOTOCICLETA\",\"MOTOCICLETA\",\"MOTOCICLETA\",\"MOTOCICLETA\",\"MOTOCICLETA\",\"MOTOCICLETA\",\"MOTOCICLETA\",\"MOTOCICLETA\",\"AUTOMOVIL\",\"AUTOMOVIL\",\"MOTOCICLETA\",\"MOTOCICLETA\",\"MOTOCICLETA\",\"MOTOCICLETA\",\"MOTOCICLETA\",\"BUSETA\",\"MOTOCICLETA\",\"MOTOCICLETA\",\"BUS\",\"AUTOMOVIL\",\"MOTOCICLETA\",\"MOTOCICLETA\",\"BUS\",\"MOTOCICLETA\",\"MOTOCICLETA\",\"BUS\",\"AUTOMOVIL\",\"BUS\",\"BUS\",\"MOTOCICLETA\",\"MOTOCICLETA\",\"MOTOCICLETA\",\"MOTOCICLETA\",\"MOTOCICLETA\",\"BUS\",\"MOTOCICLETA\",\"MOTOCICLETA\",\"MOTOCICLETA\",\"MOTOCICLETA\",\"MOTOCICLETA\",\"MOTOCICLETA\",\"MOTOCICLETA\",\"MOTOCICLETA\",\"MOTOCICLETA\",\"AUTOMOVIL\",\"AUTOMOVIL\",\"MOTOCICLETA\",\"MOTOCICLETA\",\"MOTOCICLETA\",\"MOTOCICLETA\",\"MOTOCICLETA\",\"MOTOCICLETA\",\"BUS\",\"BUS\",\"MOTOCICLETA\",\"MOTOCICLETA\",\"MOTOCICLETA\",\"BUS\",\"MOTOCICLETA\",\"MOTOCICLETA\",\"MOTOCICLETA\",\"MOTOCICLETA\",\"MOTOCICLETA\",\"MOTOCICLETA\",\"MOTOCICLETA\",\"MOTOCICLETA\",\"OTROS\",\"MOTOCICLETA\",\"MOTOCICLETA\",\"MOTOCICLETA\",\"MOTOCICLETA\",\"BUS\",\"CAMIONETA\",\"MOTOCICLETA\",\"MOTOCICLETA\",\"MOTOCICLETA\",\"MOTOCICLETA\",\"MOTOCICLETA\",\"MOTOCICLETA\",\"MOTOCICLETA\",\"MOTOCICLETA\",\"AUTOMOVIL\",\"MOTOCICLETA\",\"MOTOCICLETA\",\"CAMIONETA\",\"CAMIONETA\",\"AUTOMOVIL\",\"AUTOMOVIL\",\"AUTOMOVIL\",\"AUTOMOVIL\",\"AUTOMOVIL\",\"AUTOMOVIL\",\"AUTOMOVIL\",\"CAMION\",\"MOTOCICLETA\",\"MOTOCICLETA\",\"MOTOCICLETA\",\"MOTOCICLETA\",\"MOTOCICLETA\",\"OTROS\",\"OTROS\",\"AUTOMOVIL\",\"MOTOCICLETA\",\"MOTOCICLETA\",\"AUTOMOVIL\",\"AUTOMOVIL\",\"MOTOCICLETA\",\"MOTOCICLETA\",\"AUTOMOVIL\",\"MOTOCICLETA\",\"MOTOCICLETA\",\"AUTOMOVIL\",\"AUTOMOVIL\",\"AUTOMOVIL\",\"AUTOMOVIL\",\"MICROBUS\",\"MOTOCICLETA\",\"MOTOCICLETA\",\"MOTOCICLETA\",\"MOTOCICLETA\",\"MICROBUS\",\"BICICLETA\",\"AUTOMOVIL\",\"AUTOMOVIL\",\"MOTOCICLETA\",\"AUTOMOVIL\",\"AUTOMOVIL\",\"CAMPERO\",\"AUTOMOVIL\",\"MOTOCICLETA\",\"MOTOCICLETA\",\"MOTOCICLETA\",\"MOTOCICLETA\",\"MOTOCICLETA\",\"BUSETA\",\"MOTOCICLETA\",\"MOTOCICLETA\",\"MOTOCICLETA\",\"MOTOCICLETA\",\"MOTOCICLETA\",\"MOTOCICLETA\",\"MOTOCICLETA\",\"MOTOCICLETA\",\"MOTOCICLETA\",\"MOTOCICLETA\",\"MOTOCICLETA\",\"OTROS\",\"MOTOCICLETA\",\"AUTOMOVIL\",\"AUTOMOVIL\",\"AUTOMOVIL\",\"AUTOMOVIL\",\"AUTOMOVIL\",\"AUTOMOVIL\",\"AUTOMOVIL\",\"AUTOMOVIL\",\"AUTOMOVIL\",\"AUTOMOVIL\",\"AUTOMOVIL\",\"AUTOMOVIL\",\"AUTOMOVIL\",\"AUTOMOVIL\",\"AUTOMOVIL\",\"AUTOMOVIL\",\"AUTOMOVIL\",\"AUTOMOVIL\",\"AUTOMOVIL\",\"AUTOMOVIL\",\"CAMIONETA\",\"AUTOMOVIL\",\"MOTOCICLETA\",\"AUTOMOVIL\",\"MOTOCICLETA\",\"MOTOCICLETA\",\"MOTOCICLETA\",\"MOTOCICLETA\",\"MOTOCICLETA\",\"MOTOCICLETA\",\"BUSETA\",\"MOTOCICLETA\",\"MOTOCICLETA\",\"MOTOCICLETA\",\"BUS\",\"MOTOCICLETA\",\"MOTOCICLETA\",\"BUS\",\"BUSETA\",\"BUSETA\",\"BUSETA\",\"BUS\",\"BUS\",\"BUS\",\"BUS\",\"BUSETA\",\"BUS\",\"BUSETA\",\"BUS\",\"BUS\",\"MOTOCICLETA\",\"MOTOCICLETA\",\"MOTOCICLETA\",\"MOTOCICLETA\",\"BUS\",\"CAMPERO\",\"AUTOMOVIL\",\"MOTOCICLETA\",\"MOTOCICLETA\",\"MOTOCICLETA\",\"AUTOMOVIL\",\"MOTOCICLETA\",\"MOTOCICLETA\",\"MOTOCICLETA\",\"MOTOCICLETA\",\"CAMION\",\"MOTOCICLETA\",\"MOTOCICLETA\",\"AUTOMOVIL\",\"MOTOCICLETA\",\"MOTOCICLETA\",\"AUTOMOVIL\",\"AUTOMOVIL\",\"MOTOCICLETA\",\"AUTOMOVIL\",\"MICROBUS\",\"BUS\",\"AUTOMOVIL\",\"AUTOMOVIL\",\"MOTOCICLETA\",\"BUSETA\",\"AUTOMOVIL\",\"AUTOMOVIL\",\"MOTOCICLETA\",\"MOTOCICLETA\",\"MOTOCICLETA\",\"MOTOCICLETA\",\"CAMION\",\"MOTOCICLETA\",\"AUTOMOVIL\",\"AUTOMOVIL\",\"AUTOMOVIL\",\"AUTOMOVIL\",\"BUSETA\",\"MOTOCICLETA\",\"MOTOCICLETA\",\"MOTOCICLETA\",\"MOTOCICLETA\",\"MOTOCICLETA\",\"MOTOCICLETA\",\"BUS\",\"MOTOCICLETA\",\"MOTOCICLETA\",\"AUTOMOVIL\",\"MOTOCICLETA\",\"BICICLETA\",\"BICICLETA\",\"BICICLETA\",\"MOTOCICLETA\",\"MOTOCICLETA\",\"MOTOCICLETA\",\"AUTOMOVIL\",\"BUS\",\"MOTOCICLETA\",\"MOTOCICLETA\",\"MOTOCICLETA\",\"MOTOCICLETA\",\"MOTOCICLETA\",\"MOTOCICLETA\",\"AUTOMOVIL\",\"MOTOCICLETA\",\"MOTOCICLETA\",\"MOTOCICLETA\",\"MOTOCICLETA\",\"MOTOCICLETA\",\"MOTOCICLETA\",\"MOTOCICLETA\",\"MOTOCICLETA\",\"MOTOCICLETA\",\"MOTOCICLETA\",\"AUTOMOVIL\",\"MOTOCICLETA\",\"MOTOCICLETA\",\"MOTOCICLETA\",\"MOTOCICLETA\",\"MOTOCICLETA\",\"MOTOCICLETA\",\"MOTOCICLETA\",\"MOTOCICLETA\",\"MOTOCICLETA\",\"MOTOCICLETA\",\"AUTOMOVIL\",\"BICICLETA\",\"MOTOCICLETA\",\"MOTOCICLETA\",\"AUTOMOVIL\",\"AUTOMOVIL\",\"AUTOMOVIL\",\"MOTOCICLETA\",\"CAMIONETA\",\"CAMIONETA\",\"CAMIONETA\",\"CAMIONETA\",\"MOTOCICLETA\",\"MOTOCICLETA\",\"MOTOCICLETA\",\"MOTOCICLETA\",\"MOTOCICLETA\",\"AUTOMOVIL\",\"BUS\",\"MOTOCICLETA\",\"MOTOCICLETA\",\"MOTOCICLETA\",\"MOTOCICLETA\",\"MOTOCICLETA\",\"MOTOCICLETA\",\"MOTOCICLETA\",\"MOTOCICLETA\",\"MOTOCICLETA\",\"MOTOCICLETA\",\"MOTOCICLETA\",\"MOTOCICLETA\",\"MOTOCICLETA\",\"MOTOCICLETA\",\"MOTOCICLETA\",\"AUTOMOVIL\",\"AUTOMOVIL\",\"MOTOCICLETA\",\"MOTOCICLETA\",\"MOTOCICLETA\",\"MOTOCICLETA\",\"MOTOCICLETA\",\"MOTOCICLETA\",\"AUTOMOVIL\",\"MOTOCICLETA\",\"MOTOCICLETA\",\"MOTOCICLETA\",\"MOTOCICLETA\",\"AUTOMOVIL\",\"AUTOMOVIL\",\"AUTOMOVIL\",\"MOTOCICLETA\",\"MOTOCICLETA\",\"MOTOCICLETA\",\"BICICLETA\",\"MOTOCICLETA\",\"CAMIONETA\",\"CAMIONETA\",\"MOTOCICLETA\",\"BICICLETA\",\"MOTOCICLETA\",\"MOTOCICLETA\",\"MOTOCICLETA\",\"MOTOCICLETA\",\"AUTOMOVIL\",\"AUTOMOVIL\",\"MOTOCICLETA\",\"MOTOCICLETA\",\"MOTOCICLETA\",\"MOTOCICLETA\",\"MOTOCICLETA\",\"MOTOCICLETA\",\"AUTOMOVIL\",\"MOTOCICLETA\",\"MOTOCICLETA\",\"MOTOCICLETA\",\"MOTOCICLETA\",\"MOTOCICLETA\",\"MOTOCICLETA\",\"MOTOCICLETA\",\"MOTOCICLETA\",\"MOTOCICLETA\",\"MOTOCICLETA\",\"MOTOCICLETA\",\"MOTOCICLETA\",\"MOTOCICLETA\",\"MOTOCICLETA\",\"MOTOCICLETA\",\"BUS\",\"MOTOCICLETA\",\"MOTOCICLETA\",\"BUS\",\"AUTOMOVIL\",\"AUTOMOVIL\",\"MOTOCICLETA\",\"MOTOCICLETA\",\"MOTOCICLETA\",\"BICICLETA\",\"MOTOCICLETA\",\"AUTOMOVIL\",\"AUTOMOVIL\",\"MOTOCICLETA\",\"MOTOCICLETA\",\"MOTOCICLETA\",\"CAMIONETA\",\"MOTOCICLETA\",\"MOTOCICLETA\",\"CAMPERO\",\"AUTOMOVIL\",\"CAMIONETA\",\"MOTOCICLETA\",\"MOTOCICLETA\",\"MOTOCICLETA\",\"MOTOCICLETA\",\"MOTOCICLETA\",\"AUTOMOVIL\",\"MOTOCICLETA\",\"MOTOCICLETA\",\"CAMPERO\",\"MOTOCICLETA\",\"MOTOCICLETA\",\"MOTOCICLETA\",\"MOTOCICLETA\",\"MOTOCICLETA\",\"AUTOMOVIL\",\"MOTOCICLETA\",\"MOTOCICLETA\",\"MOTOCICLETA\",\"MOTOCICLETA\",\"CAMIONETA\",\"CAMIONETA\",\"MOTOCICLETA\",\"MOTOCICLETA\",\"MOTOCICLETA\",\"TRACTO/CAMION\",\"BUS\",\"MOTOCICLETA\",\"AUTOMOVIL\",\"MOTOCICLETA\",\"MOTOCICLETA\",\"MOTOCICLETA\",\"MOTOCICLETA\",\"MOTOCICLETA\",\"AUTOMOVIL\",\"AUTOMOVIL\",\"AUTOMOVIL\",\"AUTOMOVIL\",\"MOTOCICLETA\",\"MOTOCICLETA\",\"MOTOCICLETA\",\"MOTOCICLETA\",\"MOTOCICLETA\",\"MOTOCICLETA\",\"MOTOCICLETA\",\"MOTOCICLETA\",\"MOTOCICLETA\",\"MOTOCICLETA\",\"MOTOCICLETA\",\"BUSETA\",\"MOTOCICLETA\",\"MOTOCICLETA\",\"AUTOMOVIL\",\"AUTOMOVIL\",\"AUTOMOVIL\",\"AUTOMOVIL\",\"AUTOMOVIL\",\"AUTOMOVIL\",\"MOTOCICLETA\",\"MOTOCICLETA\",\"TRACTO/CAMION\",\"BUSETA\",\"MOTOCICLETA\",\"MOTOCICLETA\",\"MOTOCICLETA\",\"BUS\",\"MOTOCICLETA\",\"MOTOCICLETA\",\"MOTOCICLETA\",\"MOTOCICLETA\",\"MOTOCICLETA\",\"MOTOCICLETA\",\"MOTOCICLETA\",\"MOTOCICLETA\",\"MOTOCICLETA\",\"MOTOCICLETA\",\"AUTOMOVIL\",\"MOTOCICLETA\",\"MOTOCICLETA\",\"MOTOCICLETA\",\"MOTOCICLETA\",\"BUSETA\",\"MOTOCICLETA\",\"MOTOCICLETA\",\"MOTOCICLETA\",\"BUS\",\"BUS\",\"MOTOCICLETA\",\"MOTOCICLETA\",\"MOTOCICLETA\",\"BICICLETA\",\"MOTOCICLETA\",\"MOTOCICLETA\",\"MOTOCICLETA\",\"MOTOCICLETA\",\"AUTOMOVIL\",\"MOTOCICLETA\",\"BUS\",\"MOTOCICLETA\",\"MOTOCICLETA\",\"BUS\",\"MOTOCICLETA\",\"MOTOCICLETA\",\"MOTOCICLETA\",\"AUTOMOVIL\",\"MOTOCICLETA\",\"MOTOCICLETA\",\"CAMIONETA\",\"AUTOMOVIL\",\"AUTOMOVIL\",\"AUTOMOVIL\",\"AUTOMOVIL\",\"AUTOMOVIL\",\"MOTOCICLETA\",\"MOTOCICLETA\",\"MOTOCICLETA\",\"CAMIONETA\",\"MOTOCICLETA\",\"MOTOCICLETA\",\"MOTOCICLETA\",\"MOTOCICLETA\",\"MOTOCICLETA\",\"MOTOCICLETA\",\"MOTOCICLETA\",\"MOTOCICLETA\",\"MOTOCICLETA\",\"MOTOCICLETA\",\"MOTOCICLETA\",\"BUS\",\"AUTOMOVIL\",\"MOTOCICLETA\",\"MOTOCICLETA\",\"MOTOCICLETA\",\"MOTOCICLETA\",\"MOTOCICLETA\",\"MOTOCICLETA\",\"OTROS\",\"MOTOCICLETA\",\"MOTOCICLETA\",\"AUTOMOVIL\",\"MOTOCICLETA\",\"MOTOCICLETA\",\"AUTOMOVIL\",\"MOTOCICLETA\",\"MOTOCICLETA\",\"MOTOCICLETA\",\"MOTOCICLETA\",\"MOTOCICLETA\",\"AUTOMOVIL\",\"MOTOCICLETA\",\"MOTOCICLETA\",\"AUTOMOVIL\",\"MOTOCICLETA\",\"MOTOCICLETA\",\"BUS\",\"MOTOCICLETA\",\"AUTOMOVIL\",\"MOTOCICLETA\",\"MOTOCICLETA\",\"MOTOCICLETA\",\"MOTOCICLETA\",\"MOTOCICLETA\",\"BUSETA\",\"MOTOCICLETA\",\"MOTOCICLETA\",\"MOTOCICLETA\",\"MOTOCICLETA\",\"MOTOCICLETA\",\"MOTOCICLETA\",\"MOTOCICLETA\",\"MOTOCICLETA\",\"MOTOCICLETA\",\"MOTOCICLETA\",\"AUTOMOVIL\",\"CAMION\",\"AUTOMOVIL\",\"AUTOMOVIL\",\"AUTOMOVIL\",\"MOTOCICLETA\",\"CAMIONETA\",\"AUTOMOVIL\",\"AUTOMOVIL\",\"CAMIONETA\",\"MOTOCICLETA\",\"MOTOCICLETA\",\"MOTOCICLETA\",\"MOTOCICLETA\",\"MOTOCICLETA\",\"MOTOCICLETA\",\"MOTOCICLETA\",\"CAMPERO\",\"MOTOCICLETA\",\"MOTOCICLETA\",\"MOTOCICLETA\",\"MOTOCICLETA\",\"MOTOCICLETA\",\"MOTOCICLETA\",\"MOTOCICLETA\",\"CAMIONETA\",\"MOTOCICLETA\",\"MOTOCICLETA\",\"AUTOMOVIL\",\"MOTOCICLETA\",\"MOTOCICLETA\",\"BUS\",\"MOTOCICLETA\",\"MOTOCICLETA\",\"AUTOMOVIL\",\"AUTOMOVIL\",\"MOTOCICLETA\",\"MOTOCICLETA\",\"AUTOMOVIL\",\"MOTOCICLETA\",\"MOTOCICLETA\",\"MOTOCICLETA\",\"BICICLETA\",\"MOTOCICLETA\",\"MOTOCICLETA\",\"MOTOCICLETA\",\"MOTOCICLETA\",\"MOTOCICLETA\",\"MOTOCICLETA\",\"MOTOCICLETA\",\"MOTOCICLETA\",\"MOTOCICLETA\",\"AUTOMOVIL\",\"MOTOCICLETA\",\"MOTOCICLETA\",\"MOTOCICLETA\",\"MOTOCICLETA\",\"MOTOCICLETA\",\"MOTOCICLETA\",\"MOTOCICLETA\",\"MICROBUS\",\"MOTOCICLETA\",\"MOTOCICLETA\",\"MOTOCICLETA\",\"MOTOCICLETA\",\"MOTOCICLETA\",\"MOTOCICLETA\",\"MOTOCICLETA\",\"MOTOCICLETA\",\"MOTOCICLETA\",\"MOTOCICLETA\",\"MOTOCICLETA\",\"BUS\",\"MOTOCICLETA\",\"MOTOCICLETA\",\"MOTOCICLETA\",\"MOTOCICLETA\",\"MOTOCICLETA\",\"MOTOCICLETA\",\"BUS\",\"BUS\",\"MOTOCICLETA\",\"AUTOMOVIL\",\"AUTOMOVIL\",\"CAMIONETA\",\"VOLQUETA\",\"CAMION\",\"MOTOCICLETA\",\"MOTOCICLETA\",\"AUTOMOVIL\",\"AUTOMOVIL\",\"AUTOMOVIL\",\"MOTOCICLETA\",\"MOTOCICLETA\",\"MOTOCICLETA\",\"MOTOCICLETA\",\"AUTOMOVIL\",\"CAMIONETA\",\"MOTOCICLETA\",\"CAMPERO\",\"MOTOCICLETA\",\"AUTOMOVIL\",\"MOTOCICLETA\",\"MOTOCICLETA\",\"MOTOCICLETA\",\"MOTOCICLETA\",\"MOTOCICLETA\",\"MOTOCICLETA\",\"BUS\",\"BICICLETA\",\"CAMIONETA\",\"CAMIONETA\",\"MOTOCICLETA\",\"MOTOCICLETA\",\"MOTOCICLETA\",\"MOTOCICLETA\",\"BUSETA\",\"CAMION\",\"MOTOCICLETA\",\"MOTOCICLETA\",\"MOTOCICLETA\",\"CAMIONETA\",\"MOTOCICLETA\",\"MOTOCICLETA\",\"MOTOCICLETA\",\"MOTOCICLETA\",\"BUSETA\",\"MOTOCICLETA\",\"MOTOCICLETA\",\"MOTOCICLETA\",\"MOTOCICLETA\",\"MOTOCICLETA\",\"MICROBUS\",\"AUTOMOVIL\",\"AUTOMOVIL\",\"AUTOMOVIL\",\"BUSETA\",\"MOTOCICLETA\",\"CAMIONETA\",\"MOTOCICLETA\",\"MOTOCICLETA\",\"CAMPERO\",\"MOTOCICLETA\",\"MOTOCICLETA\",\"MOTOCICLETA\",\"MOTOCICLETA\",\"MOTOCICLETA\",\"AUTOMOVIL\",\"MICROBUS\",\"MICROBUS\",\"MICROBUS\",\"MICROBUS\",\"MICROBUS\",\"MICROBUS\",\"MICROBUS\",\"AUTOMOVIL\",\"AUTOMOVIL\",\"AUTOMOVIL\",\"AUTOMOVIL\",\"BICICLETA\",\"MOTOCICLETA\",\"MOTOCICLETA\",\"MOTOCICLETA\",\"MOTOCICLETA\",\"MOTOCICLETA\",\"AUTOMOVIL\",\"AUTOMOVIL\",\"MOTOCICLETA\",\"AUTOMOVIL\",\"AUTOMOVIL\",\"MOTOCICLETA\",\"MOTOCICLETA\",\"MOTOCICLETA\",\"MOTOCICLETA\",\"MOTOCICLETA\",\"MOTOCICLETA\",\"AUTOMOVIL\",\"MOTOCICLETA\",\"MOTOCICLETA\",\"MOTOCICLETA\",\"BICICLETA\",\"AUTOMOVIL\",\"MOTOCICLETA\",\"MOTOCICLETA\",\"MOTOCICLETA\",\"MOTOCICLETA\",\"MOTOCICLETA\",\"MOTOCICLETA\",\"BUS\",\"MOTOCICLETA\",\"MOTOCICLETA\",\"MOTOCICLETA\",\"MOTOCICLETA\",\"MOTOCICLETA\",\"MOTOCICLETA\",\"AUTOMOVIL\",\"MOTOCICLETA\",\"MOTOCICLETA\",\"MOTOCICLETA\",\"MOTOCICLETA\",\"MOTOCICLETA\",\"MOTOCICLETA\",\"BUS\",\"AUTOMOVIL\",\"MOTOCICLETA\",\"MOTOCICLETA\",\"MOTOCICLETA\",\"MOTOCICLETA\",\"BUS\",\"AUTOMOVIL\",\"MOTOCICLETA\",\"MOTOCICLETA\",\"AUTOMOVIL\",\"MOTOCICLETA\",\"BUS\",\"MOTOCICLETA\",\"BUS\",\"MOTOCICLETA\",\"MICROBUS\",\"MOTOCICLETA\",\"CAMION\",\"CICLO TAXI\",\"CICLO TAXI\",\"AUTOMOVIL\",\"MOTOCICLETA\",\"MOTOCICLETA\",\"MOTOCICLETA\",\"MOTOCICLETA\",\"BICICLETA\",\"MOTOCICLETA\",\"BICICLETA\",\"MOTOCICLETA\",\"MOTOCICLETA\",\"MOTOCICLETA\",\"BUSETA\",\"BUSETA\",\"BUSETA\",\"BUSETA\",\"BUSETA\",\"BUSETA\",\"BUSETA\",\"BUSETA\",\"BUSETA\",\"BUSETA\",\"BUSETA\",\"BUSETA\",\"BUSETA\",\"MOTOCICLETA\",\"AUTOMOVIL\",\"AUTOMOVIL\",\"MOTOCICLETA\",\"MOTOCICLETA\",\"MOTOCICLETA\",\"BUS\",\"MOTOCICLETA\",\"MOTOCICLETA\",\"MOTOCICLETA\",\"AUTOMOVIL\",\"MOTOCICLETA\",\"MOTOCICLETA\",\"AUTOMOVIL\",\"AUTOMOVIL\",\"MOTOCICLETA\",\"AUTOMOVIL\",\"MOTOCICLETA\",\"MOTOCICLETA\",\"BICICLETA\",\"MOTOCICLETA\",\"AUTOMOVIL\",\"AUTOMOVIL\",\"MOTOCICLETA\",\"MOTOCICLETA\",\"AUTOMOVIL\",\"MOTOCICLETA\",\"MOTOCICLETA\",\"MOTOCICLETA\",\"MOTOCICLETA\",\"AUTOMOVIL\",\"AUTOMOVIL\",\"MOTOCICLETA\",\"CAMION\",\"BICICLETA\",\"BICICLETA\",\"MOTOCICLETA\",\"AUTOMOVIL\",\"MOTOCICLETA\",\"MOTOCICLETA\",\"MOTOCICLETA\",\"MOTOCICLETA\",\"MOTOCICLETA\",\"MOTOCICLETA\",\"MOTOCICLETA\",\"MOTOCICLETA\",\"BUS\",\"MOTOCICLETA\",\"AUTOMOVIL\",\"MOTOCICLETA\",\"MOTOCICLETA\"],\"yaxis\":\"y\",\"ybingroup\":\"y\",\"type\":\"histogram2d\"}],                        {\"template\":{\"data\":{\"bar\":[{\"error_x\":{\"color\":\"#2a3f5f\"},\"error_y\":{\"color\":\"#2a3f5f\"},\"marker\":{\"line\":{\"color\":\"#E5ECF6\",\"width\":0.5},\"pattern\":{\"fillmode\":\"overlay\",\"size\":10,\"solidity\":0.2}},\"type\":\"bar\"}],\"barpolar\":[{\"marker\":{\"line\":{\"color\":\"#E5ECF6\",\"width\":0.5},\"pattern\":{\"fillmode\":\"overlay\",\"size\":10,\"solidity\":0.2}},\"type\":\"barpolar\"}],\"carpet\":[{\"aaxis\":{\"endlinecolor\":\"#2a3f5f\",\"gridcolor\":\"white\",\"linecolor\":\"white\",\"minorgridcolor\":\"white\",\"startlinecolor\":\"#2a3f5f\"},\"baxis\":{\"endlinecolor\":\"#2a3f5f\",\"gridcolor\":\"white\",\"linecolor\":\"white\",\"minorgridcolor\":\"white\",\"startlinecolor\":\"#2a3f5f\"},\"type\":\"carpet\"}],\"choropleth\":[{\"colorbar\":{\"outlinewidth\":0,\"ticks\":\"\"},\"type\":\"choropleth\"}],\"contour\":[{\"colorbar\":{\"outlinewidth\":0,\"ticks\":\"\"},\"colorscale\":[[0.0,\"#0d0887\"],[0.1111111111111111,\"#46039f\"],[0.2222222222222222,\"#7201a8\"],[0.3333333333333333,\"#9c179e\"],[0.4444444444444444,\"#bd3786\"],[0.5555555555555556,\"#d8576b\"],[0.6666666666666666,\"#ed7953\"],[0.7777777777777778,\"#fb9f3a\"],[0.8888888888888888,\"#fdca26\"],[1.0,\"#f0f921\"]],\"type\":\"contour\"}],\"contourcarpet\":[{\"colorbar\":{\"outlinewidth\":0,\"ticks\":\"\"},\"type\":\"contourcarpet\"}],\"heatmap\":[{\"colorbar\":{\"outlinewidth\":0,\"ticks\":\"\"},\"colorscale\":[[0.0,\"#0d0887\"],[0.1111111111111111,\"#46039f\"],[0.2222222222222222,\"#7201a8\"],[0.3333333333333333,\"#9c179e\"],[0.4444444444444444,\"#bd3786\"],[0.5555555555555556,\"#d8576b\"],[0.6666666666666666,\"#ed7953\"],[0.7777777777777778,\"#fb9f3a\"],[0.8888888888888888,\"#fdca26\"],[1.0,\"#f0f921\"]],\"type\":\"heatmap\"}],\"heatmapgl\":[{\"colorbar\":{\"outlinewidth\":0,\"ticks\":\"\"},\"colorscale\":[[0.0,\"#0d0887\"],[0.1111111111111111,\"#46039f\"],[0.2222222222222222,\"#7201a8\"],[0.3333333333333333,\"#9c179e\"],[0.4444444444444444,\"#bd3786\"],[0.5555555555555556,\"#d8576b\"],[0.6666666666666666,\"#ed7953\"],[0.7777777777777778,\"#fb9f3a\"],[0.8888888888888888,\"#fdca26\"],[1.0,\"#f0f921\"]],\"type\":\"heatmapgl\"}],\"histogram\":[{\"marker\":{\"pattern\":{\"fillmode\":\"overlay\",\"size\":10,\"solidity\":0.2}},\"type\":\"histogram\"}],\"histogram2d\":[{\"colorbar\":{\"outlinewidth\":0,\"ticks\":\"\"},\"colorscale\":[[0.0,\"#0d0887\"],[0.1111111111111111,\"#46039f\"],[0.2222222222222222,\"#7201a8\"],[0.3333333333333333,\"#9c179e\"],[0.4444444444444444,\"#bd3786\"],[0.5555555555555556,\"#d8576b\"],[0.6666666666666666,\"#ed7953\"],[0.7777777777777778,\"#fb9f3a\"],[0.8888888888888888,\"#fdca26\"],[1.0,\"#f0f921\"]],\"type\":\"histogram2d\"}],\"histogram2dcontour\":[{\"colorbar\":{\"outlinewidth\":0,\"ticks\":\"\"},\"colorscale\":[[0.0,\"#0d0887\"],[0.1111111111111111,\"#46039f\"],[0.2222222222222222,\"#7201a8\"],[0.3333333333333333,\"#9c179e\"],[0.4444444444444444,\"#bd3786\"],[0.5555555555555556,\"#d8576b\"],[0.6666666666666666,\"#ed7953\"],[0.7777777777777778,\"#fb9f3a\"],[0.8888888888888888,\"#fdca26\"],[1.0,\"#f0f921\"]],\"type\":\"histogram2dcontour\"}],\"mesh3d\":[{\"colorbar\":{\"outlinewidth\":0,\"ticks\":\"\"},\"type\":\"mesh3d\"}],\"parcoords\":[{\"line\":{\"colorbar\":{\"outlinewidth\":0,\"ticks\":\"\"}},\"type\":\"parcoords\"}],\"pie\":[{\"automargin\":true,\"type\":\"pie\"}],\"scatter\":[{\"marker\":{\"colorbar\":{\"outlinewidth\":0,\"ticks\":\"\"}},\"type\":\"scatter\"}],\"scatter3d\":[{\"line\":{\"colorbar\":{\"outlinewidth\":0,\"ticks\":\"\"}},\"marker\":{\"colorbar\":{\"outlinewidth\":0,\"ticks\":\"\"}},\"type\":\"scatter3d\"}],\"scattercarpet\":[{\"marker\":{\"colorbar\":{\"outlinewidth\":0,\"ticks\":\"\"}},\"type\":\"scattercarpet\"}],\"scattergeo\":[{\"marker\":{\"colorbar\":{\"outlinewidth\":0,\"ticks\":\"\"}},\"type\":\"scattergeo\"}],\"scattergl\":[{\"marker\":{\"colorbar\":{\"outlinewidth\":0,\"ticks\":\"\"}},\"type\":\"scattergl\"}],\"scattermapbox\":[{\"marker\":{\"colorbar\":{\"outlinewidth\":0,\"ticks\":\"\"}},\"type\":\"scattermapbox\"}],\"scatterpolar\":[{\"marker\":{\"colorbar\":{\"outlinewidth\":0,\"ticks\":\"\"}},\"type\":\"scatterpolar\"}],\"scatterpolargl\":[{\"marker\":{\"colorbar\":{\"outlinewidth\":0,\"ticks\":\"\"}},\"type\":\"scatterpolargl\"}],\"scatterternary\":[{\"marker\":{\"colorbar\":{\"outlinewidth\":0,\"ticks\":\"\"}},\"type\":\"scatterternary\"}],\"surface\":[{\"colorbar\":{\"outlinewidth\":0,\"ticks\":\"\"},\"colorscale\":[[0.0,\"#0d0887\"],[0.1111111111111111,\"#46039f\"],[0.2222222222222222,\"#7201a8\"],[0.3333333333333333,\"#9c179e\"],[0.4444444444444444,\"#bd3786\"],[0.5555555555555556,\"#d8576b\"],[0.6666666666666666,\"#ed7953\"],[0.7777777777777778,\"#fb9f3a\"],[0.8888888888888888,\"#fdca26\"],[1.0,\"#f0f921\"]],\"type\":\"surface\"}],\"table\":[{\"cells\":{\"fill\":{\"color\":\"#EBF0F8\"},\"line\":{\"color\":\"white\"}},\"header\":{\"fill\":{\"color\":\"#C8D4E3\"},\"line\":{\"color\":\"white\"}},\"type\":\"table\"}]},\"layout\":{\"annotationdefaults\":{\"arrowcolor\":\"#2a3f5f\",\"arrowhead\":0,\"arrowwidth\":1},\"autotypenumbers\":\"strict\",\"coloraxis\":{\"colorbar\":{\"outlinewidth\":0,\"ticks\":\"\"}},\"colorscale\":{\"diverging\":[[0,\"#8e0152\"],[0.1,\"#c51b7d\"],[0.2,\"#de77ae\"],[0.3,\"#f1b6da\"],[0.4,\"#fde0ef\"],[0.5,\"#f7f7f7\"],[0.6,\"#e6f5d0\"],[0.7,\"#b8e186\"],[0.8,\"#7fbc41\"],[0.9,\"#4d9221\"],[1,\"#276419\"]],\"sequential\":[[0.0,\"#0d0887\"],[0.1111111111111111,\"#46039f\"],[0.2222222222222222,\"#7201a8\"],[0.3333333333333333,\"#9c179e\"],[0.4444444444444444,\"#bd3786\"],[0.5555555555555556,\"#d8576b\"],[0.6666666666666666,\"#ed7953\"],[0.7777777777777778,\"#fb9f3a\"],[0.8888888888888888,\"#fdca26\"],[1.0,\"#f0f921\"]],\"sequentialminus\":[[0.0,\"#0d0887\"],[0.1111111111111111,\"#46039f\"],[0.2222222222222222,\"#7201a8\"],[0.3333333333333333,\"#9c179e\"],[0.4444444444444444,\"#bd3786\"],[0.5555555555555556,\"#d8576b\"],[0.6666666666666666,\"#ed7953\"],[0.7777777777777778,\"#fb9f3a\"],[0.8888888888888888,\"#fdca26\"],[1.0,\"#f0f921\"]]},\"colorway\":[\"#636efa\",\"#EF553B\",\"#00cc96\",\"#ab63fa\",\"#FFA15A\",\"#19d3f3\",\"#FF6692\",\"#B6E880\",\"#FF97FF\",\"#FECB52\"],\"font\":{\"color\":\"#2a3f5f\"},\"geo\":{\"bgcolor\":\"white\",\"lakecolor\":\"white\",\"landcolor\":\"#E5ECF6\",\"showlakes\":true,\"showland\":true,\"subunitcolor\":\"white\"},\"hoverlabel\":{\"align\":\"left\"},\"hovermode\":\"closest\",\"mapbox\":{\"style\":\"light\"},\"paper_bgcolor\":\"white\",\"plot_bgcolor\":\"#E5ECF6\",\"polar\":{\"angularaxis\":{\"gridcolor\":\"white\",\"linecolor\":\"white\",\"ticks\":\"\"},\"bgcolor\":\"#E5ECF6\",\"radialaxis\":{\"gridcolor\":\"white\",\"linecolor\":\"white\",\"ticks\":\"\"}},\"scene\":{\"xaxis\":{\"backgroundcolor\":\"#E5ECF6\",\"gridcolor\":\"white\",\"gridwidth\":2,\"linecolor\":\"white\",\"showbackground\":true,\"ticks\":\"\",\"zerolinecolor\":\"white\"},\"yaxis\":{\"backgroundcolor\":\"#E5ECF6\",\"gridcolor\":\"white\",\"gridwidth\":2,\"linecolor\":\"white\",\"showbackground\":true,\"ticks\":\"\",\"zerolinecolor\":\"white\"},\"zaxis\":{\"backgroundcolor\":\"#E5ECF6\",\"gridcolor\":\"white\",\"gridwidth\":2,\"linecolor\":\"white\",\"showbackground\":true,\"ticks\":\"\",\"zerolinecolor\":\"white\"}},\"shapedefaults\":{\"line\":{\"color\":\"#2a3f5f\"}},\"ternary\":{\"aaxis\":{\"gridcolor\":\"white\",\"linecolor\":\"white\",\"ticks\":\"\"},\"baxis\":{\"gridcolor\":\"white\",\"linecolor\":\"white\",\"ticks\":\"\"},\"bgcolor\":\"#E5ECF6\",\"caxis\":{\"gridcolor\":\"white\",\"linecolor\":\"white\",\"ticks\":\"\"}},\"title\":{\"x\":0.05},\"xaxis\":{\"automargin\":true,\"gridcolor\":\"white\",\"linecolor\":\"white\",\"ticks\":\"\",\"title\":{\"standoff\":15},\"zerolinecolor\":\"white\",\"zerolinewidth\":2},\"yaxis\":{\"automargin\":true,\"gridcolor\":\"white\",\"linecolor\":\"white\",\"ticks\":\"\",\"title\":{\"standoff\":15},\"zerolinecolor\":\"white\",\"zerolinewidth\":2}}},\"xaxis\":{\"anchor\":\"y\",\"domain\":[0.0,1.0],\"title\":{\"text\":\"SEXO_VICTIMA\"}},\"yaxis\":{\"anchor\":\"x\",\"domain\":[0.0,1.0],\"title\":{\"text\":\"CLASE_VEHICULO_VICTIMA\"}},\"coloraxis\":{\"colorbar\":{\"title\":{\"text\":\"count\"}},\"colorscale\":[[0.0,\"#0d0887\"],[0.1111111111111111,\"#46039f\"],[0.2222222222222222,\"#7201a8\"],[0.3333333333333333,\"#9c179e\"],[0.4444444444444444,\"#bd3786\"],[0.5555555555555556,\"#d8576b\"],[0.6666666666666666,\"#ed7953\"],[0.7777777777777778,\"#fb9f3a\"],[0.8888888888888888,\"#fdca26\"],[1.0,\"#f0f921\"]]},\"legend\":{\"tracegroupgap\":0},\"margin\":{\"t\":60}},                        {\"responsive\": true}                    ).then(function(){\n",
              "                            \n",
              "var gd = document.getElementById('d148ea44-9780-49e2-bcac-bbd2aa21863d');\n",
              "var x = new MutationObserver(function (mutations, observer) {{\n",
              "        var display = window.getComputedStyle(gd).display;\n",
              "        if (!display || display === 'none') {{\n",
              "            console.log([gd, 'removed!']);\n",
              "            Plotly.purge(gd);\n",
              "            observer.disconnect();\n",
              "        }}\n",
              "}});\n",
              "\n",
              "// Listen for the removal of the full notebook cells\n",
              "var notebookContainer = gd.closest('#notebook-container');\n",
              "if (notebookContainer) {{\n",
              "    x.observe(notebookContainer, {childList: true});\n",
              "}}\n",
              "\n",
              "// Listen for the clearing of the current output cell\n",
              "var outputEl = gd.closest('.output');\n",
              "if (outputEl) {{\n",
              "    x.observe(outputEl, {childList: true});\n",
              "}}\n",
              "\n",
              "                        })                };                            </script>        </div>\n",
              "</body>\n",
              "</html>"
            ]
          },
          "metadata": {}
        }
      ]
    },
    {
      "cell_type": "code",
      "source": [
        "import seaborn as sns"
      ],
      "metadata": {
        "id": "8Z-ja8aHw9T3"
      },
      "execution_count": 12,
      "outputs": []
    },
    {
      "cell_type": "code",
      "source": [
        "sns.catplot(data = DATA,\n",
        "            kind = \"bar\",\n",
        "            estimator = sum,\n",
        "            x = \"CANTIDAD_VICTIMAS\",\n",
        "            y = \"GRAVEDAD_ACCIDENTE\",\n",
        "            hue = \"CLASE_VEHICULO_VICTIMA\",\n",
        "            col = \"SEXO_VICTIMA\",\n",
        "            palette = 'magma',\n",
        "            ci = None)"
      ],
      "metadata": {
        "colab": {
          "base_uri": "https://localhost:8080/",
          "height": 386
        },
        "id": "fz0261O3vxIa",
        "outputId": "2debb5a5-70d4-49ec-dbf7-821af06d3de5"
      },
      "execution_count": 13,
      "outputs": [
        {
          "output_type": "execute_result",
          "data": {
            "text/plain": [
              "<seaborn.axisgrid.FacetGrid at 0x7f51b1cd2d90>"
            ]
          },
          "metadata": {},
          "execution_count": 13
        },
        {
          "output_type": "display_data",
          "data": {
            "text/plain": [
              "<Figure size 875x360 with 2 Axes>"
            ],
            "image/png": "[encoded data removed]"
          },
          "metadata": {
            "needs_background": "light"
          }
        }
      ]
    },
    {
      "cell_type": "code",
      "source": [
        "html.P(\n",
        "    children=\"ACCIDENTALIDAD VEHICULAR EN LA CIUDAD DE BARRANQUILLA ENTRE LOS AÑOS 2016 Y 2018\"\n",
        "),\n",
        "html.P(\n",
        "    children=\" La base de datos se tomó del portal web de datos abiertos Colombia\"\n",
        "    \"Se cuenta con 10 variables y 3540 registros\"\n",
        ")"
      ],
      "metadata": {
        "colab": {
          "base_uri": "https://localhost:8080/"
        },
        "id": "-Pwm6JfXuOC4",
        "outputId": "7f2b211a-5272-4051-9499-15e43447a044"
      },
      "execution_count": 14,
      "outputs": [
        {
          "output_type": "execute_result",
          "data": {
            "text/plain": [
              "P(' La base de datos se tomó del portal web de datos abiertos ColombiaSe cuenta con 10 variables y 3540 registros')"
            ]
          },
          "metadata": {},
          "execution_count": 14
        }
      ]
    },
    {
      "cell_type": "code",
      "source": [
        "html.P(\n",
        "    children=\"Visualizaciones\"\n",
        ")"
      ],
      "metadata": {
        "colab": {
          "base_uri": "https://localhost:8080/"
        },
        "id": "Ib5061R5xzA4",
        "outputId": "a0aa40ee-023b-461e-f329-6598d7a8f3ff"
      },
      "execution_count": 15,
      "outputs": [
        {
          "output_type": "execute_result",
          "data": {
            "text/plain": [
              "P('Visualizaciones')"
            ]
          },
          "metadata": {},
          "execution_count": 15
        }
      ]
    },
    {
      "cell_type": "code",
      "source": [
        "html.Div([\n",
        "          html.H1(children='Gráfico 1. Donut Chart'),\n",
        "          html.Div(children='''\n",
        "          En esta gráfica podemos ver el porcentaje de los accidentes que pertenece a cada vehiculo incluido en el estudio.\n",
        "          '''),\n",
        "          dcc.Dropdown(\n",
        "              id='crossfilter_SEXO_VICTIMA',\n",
        "              options=[{'label': i, 'value': i} for i in available_SEXO_VICTIMA]\n",
        "              ),\n",
        "          dcc.Graph(\n",
        "              id='g2'\n",
        "          )\n",
        "          ])"
      ],
      "metadata": {
        "colab": {
          "base_uri": "https://localhost:8080/"
        },
        "id": "i0eS3nfNy5ZF",
        "outputId": "3ef2e10d-94c1-48ae-9169-62ed3231bb66"
      },
      "execution_count": 16,
      "outputs": [
        {
          "output_type": "execute_result",
          "data": {
            "text/plain": [
              "Div([H1('Gráfico 1. Donut Chart'), Div('\\n          En esta gráfica podemos ver el porcentaje de los accidentes que pertenece a cada vehiculo incluido en el estudio.\\n          '), Dropdown(options=[{'label': 'M', 'value': 'M'}, {'label': 'F', 'value': 'F'}], id='crossfilter_SEXO_VICTIMA'), Graph(id='g2')])"
            ]
          },
          "metadata": {},
          "execution_count": 16
        }
      ]
    },
    {
      "cell_type": "code",
      "source": [
        "html.Div([\n",
        "          html.H2(children='Gráfico 2. heat map'),\n",
        "          dcc.Graph(\n",
        "              id='g3',\n",
        "              figure=g1\n",
        "              ),\n",
        "          ],)"
      ],
      "metadata": {
        "colab": {
          "base_uri": "https://localhost:8080/"
        },
        "id": "OWVUqNav1cpv",
        "outputId": "9201f948-048f-402c-8f72-2d6f3526bdbe"
      },
      "execution_count": 17,
      "outputs": [
        {
          "output_type": "execute_result",
          "data": {
            "text/plain": [
              "Div([H2('Gráfico 2. heat map'), Graph(id='g3', figure=Figure({\n",
              "    'data': [{'coloraxis': 'coloraxis',\n",
              "              'hovertemplate': 'SEXO_VICTIMA=%{x}<br>CLASE_VEHICULO_VICTIMA=%{y}<br>count=%{z}<extra></extra>',\n",
              "              'name': '',\n",
              "              'type': 'histogram2d',\n",
              "              'x': array(['M', 'F', 'M', ..., 'F', 'M', 'M'], dtype=object),\n",
              "              'xaxis': 'x',\n",
              "              'xbingroup': 'x',\n",
              "              'y': array(['BUSETA', 'AUTOMOVIL', 'MOTOCICLETA', ..., 'AUTOMOVIL', 'MOTOCICLETA',\n",
              "                          'MOTOCICLETA'], dtype=object),\n",
              "              'yaxis': 'y',\n",
              "              'ybingroup': 'y'}],\n",
              "    'layout': {'coloraxis': {'colorbar': {'title': {'text': 'count'}},\n",
              "                             'colorscale': [[0.0, '#0d0887'], [0.1111111111111111,\n",
              "                                            '#46039f'], [0.2222222222222222,\n",
              "                                            '#7201a8'], [0.3333333333333333,\n",
              "                                            '#9c179e'], [0.4444444444444444,\n",
              "                                            '#bd3786'], [0.5555555555555556,\n",
              "                                            '#d8576b'], [0.6666666666666666,\n",
              "                                            '#ed7953'], [0.7777777777777778,\n",
              "                                            '#fb9f3a'], [0.8888888888888888,\n",
              "                                            '#fdca26'], [1.0, '#f0f921']]},\n",
              "               'legend': {'tracegroupgap': 0},\n",
              "               'margin': {'t': 60},\n",
              "               'template': '...',\n",
              "               'xaxis': {'anchor': 'y', 'domain': [0.0, 1.0], 'title': {'text': 'SEXO_VICTIMA'}},\n",
              "               'yaxis': {'anchor': 'x', 'domain': [0.0, 1.0], 'title': {'text': 'CLASE_VEHICULO_VICTIMA'}}}\n",
              "}))])"
            ]
          },
          "metadata": {},
          "execution_count": 17
        }
      ]
    },
    {
      "cell_type": "code",
      "source": [
        "@app.callback(\n",
        "    dash.dependencies.Output('g3', 'figure'),\n",
        "    [dash.dependencies.Input('crossfilter_CLASE_VEHICULO_ACCIDENTE', 'value')]\n",
        "    )\n",
        "def update_graph(CLASE_VEHICULO_ACCIDENTE_value):\n",
        "  cant_CLASE_VEHICULO_ACCIDENTE = cant[cant['CLASE_VEHICULO_ACCIDENTE'] == CLASE_VEHICULO_ACCIDENTE_value]\n",
        "  fig4 = px.scatter_geo(cant_CLASE_VEHICULO_ACCIDENTE,\n",
        "                      lat='y_geo',\n",
        "                      lon='x_geo',\n",
        "                      size=\"CANTIDAD_VICTIMAS\",\n",
        "                      center = {\"lat\": 10.9878, \"lon\": -74.7889})\n",
        "  fig4.update_layout(\n",
        "      title_text = 'Cantidad de accidentes',\n",
        "      showlegend = True,\n",
        "      geo = dict( scope = 'europe',\n",
        "                 landcolor = 'rgb(217, 217, 217)'\n",
        "                 )\n",
        "  )\n",
        "  \n",
        "  return fig4 "
      ],
      "metadata": {
        "id": "KbNZ5PnHm7C5"
      },
      "execution_count": 18,
      "outputs": []
    },
    {
      "cell_type": "code",
      "source": [
        "@app.callback(\n",
        "    dash.dependencies.Output('g2', 'figure'),\n",
        "    [dash.dependencies.Input('crossfilter_SEXO_VICTIMA', 'value')]\n",
        "    )\n",
        "def update_graph(SEXO_VICTIMA_value):\n",
        "  cant_SEXO_VICTIMA = cant1[cant1['SEXO_VICTIMA'] == SEXO_VICTIMA_value]\n",
        "  fig3 = px.scatter_geo(cant_SEXO_VICTIMA,\n",
        "                        lat='y_geo',\n",
        "                        lon='x_geo',\n",
        "                        size=\"SEXO_VICTIMAS\",\n",
        "                        center = {\"lat\": 10.9878, \"lon\": -74.7889})\n",
        "  return fig3 "
      ],
      "metadata": {
        "id": "2PmIuElV4xv2"
      },
      "execution_count": 19,
      "outputs": []
    },
    {
      "cell_type": "code",
      "source": [
        "if __name__ == \"__main__\":\n",
        "  app.run_server(debug=True)\n"
      ],
      "metadata": {
        "colab": {
          "base_uri": "https://localhost:8080/",
          "height": 304
        },
        "id": "aYWayv_0BiU-",
        "outputId": "a2d88d0d-729a-4ace-c006-73be7330ece7"
      },
      "execution_count": 20,
      "outputs": [
        {
          "output_type": "stream",
          "name": "stdout",
          "text": [
            "Dash is running on http://127.0.0.1:8050/\n",
            "\n",
            " * Serving Flask app \"__main__\" (lazy loading)\n",
            " * Environment: production\n",
            "\u001b[31m   WARNING: This is a development server. Do not use it in a production deployment.\u001b[0m\n",
            "\u001b[2m   Use a production WSGI server instead.\u001b[0m\n",
            " * Debug mode: on\n"
          ]
        },
        {
          "output_type": "error",
          "ename": "SystemExit",
          "evalue": "ignored",
          "traceback": [
            "An exception has occurred, use %tb to see the full traceback.\n",
            "\u001b[0;31mSystemExit\u001b[0m\u001b[0;31m:\u001b[0m 1\n"
          ]
        },
        {
          "output_type": "stream",
          "name": "stderr",
          "text": [
            "/usr/local/lib/python3.7/dist-packages/IPython/core/interactiveshell.py:2890: UserWarning:\n",
            "\n",
            "To exit: use 'exit', 'quit', or Ctrl-D.\n",
            "\n"
          ]
        }
      ]
    }
  ]
}